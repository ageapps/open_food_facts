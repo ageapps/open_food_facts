{
 "cells": [
  {
   "cell_type": "code",
   "execution_count": 152,
   "metadata": {},
   "outputs": [],
   "source": [
    "import pandas as pd\n",
    "import numpy as np\n",
    "import scipy as sp\n",
    "#import folium\n",
    "import re\n",
    "%matplotlib inline\n",
    "\n",
    "import matplotlib.pyplot as plt\n",
    "\n",
    "from sklearn.linear_model import LinearRegression, LogisticRegression\n",
    "from sklearn.preprocessing import OneHotEncoder\n",
    "from pandas.plotting import scatter_matrix\n",
    "from sklearn.model_selection import cross_val_predict\n",
    "from sklearn.model_selection import cross_val_score\n",
    "import seaborn as sns\n",
    "import time\n",
    "\n",
    "#from google.cloud import translate\n",
    "#import pycountry\n",
    "#import emoji\n",
    "\n",
    "#translate_client = translate.Client()\n",
    "\n",
    "import sys # for printing process\n",
    "import unidecode # for normalizing text\n",
    "from pathlib import Path # check files\n",
    "\n",
    "\n",
    "from py_translator import Translator\n",
    "translator = Translator()\n",
    "\n",
    "# from googletrans import Translator"
   ]
  },
  {
   "cell_type": "code",
   "execution_count": null,
   "metadata": {},
   "outputs": [],
   "source": []
  },
  {
   "cell_type": "code",
   "execution_count": 153,
   "metadata": {},
   "outputs": [],
   "source": [
    "data_folder = './data/'\n",
    "maps_folder = './maps/'"
   ]
  },
  {
   "cell_type": "code",
   "execution_count": 154,
   "metadata": {},
   "outputs": [],
   "source": [
    "# CONSTANTS\n",
    "# unknown values to use\n",
    "UNKNOWN_NR='-1'\n",
    "UNKNOWN_STR='unknown'\n",
    "# delay between translation requests\n",
    "TRANSLATION_DELAY=0.3\n",
    "# progress in function\n",
    "PROGRESS=0\n"
   ]
  },
  {
   "cell_type": "code",
   "execution_count": 186,
   "metadata": {},
   "outputs": [],
   "source": [
    "# removes special character, numbers, accents, sets to lower\n",
    "# case and removes trailing spaces\n",
    "def normalizeString(string):\n",
    "    cleaned=''.join([i for i in string if (i.isalnum() & ~i.isdigit()) | i.isspace() ])\n",
    "    return unidecode.unidecode(cleaned.lower().strip())\n",
    "\n",
    "def showProgress(size):\n",
    "    global PROGRESS \n",
    "    PROGRESS += 1\n",
    "    progress_value = int(10000*PROGRESS/size)/100\n",
    "    if (progress_value*100)%1==0:\n",
    "        sys.stdout.write('\\r'+'Progress {}%'.format(progress_value))\n",
    "        sys.stdout.flush()\n",
    "def removeDuplcates(array):\n",
    "    newItems=[]\n",
    "    for item in array:\n",
    "        if item and item not in newItems:\n",
    "            newItems.append(item)\n",
    "    \n",
    "    return newItems"
   ]
  },
  {
   "cell_type": "code",
   "execution_count": 156,
   "metadata": {},
   "outputs": [],
   "source": [
    "filename = 'en.openfoodfacts.org.products.csv'\n",
    "countryfile = 'wikipedia-iso-country-codes.csv'\n",
    "translationsfile = 'translations.csv'\n",
    "foodfile = 'food.csv'"
   ]
  },
  {
   "cell_type": "code",
   "execution_count": 157,
   "metadata": {},
   "outputs": [],
   "source": [
    "food_df = pd.read_csv(data_folder + filename, \n",
    "                      sep='\\t',\n",
    "                      header=0,\n",
    "                      quotechar='\"', \n",
    "                      low_memory=False)"
   ]
  },
  {
   "cell_type": "code",
   "execution_count": 178,
   "metadata": {},
   "outputs": [],
   "source": [
    "desired_columns=[\n",
    "    'ingredients_text'\n",
    "]\n",
    "result_column='ingredients_text'\n",
    "ingredients_df=food_df.head(120).copy()"
   ]
  },
  {
   "cell_type": "code",
   "execution_count": 159,
   "metadata": {},
   "outputs": [
    {
     "data": {
      "text/plain": [
       "['Rolled oats',\n",
       " ' grape concentrate',\n",
       " ' expeller pressed canola oil',\n",
       " ' sunflower seeds',\n",
       " ' almonds',\n",
       " ' walnuts oat bran',\n",
       " ' sesame seeds',\n",
       " ' cashews',\n",
       " ' natural vitamin e.']"
      ]
     },
     "execution_count": 159,
     "metadata": {},
     "output_type": "execute_result"
    }
   ],
   "source": [
    "test=ingredients_df[ingredients_df[result_column].notna()][result_column].loc[65]\n",
    "test_=test.split(',')\n",
    "test_"
   ]
  },
  {
   "cell_type": "code",
   "execution_count": 150,
   "metadata": {},
   "outputs": [
    {
     "data": {
      "text/plain": [
       "True"
      ]
     },
     "execution_count": 150,
     "metadata": {},
     "output_type": "execute_result"
    }
   ],
   "source": [
    "FOUND_MODULE = result_column in df.columns"
   ]
  },
  {
   "cell_type": "code",
   "execution_count": 160,
   "metadata": {},
   "outputs": [],
   "source": [
    "def removeCommonWords(value):\n",
    "    words=['long','grain','white','refined','concentrate','natural','dry','roasted','organic','bar','whole','rolled','seasoning','juice','extract']\n",
    "    value_=value\n",
    "    for word in words:\n",
    "        if word in value_:\n",
    "            value_=value_.replace(word,\"\")\n",
    "    return normalizeString(value_)\n",
    "\n",
    "def cleanIngredients(row):\n",
    "    showProgress(ingredients_df.shape[0])\n",
    "    if type(row) is not list and pd.notnull(row) :\n",
    "        values=row.split(',')\n",
    "        ingredients=[]\n",
    "        for item in values:\n",
    "            ingredient=item\n",
    "            # format key:value\n",
    "            # take only value\n",
    "            if (':') in ingredient:\n",
    "                info_ = ingredient.split(':')\n",
    "                if len(info_) == 2:\n",
    "                    ingredient=info_[1]\n",
    "            # format value (info)\n",
    "            # take only values\n",
    "            if ('(') in ingredient:\n",
    "                info_ = ingredient.split('(')\n",
    "                ingredient=info_[0]\n",
    "                \n",
    "            # format value [value,...]\n",
    "            # take all values\n",
    "            if ('[') in ingredient:\n",
    "                info_ = ingredient.split('[')\n",
    "                if len(info_) >= 2:\n",
    "                    ingredients.append(removeCommonWords(normalizeString(info_[0])))\n",
    "                    ingredient=info_[1]\n",
    "            # format value [value,...]\n",
    "            # take all values\n",
    "            if (' or ') in ingredient:\n",
    "                info_ = ingredient.split('or')\n",
    "                if len(info_) >= 2:\n",
    "                    ingredients.append(removeCommonWords(normalizeString(info_[0])))\n",
    "                    ingredient=info_[1]\n",
    "            # format value - info\n",
    "            # take only values\n",
    "            if (' - ') in ingredient:\n",
    "                info_ = ingredient.split('-')\n",
    "                ingredient=info_[0]\n",
    "                \n",
    "            # avoid empty strings and removeCommonWords\n",
    "            ingredient=removeCommonWords(normalizeString(ingredient))\n",
    "            if ingredient:\n",
    "                ingredients.append(ingredient)\n",
    "        \n",
    "        # remove duplicate elements\n",
    "        ingredients_=removeDuplcates(ingredients)\n",
    "        return ingredients_\n",
    "    else:\n",
    "        return row"
   ]
  },
  {
   "cell_type": "code",
   "execution_count": 169,
   "metadata": {},
   "outputs": [
    {
     "name": "stdout",
     "output_type": "stream",
     "text": [
      "0.01\n",
      "\r",
      "Progress 1.0%"
     ]
    },
    {
     "data": {
      "text/plain": [
       "['oats',\n",
       " 'grape',\n",
       " 'expeller pressed canola oil',\n",
       " 'sunflower seeds',\n",
       " 'almonds',\n",
       " 'walnuts oat bran',\n",
       " 'sesame seeds',\n",
       " 'cashews',\n",
       " 'vitamin e']"
      ]
     },
     "execution_count": 169,
     "metadata": {},
     "output_type": "execute_result"
    }
   ],
   "source": [
    "PROGRESS=0\n",
    "cleanIngredients(test)"
   ]
  },
  {
   "cell_type": "code",
   "execution_count": 113,
   "metadata": {},
   "outputs": [
    {
     "data": {
      "text/plain": [
       "'Organic rolled oats, flame raisins, organic coconut chips, organic maple syrup, sunflower oil, walnuts, roasted diced almonds, wheat germ, honey, crunchy almond butter (dry roasted almonds), hazelnuts, almonds, organic ground cinnamon, organic vanilla extract.'"
      ]
     },
     "execution_count": 113,
     "metadata": {},
     "output_type": "execute_result"
    }
   ],
   "source": [
    "test"
   ]
  },
  {
   "cell_type": "code",
   "execution_count": 189,
   "metadata": {},
   "outputs": [
    {
     "name": "stdout",
     "output_type": "stream",
     "text": [
      "Progress 100.0%"
     ]
    }
   ],
   "source": [
    "PROGRESS=0\n",
    "ingredients_df[result_column] = ingredients_df[result_column].apply(\n",
    "    lambda x: cleanIngredients(x)\n",
    ")"
   ]
  },
  {
   "cell_type": "code",
   "execution_count": 142,
   "metadata": {},
   "outputs": [
    {
     "data": {
      "text/plain": [
       "10    [erythorbate de sodium, caramel, tomate, mayon...\n",
       "15    [lait entier, sucre, amidon de mais, cacao, ag...\n",
       "22    [baguette poite vin pain baguette, fqrine de b...\n",
       "31    [paln suedois, farine de ble, eau, farine de s...\n",
       "33    [taboule, legumes, huile de colza, sel, menthe...\n",
       "34    [bananas, vegetable oil, corn oil andor palm o...\n",
       "35    [peanuts, wheat flour, sugar, rice flour, tapi...\n",
       "39    [fromage blanc  mg, creme de marron vanillee, ...\n",
       "44    [pain aux  cereqles, farine, gluten de ble, eu...\n",
       "46    [baguette bressan pain baguette, fqrine de ble...\n",
       "63    [hazelnuts, cashews, walnuts almonds, sunflowe...\n",
       "64                                            [polenta]\n",
       "65    [oats, grape, expeller pressed canola oil, sun...\n",
       "66                                               [rice]\n",
       "67    [org oats, org hemp granola, evaporated cane, ...\n",
       "68    [chocolate liquor, raw cane sugar, cocoa butte...\n",
       "69         [expeller pressed, high oleic sunflower oil]\n",
       "70                                       [adzuki beans]\n",
       "71                         [durum semolina wheat flour]\n",
       "72    [peanuts, peanut, canola oil, salt, sesame sti...\n",
       "73                                  [golden flax seeds]\n",
       "74    [pumpkin seeds, tamari, water and salt, garlic...\n",
       "76    [oats, honey, raisins, almonds, sunflower seed...\n",
       "77                                      [raw hazelnuts]\n",
       "78                        [bananas, coconut oil, sugar]\n",
       "79                                 [brown jasmine rice]\n",
       "80                                         [oat groats]\n",
       "81    [yogurt raisins, tamari  almonds, tamari  soy ...\n",
       "82    [chocolate stars, sweetened chocolate, cocoa b...\n",
       "83    [oats, evaporated cane, quinoa flakes, raisins...\n",
       "84    [almonds, hatch green chile, salt, enzymes, no...\n",
       "85    [peanut butter, palm oil, salt, honey, crispy ...\n",
       "86              [ancient sea salt with  trace minerals]\n",
       "87    [oats, expeller pressed canola oil, raisins, c...\n",
       "88         [cashews, sunflower oil, salt, black pepper]\n",
       "89    [cashews, curry, maltodextrin, spices, torula ...\n",
       "90    [almonds, wasabi spice, rice flour, evaporated...\n",
       "91                                            [coconut]\n",
       "92                                         [red quinoa]\n",
       "93    [coconut, brown rice syrup, dark chocolate coa...\n",
       "94    [semisweet chocolate chips, chocolate liquor, ...\n",
       "95    [oates, raisins, expeller pressed canola oil, ...\n",
       "96    [oats, evaporated cane, expeller pressed canol...\n",
       "97                            [raw cane demerara sugar]\n",
       "98    [oats, flame raisins, coconut chips, maple syr...\n",
       "99                                            [coconut]\n",
       "Name: ingredients_text, dtype: object"
      ]
     },
     "execution_count": 142,
     "metadata": {},
     "output_type": "execute_result"
    }
   ],
   "source": [
    "ingredients_df[ingredients_df[result_column].notna()][result_column]"
   ]
  }
 ],
 "metadata": {
  "kernelspec": {
   "display_name": "Python [conda env:ada]",
   "language": "python",
   "name": "conda-env-ada-py"
  },
  "language_info": {
   "codemirror_mode": {
    "name": "ipython",
    "version": 3
   },
   "file_extension": ".py",
   "mimetype": "text/x-python",
   "name": "python",
   "nbconvert_exporter": "python",
   "pygments_lexer": "ipython3",
   "version": "3.6.6"
  }
 },
 "nbformat": 4,
 "nbformat_minor": 2
}
