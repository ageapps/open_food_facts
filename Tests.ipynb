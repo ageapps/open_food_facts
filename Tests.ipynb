{
 "cells": [
  {
   "cell_type": "code",
   "execution_count": 1,
   "metadata": {},
   "outputs": [],
   "source": [
    "import pandas as pd\n",
    "import numpy as np\n",
    "import scipy as sp\n",
    "#import folium\n",
    "import re\n",
    "%matplotlib inline\n",
    "\n",
    "import matplotlib.pyplot as plt\n",
    "\n",
    "from sklearn.linear_model import LinearRegression, LogisticRegression\n",
    "from sklearn.preprocessing import OneHotEncoder\n",
    "from pandas.plotting import scatter_matrix\n",
    "from sklearn.model_selection import cross_val_predict\n",
    "from sklearn.model_selection import cross_val_score\n",
    "import seaborn as sns\n",
    "import time\n",
    "\n",
    "#from google.cloud import translate\n",
    "#import pycountry\n",
    "#import emoji\n",
    "\n",
    "#translate_client = translate.Client()\n",
    "\n",
    "import sys # for printing process\n",
    "import unidecode # for normalizing text\n",
    "from pathlib import Path # check files\n",
    "\n",
    "\n",
    "from py_translator import Translator\n",
    "translator = Translator()\n",
    "\n",
    "# from googletrans import Translator"
   ]
  },
  {
   "cell_type": "code",
   "execution_count": 79,
   "metadata": {},
   "outputs": [],
   "source": [
    "data_folder = './data/'\n",
    "maps_folder = './maps/'"
   ]
  },
  {
   "cell_type": "code",
   "execution_count": 80,
   "metadata": {},
   "outputs": [],
   "source": [
    "# CONSTANTS\n",
    "# unknown values to use\n",
    "UNKNOWN_NR='-1'\n",
    "UNKNOWN_STR='unknown'\n",
    "# delay between translation requests\n",
    "TRANSLATION_DELAY=0.3\n",
    "# progress in function\n",
    "PROGRESS=0\n"
   ]
  },
  {
   "cell_type": "code",
   "execution_count": 81,
   "metadata": {},
   "outputs": [],
   "source": [
    "def normalizeString(string):\n",
    "    cleaned=''.join([i for i in string if (i.isalnum() & ~i.isdigit()) | i.isspace() ])\n",
    "    return unidecode.unidecode(cleaned.lower().strip())\n",
    "def showProgress(size):\n",
    "    global PROGRESS \n",
    "    PROGRESS += 1\n",
    "    progress_value = int(100*PROGRESS/size)/100 \n",
    "    if (progress_value*100)%1==0:\n",
    "        sys.stdout.write('\\r'+'Progress {}%'.format(100*progress_value))\n",
    "        sys.stdout.flush()"
   ]
  },
  {
   "cell_type": "code",
   "execution_count": 3,
   "metadata": {},
   "outputs": [],
   "source": [
    "filename = 'en.openfoodfacts.org.products.csv'\n",
    "countryfile = 'wikipedia-iso-country-codes.csv'\n",
    "translationsfile = 'translations.csv'\n",
    "foodfile = 'food.csv'"
   ]
  },
  {
   "cell_type": "code",
   "execution_count": 4,
   "metadata": {},
   "outputs": [],
   "source": [
    "food_df = pd.read_csv(data_folder + filename, \n",
    "                      sep='\\t',\n",
    "                      header=0,\n",
    "                      quotechar='\"', \n",
    "                      low_memory=False)"
   ]
  },
  {
   "cell_type": "code",
   "execution_count": 106,
   "metadata": {},
   "outputs": [],
   "source": [
    "desired_columns=[\n",
    "    'ingredients_text'\n",
    "]\n",
    "result_column='ingredients_text'\n",
    "ingredients_df=food_df.head(100).copy()"
   ]
  },
  {
   "cell_type": "code",
   "execution_count": 121,
   "metadata": {},
   "outputs": [
    {
     "data": {
      "text/plain": [
       "10    antioxydant : érythorbate de sodium, colorant ...\n",
       "15    Lait entier, sucre, amidon de maïs, cacao, Aga...\n",
       "22    baguette Poite vin Pain baguette 50,6%: fqrine...\n",
       "31    Paln suédois 42,6%: farine de BLÉ, eau, farine...\n",
       "33    Taboulé 76,2%, légumes 12%, huile de colza, se...\n",
       "34    Bananas, vegetable oil (coconut oil, corn oil ...\n",
       "35    Peanuts, wheat flour, sugar, rice flour, tapio...\n",
       "39    FROMAGE BLANC 7.896 MG 73,304, crème de marron...\n",
       "44    pain aux 6 céréqles 61,7 % farine (farine de B...\n",
       "46    Bâguette Bressan Pain baguette 46,2%,' fqrine ...\n",
       "63    Organic hazelnuts, organic cashews, organic wa...\n",
       "64                                      Organic polenta\n",
       "65    Rolled oats, grape concentrate, expeller press...\n",
       "66                        Organic long grain white rice\n",
       "67    Org oats, org hemp granola (org oats, evaporat...\n",
       "68    Organic chocolate liquor, organic raw cane sug...\n",
       "69    Organic expeller pressed, refined high oleic s...\n",
       "70                                 Organic adzuki beans\n",
       "71           Organic refined durum semolina wheat flour\n",
       "72    Roasted peanuts (peanuts, peanut or canola oil...\n",
       "73                            Organic golden flax seeds\n",
       "74    Organic dry roasted pumpkin seeds, tamari (soy...\n",
       "76    Organic rolled oats, honey, raisins, almonds, ...\n",
       "77                               Organic raw hazelnuts.\n",
       "78    Organic bananas, organic coconut oil, organic ...\n",
       "79                           Organic brown jasmine rice\n",
       "80                                   Organic oat groats\n",
       "81    Yogurt raisins, tamari roasted almonds, organi...\n",
       "82    Chocolate stars (dehydrated cane juice, sweete...\n",
       "83    Organic rolled oats, organic evaporated cane j...\n",
       "84    Dry roasted almonds, hatch green chile seasoni...\n",
       "85    Peanut butter (dry roasted peanuts, palm oil, ...\n",
       "86         Ancient sea salt with natural trace minerals\n",
       "87    Organic whole rolled oats, organic expeller pr...\n",
       "88     Whole cashews, sunflower oil, salt, black pepper\n",
       "89    Cashews, curry seasoning (salt, maltodextrin, ...\n",
       "90    Almonds, wasabi spice (salt, rice flour, evapo...\n",
       "91                                      Organic coconut\n",
       "92                                   Organic red quinoa\n",
       "93    Coconut bar (coconut, brown rice syrup), dark ...\n",
       "94    Organic semi-sweet chocolate chips (organic su...\n",
       "95    Organic whole rolled oates, organic raisins, o...\n",
       "96    Organic rolled oats, organic evaporated cane j...\n",
       "97                             Raw cane demerara sugar.\n",
       "98    Organic rolled oats, flame raisins, organic co...\n",
       "99                                     Organic coconut.\n",
       "Name: ingredients_text, dtype: object"
      ]
     },
     "execution_count": 121,
     "metadata": {},
     "output_type": "execute_result"
    }
   ],
   "source": [
    "ingredients_df[ingredients_df['ingredients_text'].notna()]['ingredients_text']"
   ]
  },
  {
   "cell_type": "code",
   "execution_count": 119,
   "metadata": {},
   "outputs": [
    {
     "data": {
      "text/plain": [
       "['antioxydant : érythorbate de sodium',\n",
       " ' colorant : caramel - origine UE)',\n",
       " ' tomate 33',\n",
       " '3%',\n",
       " ' MAYONNAISE 11',\n",
       " '1% (huile de colza 78',\n",
       " '9%',\n",
       " ' eau',\n",
       " \" jaunes d'OEUF 6%\",\n",
       " ' vinaigre',\n",
       " ' MOUTARDE [eau',\n",
       " ' graines de MOUTARDE',\n",
       " ' sel',\n",
       " ' vinaigre',\n",
       " ' curcuma]',\n",
       " ' sel',\n",
       " ' dextrose',\n",
       " ' stabilisateur : gomme de cellulose',\n",
       " ' conservateur : sorbate de potassium',\n",
       " ' colorant : ?-carotène',\n",
       " ' arôme)']"
      ]
     },
     "execution_count": 119,
     "metadata": {},
     "output_type": "execute_result"
    }
   ],
   "source": [
    "test=ingredients_df[ingredients_df[result_column].notna()][result_column].loc[10]\n",
    "test_=test.split(',')\n",
    "test_"
   ]
  },
  {
   "cell_type": "code",
   "execution_count": 120,
   "metadata": {},
   "outputs": [
    {
     "name": "stdout",
     "output_type": "stream",
     "text": [
      "\r",
      "Progress 104.0%"
     ]
    },
    {
     "data": {
      "text/plain": [
       "['erythorbate de sodium',\n",
       " 'caramel',\n",
       " 'tomate',\n",
       " 'mayonnaise',\n",
       " 'eau',\n",
       " 'jaunes doeuf',\n",
       " 'vinaigre',\n",
       " 'moutarde',\n",
       " 'eau',\n",
       " 'graines de moutarde',\n",
       " 'sel',\n",
       " 'vinaigre',\n",
       " 'curcuma',\n",
       " 'sel',\n",
       " 'dextrose',\n",
       " 'gomme de cellulose',\n",
       " 'sorbate de potassium',\n",
       " 'carotene',\n",
       " 'arome']"
      ]
     },
     "execution_count": 120,
     "metadata": {},
     "output_type": "execute_result"
    }
   ],
   "source": [
    "cleanIngredients(test)"
   ]
  },
  {
   "cell_type": "code",
   "execution_count": 116,
   "metadata": {},
   "outputs": [],
   "source": [
    "def cleanIngredients(row):\n",
    "    showProgress(ingredients_df.shape[0])\n",
    "    if type(row) is not list and pd.notnull(row) :\n",
    "        values=row.split(',')\n",
    "        ingredients=[]\n",
    "        for item in values:\n",
    "            ingredient=item\n",
    "            # format key:value\n",
    "            # take only value\n",
    "            if (':') in ingredient:\n",
    "                info_ = ingredient.split(':')\n",
    "                if len(info_) == 2:\n",
    "                    ingredient=info_[1]\n",
    "            # format value (info)\n",
    "            # take only values\n",
    "            if ('(') in ingredient:\n",
    "                info_ = ingredient.split('(')\n",
    "                ingredient=info_[0]\n",
    "                \n",
    "            # format value [value,...]\n",
    "            # take all values\n",
    "            if ('[') in ingredient:\n",
    "                info_ = ingredient.split('[')\n",
    "                if len(info_) >= 2:\n",
    "                    ingredients.append(normalizeString(info_[0]))\n",
    "                    ingredient=info_[1]\n",
    "            # format value - info\n",
    "            # take only values\n",
    "            if (' - ') in ingredient:\n",
    "                info_ = ingredient.split('-')\n",
    "                ingredient=info_[0]\n",
    "                \n",
    "            # avoid empty strings\n",
    "            ingredient=normalizeString(ingredient)\n",
    "            if ingredient:\n",
    "                ingredients.append(ingredient)\n",
    "\n",
    "        return ingredients\n",
    "    else:\n",
    "        return row"
   ]
  },
  {
   "cell_type": "code",
   "execution_count": 123,
   "metadata": {},
   "outputs": [
    {
     "name": "stdout",
     "output_type": "stream",
     "text": [
      "Progress 100.0%"
     ]
    }
   ],
   "source": [
    "PROGRESS=0\n",
    "ingredients_df[result_column] = ingredients_df[result_column].apply(\n",
    "    lambda x: cleanIngredients(x)\n",
    ")"
   ]
  },
  {
   "cell_type": "code",
   "execution_count": 128,
   "metadata": {},
   "outputs": [
    {
     "data": {
      "text/plain": [
       "10    [erythorbate de sodium, caramel, tomate, mayon...\n",
       "15    [lait entier, sucre, amidon de mais, cacao, ag...\n",
       "22    [baguette poite vin pain baguette, fqrine de b...\n",
       "31    [paln suedois, farine de ble, eau, farine de s...\n",
       "33    [taboule, legumes, huile de colza, sel, menthe...\n",
       "34    [bananas, vegetable oil, corn oil andor palm o...\n",
       "35    [peanuts, wheat flour, sugar, rice flour, tapi...\n",
       "39    [fromage blanc  mg, creme de marron vanillee, ...\n",
       "44    [pain aux  cereqles, farine, gluten de ble, eu...\n",
       "46    [baguette bressan pain baguette, fqrine de ble...\n",
       "63    [organic hazelnuts, organic cashews, organic w...\n",
       "64                                    [organic polenta]\n",
       "65    [rolled oats, grape concentrate, expeller pres...\n",
       "66                      [organic long grain white rice]\n",
       "67    [org oats, org hemp granola, evaporated cane j...\n",
       "68    [organic chocolate liquor, organic raw cane su...\n",
       "69    [organic expeller pressed, refined high oleic ...\n",
       "70                               [organic adzuki beans]\n",
       "71         [organic refined durum semolina wheat flour]\n",
       "72    [roasted peanuts, peanut or canola oil, salt, ...\n",
       "73                          [organic golden flax seeds]\n",
       "74    [organic dry roasted pumpkin seeds, tamari, wa...\n",
       "76    [organic rolled oats, honey, raisins, almonds,...\n",
       "77                              [organic raw hazelnuts]\n",
       "78    [organic bananas, organic coconut oil, organic...\n",
       "79                         [organic brown jasmine rice]\n",
       "80                                 [organic oat groats]\n",
       "81    [yogurt raisins, tamari roasted almonds, organ...\n",
       "82    [chocolate stars, sweetened chocolate, cocoa b...\n",
       "83    [organic rolled oats, organic evaporated cane ...\n",
       "84    [dry roasted almonds, hatch green chile season...\n",
       "85    [peanut butter, palm oil, salt, honey, crispy ...\n",
       "86       [ancient sea salt with natural trace minerals]\n",
       "87    [organic whole rolled oats, organic expeller p...\n",
       "88    [whole cashews, sunflower oil, salt, black pep...\n",
       "89    [cashews, curry seasoning, maltodextrin, spice...\n",
       "90    [almonds, wasabi spice, rice flour, evaporated...\n",
       "91                                    [organic coconut]\n",
       "92                                 [organic red quinoa]\n",
       "93    [coconut bar, brown rice syrup, dark chocolate...\n",
       "94    [organic semisweet chocolate chips, organic ch...\n",
       "95    [organic whole rolled oates, organic raisins, ...\n",
       "96    [organic rolled oats, organic evaporated cane ...\n",
       "97                            [raw cane demerara sugar]\n",
       "98    [organic rolled oats, flame raisins, organic c...\n",
       "99                                    [organic coconut]\n",
       "Name: ingredients_text, dtype: object"
      ]
     },
     "execution_count": 128,
     "metadata": {},
     "output_type": "execute_result"
    }
   ],
   "source": [
    "ingredients_df[ingredients_df[result_column].notna()][result_column]"
   ]
  }
 ],
 "metadata": {
  "kernelspec": {
   "display_name": "Python [conda env:ada]",
   "language": "python",
   "name": "conda-env-ada-py"
  },
  "language_info": {
   "codemirror_mode": {
    "name": "ipython",
    "version": 3
   },
   "file_extension": ".py",
   "mimetype": "text/x-python",
   "name": "python",
   "nbconvert_exporter": "python",
   "pygments_lexer": "ipython3",
   "version": "3.6.6"
  }
 },
 "nbformat": 4,
 "nbformat_minor": 2
}
