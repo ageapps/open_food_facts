{
 "cells": [
  {
   "cell_type": "markdown",
   "metadata": {},
   "source": [
    "# Open Food Facts Notebook\n",
    "## Table of Contents\n",
    "1. [Helper Functions](#Helper-Functions) \n",
    "2. [Cleaning Data](#cleaning_data)  \n",
    "    2.1 [Fill in missing Product Name](#product_name)  \n",
    "    2.2 [Fill in Missing Values for Country](#country)  \n",
    "    2.3 [Fill in Missing Nutrion Scores](#nutrition-scores)  \n",
    "    2.4 [Fill in Missing Allergens](#allergens)  \n",
    "    2.5 [Fill in Missing Traces](#traces)  \n",
    "    2.6 [Fill/Clean Ingredients](#ingredients)  \n",
    "    2.7 [Fill/Clean Labels](#labels_column)  \n",
    "    2.8 [Clean float64 Columns](#float64_col) \n",
    "    2.9 [Processing Data](#processing_data)  \n",
    "3. [Data Visualization & Analysis](#data_analysis)  \n",
    "    3.1 [Maps](#Maps)  \n",
    "    3.2 [Correlations Between Neighbouring Countries](#correlation_neighbours)"
   ]
  },
  {
   "cell_type": "markdown",
   "metadata": {},
   "source": [
    "# Imports"
   ]
  },
  {
   "cell_type": "code",
   "execution_count": 2,
   "metadata": {},
   "outputs": [],
   "source": [
    "import pandas as pd\n",
    "import numpy as np\n",
    "import scipy as sp\n",
    "import folium\n",
    "import json\n",
    "import re, os\n",
    "%matplotlib inline\n",
    "\n",
    "import matplotlib.pyplot as plt\n",
    "\n",
    "from sklearn.linear_model import LinearRegression, LogisticRegression\n",
    "from sklearn.preprocessing import OneHotEncoder\n",
    "from pandas.plotting import scatter_matrix\n",
    "from sklearn.model_selection import cross_val_predict\n",
    "from sklearn.model_selection import cross_val_score\n",
    "import seaborn as sns\n",
    "import time\n",
    "\n",
    "#from google.cloud import translate\n",
    "#import pycountry\n",
    "#import emoji\n",
    "\n",
    "#translate_client = translate.Client()\n",
    "\n",
    "import sys # for printing process\n",
    "import unidecode # for normalizing text\n",
    "from pathlib import Path # check files\n",
    "\n",
    "\n",
    "#from py_translator import Translator\n",
    "from google.cloud import translate\n",
    "translator = translate.Client()"
   ]
  },
  {
   "cell_type": "markdown",
   "metadata": {},
   "source": [
    "Setup path to Google Cloud Translation API credentials JSON"
   ]
  },
  {
   "cell_type": "code",
   "execution_count": 11,
   "metadata": {},
   "outputs": [
    {
     "name": "stdout",
     "output_type": "stream",
     "text": [
      "/Users/age/keys/ADA-translation-1fb38fd06474.json\n"
     ]
    }
   ],
   "source": [
    "import os\n",
    "os.environ['GOOGLE_APPLICATION_CREDENTIALS']=os.environ['HOME'] + \"/keys/ADA-translation-1fb38fd06474.json\"\n",
    "print(os.environ['GOOGLE_APPLICATION_CREDENTIALS'])"
   ]
  },
  {
   "cell_type": "markdown",
   "metadata": {},
   "source": [
    "Quick test of the API"
   ]
  },
  {
   "cell_type": "code",
   "execution_count": 12,
   "metadata": {},
   "outputs": [
    {
     "data": {
      "text/plain": [
       "'Hello'"
      ]
     },
     "execution_count": 12,
     "metadata": {},
     "output_type": "execute_result"
    }
   ],
   "source": [
    "translator.translate('hola', target_language='en')['translatedText']"
   ]
  },
  {
   "cell_type": "markdown",
   "metadata": {},
   "source": [
    "We need to create a data folder where the .csv file will be stored and also a maps folder where .html maps will be stored. Throughout the project, the following constants will be needed."
   ]
  },
  {
   "cell_type": "code",
   "execution_count": 3,
   "metadata": {},
   "outputs": [],
   "source": [
    "# CONSTANTS\n",
    "\n",
    "# General parameters\n",
    "# unknown values to use\n",
    "UNKNOWN_NR='-1'\n",
    "UNKNOWN_STR='unknown'\n",
    "# delay between translation requests\n",
    "TRANSLATION_DELAY=0.5\n",
    "# progress in function\n",
    "PROGRESS=0\n",
    "\n",
    "# Folders\n",
    "data_folder = './data/'\n",
    "maps_folder = './maps/'\n",
    "\n",
    "# File names\n",
    "filename = 'en.openfoodfacts.org.products.csv'\n",
    "countryfile = 'wikipedia-iso-country-codes.csv'\n",
    "country_json_file = 'world-countries.json'\n",
    "translationsfile = 'translations.csv'\n",
    "foodfile = 'food.csv'"
   ]
  },
  {
   "cell_type": "code",
   "execution_count": 4,
   "metadata": {},
   "outputs": [],
   "source": [
    "# Columns used for analysis from the csv file\n",
    "using_col = [\n",
    "    \"product_name\",\n",
    "    \"generic_name\",\n",
    "    \"quantity\",\n",
    "    \"brands\",\n",
    "    \"brands_tags\",\n",
    "    \"categories\",\n",
    "    \"categories_tags\",\n",
    "    \"categories_en\",\n",
    "    \"manufacturing_places\",\n",
    "    \"manufacturing_places_tags\",\n",
    "    \"labels\",\n",
    "    \"labels_tags\",\n",
    "    \"labels_en\",\n",
    "    \"purchase_places\",\n",
    "    \"countries\",\n",
    "    \"countries_tags\",\n",
    "    \"countries_en\",\n",
    "    \"ingredients_text\",\n",
    "    \"allergens\",\n",
    "    \"allergens_en\",\n",
    "    \"traces\",\n",
    "    \"traces_tags\",\n",
    "    \"traces_en\",\n",
    "    \"nutrition_grade_uk\",\n",
    "    \"nutrition_grade_fr\",\n",
    "    \"main_category\",\n",
    "    \"main_category_en\",\n",
    "    \"energy_100g\",\n",
    "    \"energy-from-fat_100g\",\n",
    "    \"fat_100g\",\n",
    "    \"saturated-fat_100g\",\n",
    "    \"trans-fat_100g\",\n",
    "    \"cholesterol_100g\",\n",
    "    \"carbohydrates_100g\",\n",
    "    \"sugars_100g\",\n",
    "    \"fiber_100g\",\n",
    "    \"proteins_100g\",\n",
    "    \"salt_100g\",\n",
    "    \"sodium_100g\",\n",
    "    \"alcohol_100g\",\n",
    "    \"calcium_100g\",\n",
    "    \"iron_100g\",\n",
    "    \"carbon-footprint_100g\",\n",
    "    \"nutrition-score-fr_100g\",\n",
    "    \"nutrition-score-uk_100g\",\n",
    "    \"glycemic-index_100g\"\n",
    "]"
   ]
  },
  {
   "cell_type": "code",
   "execution_count": 15,
   "metadata": {},
   "outputs": [
    {
     "name": "stdout",
     "output_type": "stream",
     "text": [
      "Translations file found\n",
      "15862 translations found\n"
     ]
    }
   ],
   "source": [
    "# cache translations to save translation requests and $$$\n",
    "translations_file = Path(data_folder + translationsfile)\n",
    "translations = {}\n",
    "\n",
    "if not translations_file.is_file():\n",
    "    print('Translations file not found')\n",
    "else:\n",
    "    print('Translations file found')\n",
    "    translations = pd.read_csv(data_folder + translationsfile, \n",
    "                               sep='\\t',\n",
    "                               low_memory=False).to_dict(\"records\")[0]\n",
    "    print('{} translations found'.format(len(translations)))"
   ]
  },
  {
   "cell_type": "code",
   "execution_count": 5,
   "metadata": {},
   "outputs": [
    {
     "name": "stdout",
     "output_type": "stream",
     "text": [
      "Food file found\n",
      "725681 Food entries found\n"
     ]
    }
   ],
   "source": [
    "food_file = Path(data_folder + foodfile)\n",
    "food_df = pd.DataFrame()\n",
    "\n",
    "if not food_file.is_file():\n",
    "    print('Food file not found')\n",
    "    food_df = pd.read_csv(data_folder + filename, \n",
    "                      sep='\\t',\n",
    "                      usecols = using_col,\n",
    "                      quotechar='\"', \n",
    "                      low_memory=False)\n",
    "else:\n",
    "    print('Food file found')\n",
    "    food_df = pd.read_csv(data_folder + foodfile, \n",
    "                      sep='\\t',\n",
    "                      low_memory=False)\n",
    "    print('{} Food entries found'.format(len(food_df)))\n"
   ]
  },
  {
   "cell_type": "code",
   "execution_count": 32,
   "metadata": {},
   "outputs": [],
   "source": [
    "final_df = food_df.copy()"
   ]
  },
  {
   "cell_type": "code",
   "execution_count": 17,
   "metadata": {},
   "outputs": [
    {
     "name": "stdout",
     "output_type": "stream",
     "text": [
      "The types of the data set are: \n",
      " product_name                  object\n",
      "generic_name                  object\n",
      "quantity                      object\n",
      "brands                        object\n",
      "brands_tags                   object\n",
      "categories                    object\n",
      "categories_tags               object\n",
      "categories_en                 object\n",
      "manufacturing_places          object\n",
      "manufacturing_places_tags     object\n",
      "labels                        object\n",
      "labels_tags                   object\n",
      "labels_en                     object\n",
      "purchase_places               object\n",
      "countries                     object\n",
      "countries_tags                object\n",
      "countries_en                  object\n",
      "ingredients_text              object\n",
      "allergens                     object\n",
      "allergens_en                  object\n",
      "traces                        object\n",
      "traces_tags                   object\n",
      "traces_en                     object\n",
      "nutrition_grade_uk           float64\n",
      "nutrition_grade_fr            object\n",
      "main_category                 object\n",
      "main_category_en              object\n",
      "energy_100g                  float64\n",
      "energy-from-fat_100g         float64\n",
      "fat_100g                     float64\n",
      "saturated-fat_100g           float64\n",
      "trans-fat_100g               float64\n",
      "cholesterol_100g             float64\n",
      "carbohydrates_100g           float64\n",
      "sugars_100g                  float64\n",
      "fiber_100g                   float64\n",
      "proteins_100g                float64\n",
      "salt_100g                    float64\n",
      "sodium_100g                  float64\n",
      "alcohol_100g                 float64\n",
      "calcium_100g                 float64\n",
      "iron_100g                    float64\n",
      "carbon-footprint_100g        float64\n",
      "nutrition-score-fr_100g      float64\n",
      "nutrition-score-uk_100g      float64\n",
      "glycemic-index_100g          float64\n",
      "dtype: object\n",
      "The total size of the data set is: (693846, 46)\n"
     ]
    },
    {
     "data": {
      "text/html": [
       "<div>\n",
       "<style scoped>\n",
       "    .dataframe tbody tr th:only-of-type {\n",
       "        vertical-align: middle;\n",
       "    }\n",
       "\n",
       "    .dataframe tbody tr th {\n",
       "        vertical-align: top;\n",
       "    }\n",
       "\n",
       "    .dataframe thead th {\n",
       "        text-align: right;\n",
       "    }\n",
       "</style>\n",
       "<table border=\"1\" class=\"dataframe\">\n",
       "  <thead>\n",
       "    <tr style=\"text-align: right;\">\n",
       "      <th></th>\n",
       "      <th>product_name</th>\n",
       "      <th>generic_name</th>\n",
       "      <th>quantity</th>\n",
       "      <th>brands</th>\n",
       "      <th>brands_tags</th>\n",
       "      <th>categories</th>\n",
       "      <th>categories_tags</th>\n",
       "      <th>categories_en</th>\n",
       "      <th>manufacturing_places</th>\n",
       "      <th>manufacturing_places_tags</th>\n",
       "      <th>...</th>\n",
       "      <th>proteins_100g</th>\n",
       "      <th>salt_100g</th>\n",
       "      <th>sodium_100g</th>\n",
       "      <th>alcohol_100g</th>\n",
       "      <th>calcium_100g</th>\n",
       "      <th>iron_100g</th>\n",
       "      <th>carbon-footprint_100g</th>\n",
       "      <th>nutrition-score-fr_100g</th>\n",
       "      <th>nutrition-score-uk_100g</th>\n",
       "      <th>glycemic-index_100g</th>\n",
       "    </tr>\n",
       "  </thead>\n",
       "  <tbody>\n",
       "    <tr>\n",
       "      <th>0</th>\n",
       "      <td>Vitória crackers</td>\n",
       "      <td>NaN</td>\n",
       "      <td>NaN</td>\n",
       "      <td>NaN</td>\n",
       "      <td>NaN</td>\n",
       "      <td>NaN</td>\n",
       "      <td>NaN</td>\n",
       "      <td>NaN</td>\n",
       "      <td>NaN</td>\n",
       "      <td>NaN</td>\n",
       "      <td>...</td>\n",
       "      <td>7.8</td>\n",
       "      <td>1.40</td>\n",
       "      <td>0.551181</td>\n",
       "      <td>NaN</td>\n",
       "      <td>NaN</td>\n",
       "      <td>NaN</td>\n",
       "      <td>NaN</td>\n",
       "      <td>NaN</td>\n",
       "      <td>NaN</td>\n",
       "      <td>NaN</td>\n",
       "    </tr>\n",
       "    <tr>\n",
       "      <th>1</th>\n",
       "      <td>Cacao</td>\n",
       "      <td>NaN</td>\n",
       "      <td>130 g</td>\n",
       "      <td>NaN</td>\n",
       "      <td>NaN</td>\n",
       "      <td>NaN</td>\n",
       "      <td>NaN</td>\n",
       "      <td>NaN</td>\n",
       "      <td>NaN</td>\n",
       "      <td>NaN</td>\n",
       "      <td>...</td>\n",
       "      <td>NaN</td>\n",
       "      <td>NaN</td>\n",
       "      <td>NaN</td>\n",
       "      <td>NaN</td>\n",
       "      <td>NaN</td>\n",
       "      <td>NaN</td>\n",
       "      <td>NaN</td>\n",
       "      <td>NaN</td>\n",
       "      <td>NaN</td>\n",
       "      <td>NaN</td>\n",
       "    </tr>\n",
       "    <tr>\n",
       "      <th>2</th>\n",
       "      <td>Sauce Sweety chili 0%</td>\n",
       "      <td>NaN</td>\n",
       "      <td>NaN</td>\n",
       "      <td>NaN</td>\n",
       "      <td>NaN</td>\n",
       "      <td>NaN</td>\n",
       "      <td>NaN</td>\n",
       "      <td>NaN</td>\n",
       "      <td>NaN</td>\n",
       "      <td>NaN</td>\n",
       "      <td>...</td>\n",
       "      <td>0.2</td>\n",
       "      <td>2.04</td>\n",
       "      <td>0.803150</td>\n",
       "      <td>NaN</td>\n",
       "      <td>NaN</td>\n",
       "      <td>NaN</td>\n",
       "      <td>NaN</td>\n",
       "      <td>NaN</td>\n",
       "      <td>NaN</td>\n",
       "      <td>NaN</td>\n",
       "    </tr>\n",
       "    <tr>\n",
       "      <th>3</th>\n",
       "      <td>Mendiants</td>\n",
       "      <td>NaN</td>\n",
       "      <td>NaN</td>\n",
       "      <td>NaN</td>\n",
       "      <td>NaN</td>\n",
       "      <td>NaN</td>\n",
       "      <td>NaN</td>\n",
       "      <td>NaN</td>\n",
       "      <td>NaN</td>\n",
       "      <td>NaN</td>\n",
       "      <td>...</td>\n",
       "      <td>NaN</td>\n",
       "      <td>NaN</td>\n",
       "      <td>NaN</td>\n",
       "      <td>NaN</td>\n",
       "      <td>NaN</td>\n",
       "      <td>NaN</td>\n",
       "      <td>NaN</td>\n",
       "      <td>NaN</td>\n",
       "      <td>NaN</td>\n",
       "      <td>NaN</td>\n",
       "    </tr>\n",
       "    <tr>\n",
       "      <th>4</th>\n",
       "      <td>Salade de carottes râpées</td>\n",
       "      <td>NaN</td>\n",
       "      <td>NaN</td>\n",
       "      <td>NaN</td>\n",
       "      <td>NaN</td>\n",
       "      <td>NaN</td>\n",
       "      <td>NaN</td>\n",
       "      <td>NaN</td>\n",
       "      <td>NaN</td>\n",
       "      <td>NaN</td>\n",
       "      <td>...</td>\n",
       "      <td>0.9</td>\n",
       "      <td>0.42</td>\n",
       "      <td>0.165354</td>\n",
       "      <td>NaN</td>\n",
       "      <td>NaN</td>\n",
       "      <td>NaN</td>\n",
       "      <td>NaN</td>\n",
       "      <td>NaN</td>\n",
       "      <td>NaN</td>\n",
       "      <td>NaN</td>\n",
       "    </tr>\n",
       "  </tbody>\n",
       "</table>\n",
       "<p>5 rows × 46 columns</p>\n",
       "</div>"
      ],
      "text/plain": [
       "                product_name generic_name quantity brands brands_tags  \\\n",
       "0           Vitória crackers          NaN      NaN    NaN         NaN   \n",
       "1                      Cacao          NaN    130 g    NaN         NaN   \n",
       "2      Sauce Sweety chili 0%          NaN      NaN    NaN         NaN   \n",
       "3                  Mendiants          NaN      NaN    NaN         NaN   \n",
       "4  Salade de carottes râpées          NaN      NaN    NaN         NaN   \n",
       "\n",
       "  categories categories_tags categories_en manufacturing_places  \\\n",
       "0        NaN             NaN           NaN                  NaN   \n",
       "1        NaN             NaN           NaN                  NaN   \n",
       "2        NaN             NaN           NaN                  NaN   \n",
       "3        NaN             NaN           NaN                  NaN   \n",
       "4        NaN             NaN           NaN                  NaN   \n",
       "\n",
       "  manufacturing_places_tags         ...         proteins_100g salt_100g  \\\n",
       "0                       NaN         ...                   7.8      1.40   \n",
       "1                       NaN         ...                   NaN       NaN   \n",
       "2                       NaN         ...                   0.2      2.04   \n",
       "3                       NaN         ...                   NaN       NaN   \n",
       "4                       NaN         ...                   0.9      0.42   \n",
       "\n",
       "  sodium_100g alcohol_100g calcium_100g iron_100g carbon-footprint_100g  \\\n",
       "0    0.551181          NaN          NaN       NaN                   NaN   \n",
       "1         NaN          NaN          NaN       NaN                   NaN   \n",
       "2    0.803150          NaN          NaN       NaN                   NaN   \n",
       "3         NaN          NaN          NaN       NaN                   NaN   \n",
       "4    0.165354          NaN          NaN       NaN                   NaN   \n",
       "\n",
       "  nutrition-score-fr_100g nutrition-score-uk_100g glycemic-index_100g  \n",
       "0                     NaN                     NaN                 NaN  \n",
       "1                     NaN                     NaN                 NaN  \n",
       "2                     NaN                     NaN                 NaN  \n",
       "3                     NaN                     NaN                 NaN  \n",
       "4                     NaN                     NaN                 NaN  \n",
       "\n",
       "[5 rows x 46 columns]"
      ]
     },
     "execution_count": 17,
     "metadata": {},
     "output_type": "execute_result"
    }
   ],
   "source": [
    "print(\"The types of the data set are: \\n\", format(food_df.dtypes))\n",
    "print (\"The total size of the data set is:\", format(food_df.shape) )\n",
    "food_df.head(5)"
   ]
  },
  {
   "cell_type": "markdown",
   "metadata": {},
   "source": [
    "# Helper Functions \n",
    "[[up](#Table-of-Contents)]"
   ]
  },
  {
   "cell_type": "code",
   "execution_count": 18,
   "metadata": {},
   "outputs": [],
   "source": [
    "# Gets the first non null value from gibben collumns in priority order\n",
    "def getValueWithPriorityColumns(input_row, merging_columns):\n",
    "    for column in merging_columns:\n",
    "        if pd.notnull(input_row[column]):\n",
    "            return input_row[column]\n",
    "    return input_row[merging_columns[0]]\n",
    "\n",
    "# Merges from a input DF the desired columns into a result column\n",
    "def mergeColumnsFromDF(input_df, desired_columns, result_column):\n",
    "    if result_column in input_df.columns:\n",
    "        return input_df\n",
    "\n",
    "    input_df[result_column] = input_df.apply(\n",
    "        lambda x: getValueWithPriorityColumns(x,desired_columns),\n",
    "        axis = 1\n",
    "    )\n",
    "    for column in desired_columns:\n",
    "        if column in input_df.columns:\n",
    "            input_df = input_df.drop(column, axis=1)\n",
    "\n",
    "    return input_df\n"
   ]
  },
  {
   "cell_type": "code",
   "execution_count": 19,
   "metadata": {},
   "outputs": [],
   "source": [
    "# Translates a value and saves it to translations cache dict\n",
    "def translateWithCache(value):\n",
    "    global translations\n",
    "    # search translated word in translations map\n",
    "    if value in translations:\n",
    "        # print(\"Cached  {} -> {}\".format(value,translations[value]))\n",
    "        return translations[value]\n",
    "    else:\n",
    "        try:\n",
    "            #print(1)\n",
    "            time.sleep(TRANSLATION_DELAY) \n",
    "            #print(2)\n",
    "            trns_value = translator.translate(value, target_language='en')\n",
    "            if not trns_value is None:\n",
    "                new_translation=trns_value['translatedText'].lower()\n",
    "                #print(\"Translating {} -> {}\".format(value,new_translation))\n",
    "                translations[value]=new_translation\n",
    "                return new_translation\n",
    "            else:\n",
    "                print(\"None {} / {} / {}\".format(value,type(value), e))\n",
    "        except Exception as e:\n",
    "            #err = e\n",
    "            print(\"Exception {} / {} / {}\".format(value,type(value), e))\n",
    "        return value"
   ]
  },
  {
   "cell_type": "code",
   "execution_count": 211,
   "metadata": {},
   "outputs": [],
   "source": [
    "# Save to file translations dict\n",
    "def saveTranslations():\n",
    "    pd.DataFrame.from_dict(translations,orient=\"index\").T.to_csv(data_folder + translationsfile,sep='\\t',index=False)\n",
    "\n",
    "# Save to file a dataframe with gibben name\n",
    "def saveModuleDF(name,df):\n",
    "    df.to_csv(data_folder + name + '.csv', sep='\\t',index=False)\n",
    "    print('Saved module: {}'.format(name))\n",
    "\n",
    "# Save to file food dataframe \n",
    "def saveFinalDF(df):\n",
    "    global final_df \n",
    "    final_df = df.copy()\n",
    "    saveModuleDF('food',df)\n",
    "\n",
    "# Looks for existing file saved and returns it if found or a food_df copy\n",
    "def getModuleDF(name):\n",
    "    file_name=data_folder + name + '.csv'\n",
    "    file = Path(file_name)\n",
    "\n",
    "    if not file.is_file():\n",
    "        print('{} file not found'.format(name))\n",
    "        return final_df.copy()\n",
    "    else:\n",
    "        print('{} file found'.format(name))\n",
    "        df = pd.read_csv(file_name, \n",
    "                          sep='\\t',\n",
    "                          low_memory=False)\n",
    "        print('{} {} entries found'.format(len(df),name))\n",
    "        return df\n",
    "\n",
    "    \n",
    "    \n",
    "# Removes special character, numbers, accents, sets to lower case and removes trailing spaces\n",
    "def normalizeString(string):\n",
    "    cleaned=''.join([i for i in string if (i.isalnum() & ~i.isdigit()) | i.isspace() ])\n",
    "    # return unidecode.unidecode(cleaned.lower().strip())\n",
    "    return cleaned.lower().strip()\n",
    "\n",
    "# Removes array without duplicate values\n",
    "def removeDuplcates(array):\n",
    "    newItems=[]\n",
    "    for item in array:\n",
    "        if item and item not in newItems:\n",
    "            newItems.append(item)\n",
    "    \n",
    "    return newItems\n"
   ]
  },
  {
   "cell_type": "code",
   "execution_count": 21,
   "metadata": {},
   "outputs": [],
   "source": [
    "# Shows progress during processing\n",
    "def showProgress(size):\n",
    "    global PROGRESS \n",
    "    PROGRESS += 1\n",
    "    progress_value = int(10000*PROGRESS/size)/100\n",
    "    if (progress_value*100)%1==0:\n",
    "        sys.stdout.write('\\r'+'Progress {}%'.format(progress_value))\n",
    "        sys.stdout.flush()\n",
    "        \n",
    "# Show NaN percentage of column values in input df    \n",
    "def showNanPercentage(df,desired_columns):\n",
    "    for column in desired_columns:\n",
    "        print(\"Percentage of NaN in {} is {:.2f}%\".format(column,100*len(df[df[column].isna()])/len(df) ))\n",
    "        "
   ]
  },
  {
   "cell_type": "code",
   "execution_count": 22,
   "metadata": {},
   "outputs": [],
   "source": [
    "# formats and translate rows formated as a list of values\n",
    "def formatAndTranslateRow(row, size, translateNoFormat):\n",
    "    showProgress(size)\n",
    "    if type(row) is not list and pd.notnull(row) :\n",
    "        raw_data = row.lower().split(',')\n",
    "        data = []\n",
    "        for value in raw_data:\n",
    "            # format <langage_code:info>\n",
    "            if (':') in value:\n",
    "                info_ = value.split(':')\n",
    "                if len(info_) == 2:\n",
    "                    # already in english\n",
    "                    if info_[0] == 'en':\n",
    "                        #print(\"Appending 1 {}\".format(info_[1]))\n",
    "                        data.append(info_[1])\n",
    "                    # translate to english\n",
    "                    else:\n",
    "                        #print(\"Translating {}\".format(info_[1]))\n",
    "                        data.append(translateWithCache(info_[1]))\n",
    "                else:\n",
    "                    data.append(info_)\n",
    "                    #print(\"Appending 2 {}\".format(info_))\n",
    "                \n",
    "            # no format, let's translate it\n",
    "            else:\n",
    "                #print(\"No Cont : {}\".format(value))\n",
    "                if translateNoFormat:\n",
    "                    data.append(translateWithCache(value))\n",
    "                else:\n",
    "                    #print(\"Appending 3 {}\".format(value))\n",
    "                    data.append(value)\n",
    "        #print(data)\n",
    "        return data                       \n",
    "    else:\n",
    "        return row\n",
    "    \n"
   ]
  },
  {
   "cell_type": "markdown",
   "metadata": {},
   "source": [
    "# Cleaning Data  <a id=\"cleaning_data\"></a> [[up](#Table-of-Contents)]"
   ]
  },
  {
   "cell_type": "code",
   "execution_count": 18,
   "metadata": {},
   "outputs": [
    {
     "name": "stdout",
     "output_type": "stream",
     "text": [
      "Saved module: food\n"
     ]
    }
   ],
   "source": [
    "# remove rows where the columns we are interested in are all null\n",
    "food_df = food_df.dropna(subset=using_col, how='all')\n",
    "saveFoodDF(food_df)"
   ]
  },
  {
   "cell_type": "markdown",
   "metadata": {},
   "source": [
    "## Fill in Missing Product Name <a id=\"product_name\"></a> [[up](#Table-of-Contents)]\n",
    "\n",
    "This section deals with NaN values for `product_name`. If it does not have a `product_name`, the `generic_name` was used. If neither field was filled, then a combination of `brands` and `categories_en`/`main_category` was used."
   ]
  },
  {
   "cell_type": "code",
   "execution_count": 28,
   "metadata": {},
   "outputs": [
    {
     "name": "stdout",
     "output_type": "stream",
     "text": [
      "Percentage of NaN in product_name is 3.73%\n",
      "Percentage of NaN in generic_name is 88.88%\n",
      "Percentage of NaN in main_category is 74.23%\n",
      "Percentage of NaN in main_category_en is 74.23%\n",
      "Percentage of NaN in brands is 33.17%\n",
      "Percentage of NaN in brands_tags is 33.18%\n",
      "Percentage of NaN in categories is 74.21%\n",
      "Percentage of NaN in categories_tags is 74.21%\n",
      "Percentage of NaN in categories_en is 74.22%\n"
     ]
    }
   ],
   "source": [
    "desired_columns = [\n",
    "    'product_name',\n",
    "    'generic_name',\n",
    "    'main_category',\n",
    "    'main_category_en',\n",
    "    'brands',\n",
    "    'brands_tags',\n",
    "    'categories',\n",
    "    'categories_tags',\n",
    "    'categories_en',\n",
    "]\n",
    "\n",
    "result_column='product_name_value'\n",
    "showNanPercentage(food_df,desired_columns)"
   ]
  },
  {
   "cell_type": "code",
   "execution_count": 24,
   "metadata": {},
   "outputs": [
    {
     "name": "stdout",
     "output_type": "stream",
     "text": [
      "product_name_value file found\n",
      "693846 product_name_value entries found\n",
      "Found module: True\n"
     ]
    }
   ],
   "source": [
    "df = getModuleDF(result_column)\n",
    "FOUND_MODULE = result_column in df.columns\n",
    "print(\"Found module: {}\".format(FOUND_MODULE))"
   ]
  },
  {
   "cell_type": "code",
   "execution_count": 136,
   "metadata": {},
   "outputs": [],
   "source": [
    "def get_name(row):\n",
    "    showProgress(df.shape[0])\n",
    "    if pd.isnull(row['product_name']):\n",
    "        if pd.isnull(row['generic_name']):\n",
    "            if pd.isnull(row['main_category_en']) & pd.isnull(row['categories_en']) & pd.isnull(row['brands']):\n",
    "                return\n",
    "            else:\n",
    "                category_name = row['main_category_en']\n",
    "                if pd.isnull(category_name):\n",
    "                    category_name = row['categories_en']\n",
    "                return \"{} {}\".format(row['brands'], category_name)\n",
    "        else:\n",
    "            return row['generic_name']\n",
    "    else:\n",
    "        return row['product_name']\n"
   ]
  },
  {
   "cell_type": "code",
   "execution_count": 137,
   "metadata": {},
   "outputs": [],
   "source": [
    "if not FOUND_MODULE:\n",
    "    PROGRESS=0\n",
    "    \n",
    "    df[result_column] = df.apply(\n",
    "        lambda x: get_name(x),\n",
    "        axis = 1\n",
    "    )\n",
    "    \n",
    "    # removing the columns that we no longer need\n",
    "    df = df.drop(desired_columns, axis=1)\n",
    "    saveModuleDF(result_column,df)\n"
   ]
  },
  {
   "cell_type": "code",
   "execution_count": 25,
   "metadata": {},
   "outputs": [
    {
     "name": "stdout",
     "output_type": "stream",
     "text": [
      "Number of rows w/missing product_name after modifications: 22458\n"
     ]
    }
   ],
   "source": [
    "print(\"Number of rows w/missing product_name after modifications: {}\".format(len(df) - df[result_column].count()))"
   ]
  },
  {
   "cell_type": "markdown",
   "metadata": {},
   "source": [
    "Save dataframe into food csv"
   ]
  },
  {
   "cell_type": "code",
   "execution_count": 31,
   "metadata": {},
   "outputs": [
    {
     "name": "stdout",
     "output_type": "stream",
     "text": [
      "Saved module: food\n"
     ]
    }
   ],
   "source": [
    "saveFinalDF(df)"
   ]
  },
  {
   "cell_type": "markdown",
   "metadata": {},
   "source": [
    "As seen in the results, 22 458 rows still do not have names after our modifications. Our team decided that names were not of particular importance for our analysis, so we decided to leave these no-named items in the dataframe. The name is not important because we mostly want to analyze the ingredients of the items for each country. Thus the `labels`, `allergens`, and the numbers for sugar/sodium/calcium/etc and `countries` are the important columns."
   ]
  },
  {
   "cell_type": "markdown",
   "metadata": {},
   "source": [
    "## Fill in Missing Values for Country <a id=\"country\"></a> [[up](#Table-of-Contents)]\n",
    "This section deals with the missing values for `countries_en`. The `countries_en` column represents the countries where the product is sold. This column is important for our analysis because we want to analyze how viable it is to live in each country based off one's dietary restrictions.\n",
    "\n",
    "In order to fix these missing values, we decided to first fill the column with values from `purchase_places`, then `manufacturing_places`. We decided to use `purchase_places` because if it was purchased in a certain country, obviously it means the product is sold there as well. As for `manufacturing_places`, we assumed that it is most likely that a product manufactured in a country would be sold there as well.\n",
    "\n",
    "Furthermore, we looked at the column `origins`, however this column is actually describing where each ingredient came from. This would not be helpful for us because the origin would not tell us about which countries actually sell/consume this specific item."
   ]
  },
  {
   "cell_type": "code",
   "execution_count": 38,
   "metadata": {},
   "outputs": [
    {
     "name": "stdout",
     "output_type": "stream",
     "text": [
      "Percentage of NaN in countries_en is 0.07%\n",
      "Percentage of NaN in purchase_places is 85.51%\n",
      "Percentage of NaN in manufacturing_places is 90.35%\n",
      "Percentage of NaN in manufacturing_places_tags is 90.35%\n",
      "Percentage of NaN in countries_tags is 0.07%\n",
      "Percentage of NaN in countries is 0.07%\n"
     ]
    }
   ],
   "source": [
    "desired_columns = [\n",
    "    'countries_en',\n",
    "    'purchase_places',\n",
    "    'manufacturing_places',\n",
    "    'manufacturing_places_tags',\n",
    "    'countries_tags',\n",
    "    'countries'\n",
    "]\n",
    "\n",
    "result_column='country_name'\n",
    "showNanPercentage(food_df,desired_columns)"
   ]
  },
  {
   "cell_type": "code",
   "execution_count": 39,
   "metadata": {},
   "outputs": [
    {
     "name": "stdout",
     "output_type": "stream",
     "text": [
      "country_name file not found\n",
      "Found module: False\n"
     ]
    }
   ],
   "source": [
    "df_1 = getModuleDF(result_column)\n",
    "FOUND_MODULE = result_column in df.columns\n",
    "print(\"Found module: {}\".format(FOUND_MODULE))"
   ]
  },
  {
   "cell_type": "code",
   "execution_count": 40,
   "metadata": {},
   "outputs": [
    {
     "name": "stdout",
     "output_type": "stream",
     "text": [
      "Number of rows w/missing countries_en: 459\n"
     ]
    }
   ],
   "source": [
    "print(\"Number of rows w/missing countries_en: {}\".format(len(df_1) - df_1['countries_en'].count()))"
   ]
  },
  {
   "cell_type": "code",
   "execution_count": 41,
   "metadata": {},
   "outputs": [
    {
     "data": {
      "text/plain": [
       "693387"
      ]
     },
     "execution_count": 41,
     "metadata": {},
     "output_type": "execute_result"
    }
   ],
   "source": [
    "df_1['countries_en'].count()"
   ]
  },
  {
   "cell_type": "code",
   "execution_count": 42,
   "metadata": {},
   "outputs": [],
   "source": [
    "def translate_country(row,size):\n",
    "    showProgress(size)\n",
    "    if pd.isnull(row['countries_en']):\n",
    "        alt_country = None\n",
    "        if pd.notna(row['purchase_places']):\n",
    "            alt_country = row['purchase_places']\n",
    "        elif pd.notna(row['manufacturing_places']):\n",
    "            alt_country = row['manufacturing_places']\n",
    "            \n",
    "        # got value from purchase_places or manufacturing_places\n",
    "        if (not alt_country is None) and pd.notna(alt_country):\n",
    "            try:\n",
    "                en_alt_country = translateWithCache(alt_country)\n",
    "                if not en_alt_country is None:\n",
    "                    return en_alt_country.text\n",
    "            except Exception as e:\n",
    "                return alt_country\n",
    "            \n",
    "        return alt_country\n",
    "    else:\n",
    "        return row['countries_en']"
   ]
  },
  {
   "cell_type": "code",
   "execution_count": 43,
   "metadata": {},
   "outputs": [
    {
     "name": "stdout",
     "output_type": "stream",
     "text": [
      "Progress 100.0%"
     ]
    }
   ],
   "source": [
    "if not FOUND_MODULE:\n",
    "    PROGRESS=0\n",
    "    size = df_1.shape[0]\n",
    "    df_1[result_column] = df_1.apply(lambda x: \n",
    "        translate_country(x,size),\n",
    "        axis = 1\n",
    "    )\n",
    "    saveTranslations()\n",
    "    "
   ]
  },
  {
   "cell_type": "code",
   "execution_count": 47,
   "metadata": {},
   "outputs": [
    {
     "name": "stdout",
     "output_type": "stream",
     "text": [
      "Number of rows w/missing countries_en: 0\n",
      "Percentage of rows w/missing countries_en: 0.000%\n"
     ]
    }
   ],
   "source": [
    "print(\"Number of rows w/missing countries_en: {}\".format(len(df_1) - df_1[result_column].count()))\n",
    "print(\"Percentage of rows w/missing countries_en: {0:.3f}%\".format(100*(len(df_1)-df_1[result_column].count())/len(df_1)))\n"
   ]
  },
  {
   "cell_type": "code",
   "execution_count": null,
   "metadata": {
    "scrolled": true
   },
   "outputs": [],
   "source": [
    "if not FOUND_MODULE:\n",
    "    # removing the columns that we no longer need\n",
    "    df_1 = df_1.drop(desired_columns, axis=1)\n",
    "\n",
    "    # drop rows without country\n",
    "    df_1 = df_1.dropna(subset=[result_column])\n",
    "\n",
    "    saveModuleDF(result_column,df_1)\n",
    "    saveFinalDF(df_1)\n"
   ]
  },
  {
   "cell_type": "code",
   "execution_count": 50,
   "metadata": {},
   "outputs": [
    {
     "name": "stdout",
     "output_type": "stream",
     "text": [
      "Number of rows w/multiple countries: 28626\n",
      "Number of total rows: 693524\n"
     ]
    }
   ],
   "source": [
    "print(\"Number of rows w/multiple countries: {}\".format(len(df_1[df_1[result_column].str.contains(',')])))\n",
    "\n",
    "print(\"Number of total rows: {}\".format(len(df_1)))"
   ]
  },
  {
   "cell_type": "code",
   "execution_count": 51,
   "metadata": {},
   "outputs": [
    {
     "name": "stdout",
     "output_type": "stream",
     "text": [
      "Saved module: country_name\n",
      "Saved module: food\n"
     ]
    }
   ],
   "source": [
    "if not FOUND_MODULE:\n",
    "    # shows that some countries_en are lists\n",
    "    df_1[df_1[result_column].notnull() & df_1[result_column].str.contains(',')][result_column].head()\n",
    "\n",
    "\n",
    "    df_1[result_column] = df_1.apply(\n",
    "        lambda x: [x.strip() for x in x[result_column].split(',')],\n",
    "        axis = 1\n",
    "    )\n",
    "    saveModuleDF(result_column,df_1)\n",
    "    saveFinalDF(df_1)\n",
    "\n",
    "\n",
    "    # [x.strip() for x in my_string.split(',')]\n",
    "    "
   ]
  },
  {
   "cell_type": "code",
   "execution_count": 52,
   "metadata": {
    "scrolled": true
   },
   "outputs": [
    {
     "data": {
      "text/html": [
       "<div>\n",
       "<style scoped>\n",
       "    .dataframe tbody tr th:only-of-type {\n",
       "        vertical-align: middle;\n",
       "    }\n",
       "\n",
       "    .dataframe tbody tr th {\n",
       "        vertical-align: top;\n",
       "    }\n",
       "\n",
       "    .dataframe thead th {\n",
       "        text-align: right;\n",
       "    }\n",
       "</style>\n",
       "<table border=\"1\" class=\"dataframe\">\n",
       "  <thead>\n",
       "    <tr style=\"text-align: right;\">\n",
       "      <th></th>\n",
       "      <th>country_name</th>\n",
       "    </tr>\n",
       "  </thead>\n",
       "  <tbody>\n",
       "    <tr>\n",
       "      <th>173</th>\n",
       "      <td>[France, United States]</td>\n",
       "    </tr>\n",
       "  </tbody>\n",
       "</table>\n",
       "</div>"
      ],
      "text/plain": [
       "                country_name\n",
       "173  [France, United States]"
      ]
     },
     "execution_count": 52,
     "metadata": {},
     "output_type": "execute_result"
    }
   ],
   "source": [
    "# shows that the countries has been properly split\n",
    "df_1[df_1.index == 173][[result_column]]"
   ]
  },
  {
   "cell_type": "markdown",
   "metadata": {},
   "source": [
    "Next, this subsection deals with standardizing the countries for each product. First, we notice that some products have more than one country in their `countries_en` field. In this case, we seperate/explode each country in the `countries_en` field so that each country has its own row for that item. Next, we join the countries with their respective country code."
   ]
  },
  {
   "cell_type": "code",
   "execution_count": 68,
   "metadata": {},
   "outputs": [
    {
     "data": {
      "text/html": [
       "<div>\n",
       "<style scoped>\n",
       "    .dataframe tbody tr th:only-of-type {\n",
       "        vertical-align: middle;\n",
       "    }\n",
       "\n",
       "    .dataframe tbody tr th {\n",
       "        vertical-align: top;\n",
       "    }\n",
       "\n",
       "    .dataframe thead th {\n",
       "        text-align: right;\n",
       "    }\n",
       "</style>\n",
       "<table border=\"1\" class=\"dataframe\">\n",
       "  <thead>\n",
       "    <tr style=\"text-align: right;\">\n",
       "      <th></th>\n",
       "      <th>country_name</th>\n",
       "      <th>country_code</th>\n",
       "    </tr>\n",
       "  </thead>\n",
       "  <tbody>\n",
       "    <tr>\n",
       "      <th>0</th>\n",
       "      <td>afghanistan</td>\n",
       "      <td>AFG</td>\n",
       "    </tr>\n",
       "    <tr>\n",
       "      <th>1</th>\n",
       "      <td>åland islands</td>\n",
       "      <td>ALA</td>\n",
       "    </tr>\n",
       "    <tr>\n",
       "      <th>2</th>\n",
       "      <td>albania</td>\n",
       "      <td>ALB</td>\n",
       "    </tr>\n",
       "    <tr>\n",
       "      <th>3</th>\n",
       "      <td>algeria</td>\n",
       "      <td>DZA</td>\n",
       "    </tr>\n",
       "    <tr>\n",
       "      <th>4</th>\n",
       "      <td>american samoa</td>\n",
       "      <td>ASM</td>\n",
       "    </tr>\n",
       "  </tbody>\n",
       "</table>\n",
       "</div>"
      ],
      "text/plain": [
       "     country_name country_code\n",
       "0     afghanistan          AFG\n",
       "1   åland islands          ALA\n",
       "2         albania          ALB\n",
       "3         algeria          DZA\n",
       "4  american samoa          ASM"
      ]
     },
     "execution_count": 68,
     "metadata": {},
     "output_type": "execute_result"
    }
   ],
   "source": [
    "# map the countries_en to country codes\n",
    "country_df = pd.read_csv(data_folder + countryfile, \n",
    "                         sep=',',\n",
    "                         header=0,\n",
    "                         usecols=['English short name lower case', 'Alpha-3 code'],\n",
    "                         quotechar='\"')\n",
    "# rename columns\n",
    "country_df.rename(columns={\n",
    "    'Alpha-3 code':'country_code',\n",
    "    'English short name lower case': result_column\n",
    "    }, inplace=True)\n",
    "\n",
    "country_df[result_column] = country_df.apply(\n",
    "    lambda x: x[result_column].lower(),\n",
    "    axis=1\n",
    ")\n",
    "\n",
    "country_df.head()"
   ]
  },
  {
   "cell_type": "code",
   "execution_count": 54,
   "metadata": {},
   "outputs": [],
   "source": [
    "def explode(df, lst_cols, fill_value=''):\n",
    "    # make sure `lst_cols` is a list\n",
    "    if lst_cols and not isinstance(lst_cols, list):\n",
    "        lst_cols = [lst_cols]\n",
    "    # all columns except `lst_cols`\n",
    "    idx_cols = df.columns.difference(lst_cols)\n",
    "\n",
    "    # calculate lengths of lists\n",
    "    lens = df[lst_cols[0]].str.len()\n",
    "\n",
    "    if (lens > 0).all():\n",
    "        # ALL lists in cells aren't empty\n",
    "        return pd.DataFrame({\n",
    "            col:np.repeat(df[col].values, lens)\n",
    "            for col in idx_cols\n",
    "        }).assign(**{col:np.concatenate(df[col].values) for col in lst_cols}) \\\n",
    "          .loc[:, df.columns]\n",
    "    else:\n",
    "        # at least one list in cells is empty\n",
    "        return pd.DataFrame({\n",
    "            col:np.repeat(df[col].values, lens)\n",
    "            for col in idx_cols\n",
    "        }).assign(**{col:np.concatenate(df[col].values) for col in lst_cols}) \\\n",
    "          .append(df.loc[lens==0, idx_cols]).fillna(fill_value) \\\n",
    "          .loc[:, df.columns]"
   ]
  },
  {
   "cell_type": "code",
   "execution_count": 55,
   "metadata": {
    "scrolled": true
   },
   "outputs": [
    {
     "name": "stdout",
     "output_type": "stream",
     "text": [
      "Saved module: country_name\n",
      "Saved module: food\n"
     ]
    }
   ],
   "source": [
    "df_3 = df_1.copy()\n",
    "\n",
    "if not FOUND_MODULE:\n",
    "    df_3 = explode(df_3,result_column)\n",
    "    saveModuleDF(result_column,df_3)\n",
    "    saveFinalDF(df_3)\n",
    "    "
   ]
  },
  {
   "cell_type": "code",
   "execution_count": 58,
   "metadata": {},
   "outputs": [
    {
     "data": {
      "text/html": [
       "<div>\n",
       "<style scoped>\n",
       "    .dataframe tbody tr th:only-of-type {\n",
       "        vertical-align: middle;\n",
       "    }\n",
       "\n",
       "    .dataframe tbody tr th {\n",
       "        vertical-align: top;\n",
       "    }\n",
       "\n",
       "    .dataframe thead th {\n",
       "        text-align: right;\n",
       "    }\n",
       "</style>\n",
       "<table border=\"1\" class=\"dataframe\">\n",
       "  <thead>\n",
       "    <tr style=\"text-align: right;\">\n",
       "      <th></th>\n",
       "      <th>product_name_value</th>\n",
       "      <th>quantity</th>\n",
       "      <th>labels</th>\n",
       "      <th>labels_tags</th>\n",
       "      <th>labels_en</th>\n",
       "      <th>ingredients_text</th>\n",
       "      <th>allergens</th>\n",
       "      <th>allergens_en</th>\n",
       "      <th>traces</th>\n",
       "      <th>traces_tags</th>\n",
       "      <th>...</th>\n",
       "      <th>salt_100g</th>\n",
       "      <th>sodium_100g</th>\n",
       "      <th>alcohol_100g</th>\n",
       "      <th>calcium_100g</th>\n",
       "      <th>iron_100g</th>\n",
       "      <th>carbon-footprint_100g</th>\n",
       "      <th>nutrition-score-fr_100g</th>\n",
       "      <th>nutrition-score-uk_100g</th>\n",
       "      <th>glycemic-index_100g</th>\n",
       "      <th>country_name</th>\n",
       "    </tr>\n",
       "  </thead>\n",
       "  <tbody>\n",
       "    <tr>\n",
       "      <th>173</th>\n",
       "      <td>Lion Peanut x2</td>\n",
       "      <td>NaN</td>\n",
       "      <td>NaN</td>\n",
       "      <td>NaN</td>\n",
       "      <td>NaN</td>\n",
       "      <td>NaN</td>\n",
       "      <td>NaN</td>\n",
       "      <td>NaN</td>\n",
       "      <td>NaN</td>\n",
       "      <td>NaN</td>\n",
       "      <td>...</td>\n",
       "      <td>NaN</td>\n",
       "      <td>NaN</td>\n",
       "      <td>NaN</td>\n",
       "      <td>NaN</td>\n",
       "      <td>NaN</td>\n",
       "      <td>NaN</td>\n",
       "      <td>NaN</td>\n",
       "      <td>NaN</td>\n",
       "      <td>NaN</td>\n",
       "      <td>France</td>\n",
       "    </tr>\n",
       "    <tr>\n",
       "      <th>174</th>\n",
       "      <td>Lion Peanut x2</td>\n",
       "      <td>NaN</td>\n",
       "      <td>NaN</td>\n",
       "      <td>NaN</td>\n",
       "      <td>NaN</td>\n",
       "      <td>NaN</td>\n",
       "      <td>NaN</td>\n",
       "      <td>NaN</td>\n",
       "      <td>NaN</td>\n",
       "      <td>NaN</td>\n",
       "      <td>...</td>\n",
       "      <td>NaN</td>\n",
       "      <td>NaN</td>\n",
       "      <td>NaN</td>\n",
       "      <td>NaN</td>\n",
       "      <td>NaN</td>\n",
       "      <td>NaN</td>\n",
       "      <td>NaN</td>\n",
       "      <td>NaN</td>\n",
       "      <td>NaN</td>\n",
       "      <td>United States</td>\n",
       "    </tr>\n",
       "  </tbody>\n",
       "</table>\n",
       "<p>2 rows × 33 columns</p>\n",
       "</div>"
      ],
      "text/plain": [
       "    product_name_value quantity labels labels_tags labels_en ingredients_text  \\\n",
       "173     Lion Peanut x2      NaN    NaN         NaN       NaN              NaN   \n",
       "174     Lion Peanut x2      NaN    NaN         NaN       NaN              NaN   \n",
       "\n",
       "    allergens allergens_en traces traces_tags      ...       salt_100g  \\\n",
       "173       NaN          NaN    NaN         NaN      ...             NaN   \n",
       "174       NaN          NaN    NaN         NaN      ...             NaN   \n",
       "\n",
       "     sodium_100g alcohol_100g  calcium_100g  iron_100g  carbon-footprint_100g  \\\n",
       "173          NaN          NaN           NaN        NaN                    NaN   \n",
       "174          NaN          NaN           NaN        NaN                    NaN   \n",
       "\n",
       "     nutrition-score-fr_100g  nutrition-score-uk_100g  glycemic-index_100g  \\\n",
       "173                      NaN                      NaN                  NaN   \n",
       "174                      NaN                      NaN                  NaN   \n",
       "\n",
       "      country_name  \n",
       "173         France  \n",
       "174  United States  \n",
       "\n",
       "[2 rows x 33 columns]"
      ]
     },
     "execution_count": 58,
     "metadata": {},
     "output_type": "execute_result"
    }
   ],
   "source": [
    "# see how the explode function created another row because there were two countries for Lion Peanut x2\n",
    "df_3[df_3['product_name_value'].notna() & df_3['product_name_value'].str.contains('Lion Peanut x2')]"
   ]
  },
  {
   "cell_type": "code",
   "execution_count": 59,
   "metadata": {},
   "outputs": [],
   "source": [
    "df_3[result_column] = df_3.apply(\n",
    "    lambda x: x[result_column].lower(),\n",
    "    axis = 1\n",
    ")"
   ]
  },
  {
   "cell_type": "code",
   "execution_count": 127,
   "metadata": {},
   "outputs": [],
   "source": [
    "# method to check the stats of the rows with a country_name but still without a country_code\n",
    "def notAssigned(df_sample):\n",
    "    not_assigned = df_sample[df_sample[result_column].notna() & df_sample['country_code'].isna()]\n",
    "\n",
    "    print(\"Number of unassigned items is: {}\".format(len(not_assigned)))\n",
    "    print(\"The important values are: \")\n",
    "    print(not_assigned[result_column].value_counts().to_string)\n",
    "    \n",
    "    return not_assigned"
   ]
  },
  {
   "cell_type": "code",
   "execution_count": 141,
   "metadata": {},
   "outputs": [
    {
     "name": "stdout",
     "output_type": "stream",
     "text": [
      "Number of unassigned items is: 4301\n",
      "The important values are: \n",
      "<bound method Series.to_string of russia                                                                                2203\n",
      "en                                                                                     477\n",
      "fr:deutschland                                                                         229\n",
      "taiwan                                                                                 227\n",
      "de:allemagne                                                                            92\n",
      "ch:suisse                                                                               82\n",
      "european union                                                                          80\n",
      "fr:schweiz                                                                              49\n",
      "fr:frankreich                                                                           35\n",
      "product name completed                                                                  34\n",
      "brands completed                                                                        34\n",
      "categories completed                                                                    34\n",
      "packaging completed                                                                     33\n",
      "ingredients completed                                                                   33\n",
      "quantity completed                                                                      33\n",
      "photos uploaded                                                                         33\n",
      "nutrition facts completed                                                               33\n",
      "characteristics completed                                                               33\n",
      "complete                                                                                30\n",
      "photos validated                                                                        30\n",
      "to be checked                                                                           30\n",
      "packaging-code-completed                                                                26\n",
      "iran                                                                                    24\n",
      "fr:dom-tom                                                                              24\n",
      "fr:quebec                                                                               24\n",
      "fr:en                                                                                   21\n",
      "kosovo                                                                                  21\n",
      "expiration date completed                                                               17\n",
      "expiration date to be completed                                                         17\n",
      "venezuela                                                                               16\n",
      "                                                                                      ... \n",
      "w.i.                                                                                     1\n",
      "other-العراق                                                                             1\n",
      "champs fleurs                                                                            1\n",
      "san miguel de allende                                                                    1\n",
      "fr:quebec-canada                                                                         1\n",
      "pays-bas                                                                                 1\n",
      "münchen                                                                                  1\n",
      "états-unis                                                                               1\n",
      "characteristics to be completed                                                          1\n",
      "quantity to be completed                                                                 1\n",
      "danone produits frais france (dpff) - route de savignies - 76220 ferrières-en-bray       1\n",
      "epernay                                                                                  1\n",
      "montréal                                                                                 1\n",
      "de:belgique                                                                              1\n",
      "azagra                                                                                   1\n",
      "espagne                                                                                  1\n",
      "acapulco                                                                                 1\n",
      "frankfurt                                                                                1\n",
      "85220 l'aiguillon sur vie  france                                                        1\n",
      "luxemburgo                                                                               1\n",
      "guanajuato                                                                               1\n",
      "nutrition facts to be completed                                                          1\n",
      "washington                                                                               1\n",
      "république dominicaine                                                                   1\n",
      "other-japon                                                                              1\n",
      "bannans                                                                                  1\n",
      "tunisie                                                                                  1\n",
      "republika srpska                                                                         1\n",
      "ingredients to be completed                                                              1\n",
      "lévis québec canada                                                                      1\n",
      "Name: country_name, Length: 123, dtype: int64>\n"
     ]
    }
   ],
   "source": [
    "df_5 = df_3.copy()\n",
    "\n",
    "if not FOUND_MODULE:\n",
    "    df_5 = df_5.merge(country_df, how='left')\n",
    "    notAssigned(df_5)"
   ]
  },
  {
   "cell_type": "markdown",
   "metadata": {},
   "source": [
    "We decided to fix the country codes with the highest frequency, since the importance/effect of fixing the lower values will decrease as we descend through the list."
   ]
  },
  {
   "cell_type": "code",
   "execution_count": 184,
   "metadata": {},
   "outputs": [],
   "source": [
    "# changing Russian Federation to russia\n",
    "country_df[result_column][country_df['country_code'] == 'RU'] = 'russia'\n",
    "\n",
    "# changing Korea, Republic of to south korea\n",
    "country_df[result_column][country_df['country_code'] == 'KOR'] = 'south korea'\n",
    "\n",
    "# changing Macedonia, the former Yugoslav Republic of to republic of macedonia\n",
    "country_df[result_column][country_df['country_code'] == 'MKD'] = 'republic of macedonia'\n",
    "\n",
    "# changing Taiwan, Province of China to taiwan\n",
    "country_df[result_column][country_df['country_code'] == 'TW'] = 'taiwan'\n",
    "\n",
    "# changing Viet Nam to vietnam\n",
    "country_df[result_column][country_df['country_code'] == 'VNM'] = 'vietnam'\n",
    "\n",
    "country_df[result_column][country_df['country_code'] == 'COD'] = 'democratic republic of the congo'\n",
    "\n",
    "country_df[result_column][country_df['country_code'] == 'COG'] = 'republic of the congo'\n",
    "\n",
    "country_df = country_df.append({'country_code': 'XKX', \"country_name\": \"kosovo\"}, ignore_index=True)\n",
    "\n",
    "country_df = country_df.append({'country_code': 'EU', \"country_name\": \"european union\"}, ignore_index=True)\n",
    "\n"
   ]
  },
  {
   "cell_type": "markdown",
   "metadata": {},
   "source": [
    "From the above analysis of the unpaired countries, we see that a few countries are still in another language. Specifically, they are in the format \"language:country\". The method `parseTranslate` tries to deal with this issue."
   ]
  },
  {
   "cell_type": "code",
   "execution_count": 143,
   "metadata": {},
   "outputs": [],
   "source": [
    "# Parse and translate columns that are in the format \"language:value\"\n",
    "def parseTranslate(x,size):\n",
    "    showProgress(size)\n",
    "    if (':') in x:\n",
    "        info_ = x.split(':')\n",
    "        if len(info_) == 2:\n",
    "            value = info_[1]\n",
    "            return translateWithCache(value)\n",
    "    return x"
   ]
  },
  {
   "cell_type": "code",
   "execution_count": 144,
   "metadata": {},
   "outputs": [
    {
     "name": "stdout",
     "output_type": "stream",
     "text": [
      "Progress 100.0%"
     ]
    }
   ],
   "source": [
    "if not FOUND_MODULE:\n",
    "    PROGRESS=0\n",
    "    size=df_5.shape[0]\n",
    "    df_5[result_column] = df_5[result_column].apply(\n",
    "        lambda x: parseTranslate(x,size)\n",
    "    )\n",
    "    \n",
    "    saveTranslations()"
   ]
  },
  {
   "cell_type": "markdown",
   "metadata": {},
   "source": [
    "From our description of the countries still missing country codes, it is found that most of these countries do not have the full name as the one in the CSV file `country_df`. Thus, we try to find the `best_match` and change the `country_name` in the food dataframe to match the one in the `country_df`. We consider something a `best_match` if the `country_name` from the food dataframe is a substring of the `country_name` in the country dataframe."
   ]
  },
  {
   "cell_type": "code",
   "execution_count": 186,
   "metadata": {
    "scrolled": true
   },
   "outputs": [],
   "source": [
    "df_5 = df_5.merge(country_df, how='left')"
   ]
  },
  {
   "cell_type": "code",
   "execution_count": 187,
   "metadata": {},
   "outputs": [
    {
     "data": {
      "text/html": [
       "<div>\n",
       "<style scoped>\n",
       "    .dataframe tbody tr th:only-of-type {\n",
       "        vertical-align: middle;\n",
       "    }\n",
       "\n",
       "    .dataframe tbody tr th {\n",
       "        vertical-align: top;\n",
       "    }\n",
       "\n",
       "    .dataframe thead th {\n",
       "        text-align: right;\n",
       "    }\n",
       "</style>\n",
       "<table border=\"1\" class=\"dataframe\">\n",
       "  <thead>\n",
       "    <tr style=\"text-align: right;\">\n",
       "      <th></th>\n",
       "      <th>product_name_value</th>\n",
       "      <th>country_name</th>\n",
       "      <th>country_code</th>\n",
       "    </tr>\n",
       "  </thead>\n",
       "  <tbody>\n",
       "    <tr>\n",
       "      <th>0</th>\n",
       "      <td>Vitória crackers</td>\n",
       "      <td>france</td>\n",
       "      <td>FRA</td>\n",
       "    </tr>\n",
       "    <tr>\n",
       "      <th>1</th>\n",
       "      <td>Cacao</td>\n",
       "      <td>france</td>\n",
       "      <td>FRA</td>\n",
       "    </tr>\n",
       "    <tr>\n",
       "      <th>2</th>\n",
       "      <td>Sauce Sweety chili 0%</td>\n",
       "      <td>france</td>\n",
       "      <td>FRA</td>\n",
       "    </tr>\n",
       "    <tr>\n",
       "      <th>3</th>\n",
       "      <td>Mendiants</td>\n",
       "      <td>france</td>\n",
       "      <td>FRA</td>\n",
       "    </tr>\n",
       "    <tr>\n",
       "      <th>4</th>\n",
       "      <td>Salade de carottes râpées</td>\n",
       "      <td>france</td>\n",
       "      <td>FRA</td>\n",
       "    </tr>\n",
       "  </tbody>\n",
       "</table>\n",
       "</div>"
      ],
      "text/plain": [
       "          product_name_value country_name country_code\n",
       "0           Vitória crackers       france          FRA\n",
       "1                      Cacao       france          FRA\n",
       "2      Sauce Sweety chili 0%       france          FRA\n",
       "3                  Mendiants       france          FRA\n",
       "4  Salade de carottes râpées       france          FRA"
      ]
     },
     "execution_count": 187,
     "metadata": {},
     "output_type": "execute_result"
    }
   ],
   "source": [
    "# Display result\n",
    "df_5[['product_name_value',result_column,'country_code']].head()"
   ]
  },
  {
   "cell_type": "code",
   "execution_count": 188,
   "metadata": {},
   "outputs": [
    {
     "name": "stdout",
     "output_type": "stream",
     "text": [
      "Number of unassigned items is: 796\n",
      "The important values are: \n",
      "<bound method Series.to_string of european union                                                                                 81\n",
      "product name completed                                                                         34\n",
      "brands completed                                                                               34\n",
      "categories completed                                                                           34\n",
      "quantity completed                                                                             33\n",
      "photos uploaded                                                                                33\n",
      "ingredients completed                                                                          33\n",
      "packaging completed                                                                            33\n",
      "characteristics completed                                                                      33\n",
      "nutrition facts completed                                                                      33\n",
      "to be checked                                                                                  30\n",
      "complete                                                                                       30\n",
      "photos validated                                                                               30\n",
      "packaging-code-completed                                                                       26\n",
      "canada                                                                                         25\n",
      "judgment-empty                                                                                 24\n",
      "kosovo                                                                                         23\n",
      "expiration date to be completed                                                                17\n",
      "expiration date completed                                                                      17\n",
      "gers                                                                                           15\n",
      "midi-pyrénées                                                                                  13\n",
      "danone produits frais france (dpff) - 2 avenue de l'industrie - 32730 villecomtal-sur-arros    13\n",
      "mexico                                                                                          9\n",
      "belgium                                                                                         9\n",
      "weil am rhein                                                                                   8\n",
      "pakistan                                                                                        7\n",
      "world                                                                                           6\n",
      "deutschland                                                                                     5\n",
      "macau                                                                                           5\n",
      "to be completed                                                                                 4\n",
      "                                                                                               ..\n",
      "danone produits frais france (dpff) - route de savignies - 76220 ferrières-en-bray              1\n",
      "w.i.                                                                                            1\n",
      "seine-maritime                                                                                  1\n",
      "république dominicaine                                                                          1\n",
      "guerrero                                                                                        1\n",
      "perth                                                                                           1\n",
      "u salumu                                                                                        1\n",
      "haute-normandie                                                                                 1\n",
      "other-japon                                                                                     1\n",
      "são paulo-sp brasil                                                                             1\n",
      "pays-bas                                                                                        1\n",
      "champs fleurs                                                                                   1\n",
      "california                                                                                      1\n",
      "packaging to be completed                                                                       1\n",
      "carib brewery ltd                                                                               1\n",
      "85220 l'aiguillon sur vie  france                                                               1\n",
      "gironde                                                                                         1\n",
      "san miguel de allende                                                                           1\n",
      "ingredients to be completed                                                                     1\n",
      "germany                                                                                         1\n",
      "guanajuato                                                                                      1\n",
      "états-unis                                                                                      1\n",
      "england                                                                                         1\n",
      "azagra                                                                                          1\n",
      "firenze                                                                                         1\n",
      "luxembourg                                                                                      1\n",
      "photos to be uploaded                                                                           1\n",
      "other-العراق                                                                                    1\n",
      "münchen                                                                                         1\n",
      "dieppe france                                                                                   1\n",
      "Name: country_name, Length: 97, dtype: int64>\n"
     ]
    },
    {
     "data": {
      "text/html": [
       "<div>\n",
       "<style scoped>\n",
       "    .dataframe tbody tr th:only-of-type {\n",
       "        vertical-align: middle;\n",
       "    }\n",
       "\n",
       "    .dataframe tbody tr th {\n",
       "        vertical-align: top;\n",
       "    }\n",
       "\n",
       "    .dataframe thead th {\n",
       "        text-align: right;\n",
       "    }\n",
       "</style>\n",
       "<table border=\"1\" class=\"dataframe\">\n",
       "  <thead>\n",
       "    <tr style=\"text-align: right;\">\n",
       "      <th></th>\n",
       "      <th>product_name_value</th>\n",
       "      <th>quantity</th>\n",
       "      <th>labels</th>\n",
       "      <th>labels_tags</th>\n",
       "      <th>labels_en</th>\n",
       "      <th>ingredients_text</th>\n",
       "      <th>allergens</th>\n",
       "      <th>allergens_en</th>\n",
       "      <th>traces</th>\n",
       "      <th>traces_tags</th>\n",
       "      <th>...</th>\n",
       "      <th>sodium_100g</th>\n",
       "      <th>alcohol_100g</th>\n",
       "      <th>calcium_100g</th>\n",
       "      <th>iron_100g</th>\n",
       "      <th>carbon-footprint_100g</th>\n",
       "      <th>nutrition-score-fr_100g</th>\n",
       "      <th>nutrition-score-uk_100g</th>\n",
       "      <th>glycemic-index_100g</th>\n",
       "      <th>country_name</th>\n",
       "      <th>country_code</th>\n",
       "    </tr>\n",
       "  </thead>\n",
       "  <tbody>\n",
       "    <tr>\n",
       "      <th>3789</th>\n",
       "      <td>Creamy</td>\n",
       "      <td>453g</td>\n",
       "      <td>NaN</td>\n",
       "      <td>NaN</td>\n",
       "      <td>NaN</td>\n",
       "      <td>NaN</td>\n",
       "      <td>NaN</td>\n",
       "      <td>NaN</td>\n",
       "      <td>NaN</td>\n",
       "      <td>NaN</td>\n",
       "      <td>...</td>\n",
       "      <td>NaN</td>\n",
       "      <td>NaN</td>\n",
       "      <td>NaN</td>\n",
       "      <td>NaN</td>\n",
       "      <td>NaN</td>\n",
       "      <td>NaN</td>\n",
       "      <td>NaN</td>\n",
       "      <td>NaN</td>\n",
       "      <td>pakistan</td>\n",
       "      <td>NaN</td>\n",
       "    </tr>\n",
       "    <tr>\n",
       "      <th>19179</th>\n",
       "      <td>Parmesano</td>\n",
       "      <td>85 g.</td>\n",
       "      <td>Añejado por seis meses,Contiene leche</td>\n",
       "      <td>en:contains-milk,es:anejado-por-seis-meses</td>\n",
       "      <td>Contains milk,es:anejado-por-seis-meses</td>\n",
       "      <td>Queso tipo parmesano rallado (Leche parcialmen...</td>\n",
       "      <td>en:milk</td>\n",
       "      <td>NaN</td>\n",
       "      <td>NaN</td>\n",
       "      <td>NaN</td>\n",
       "      <td>...</td>\n",
       "      <td>1.540000</td>\n",
       "      <td>NaN</td>\n",
       "      <td>NaN</td>\n",
       "      <td>NaN</td>\n",
       "      <td>NaN</td>\n",
       "      <td>20.0</td>\n",
       "      <td>25.0</td>\n",
       "      <td>NaN</td>\n",
       "      <td>mexico</td>\n",
       "      <td>NaN</td>\n",
       "    </tr>\n",
       "    <tr>\n",
       "      <th>24806</th>\n",
       "      <td>8 FONDANT FANCIES</td>\n",
       "      <td>8</td>\n",
       "      <td>NaN</td>\n",
       "      <td>NaN</td>\n",
       "      <td>NaN</td>\n",
       "      <td>8 sponge cakes topped with buttercream and cov...</td>\n",
       "      <td>NaN</td>\n",
       "      <td>NaN</td>\n",
       "      <td>en:nuts</td>\n",
       "      <td>en:nuts</td>\n",
       "      <td>...</td>\n",
       "      <td>0.208661</td>\n",
       "      <td>NaN</td>\n",
       "      <td>NaN</td>\n",
       "      <td>NaN</td>\n",
       "      <td>NaN</td>\n",
       "      <td>19.0</td>\n",
       "      <td>19.0</td>\n",
       "      <td>NaN</td>\n",
       "      <td>european union</td>\n",
       "      <td>NaN</td>\n",
       "    </tr>\n",
       "    <tr>\n",
       "      <th>40240</th>\n",
       "      <td>Oats</td>\n",
       "      <td>42 ounces</td>\n",
       "      <td>NaN</td>\n",
       "      <td>NaN</td>\n",
       "      <td>NaN</td>\n",
       "      <td>NaN</td>\n",
       "      <td>NaN</td>\n",
       "      <td>NaN</td>\n",
       "      <td>NaN</td>\n",
       "      <td>NaN</td>\n",
       "      <td>...</td>\n",
       "      <td>NaN</td>\n",
       "      <td>NaN</td>\n",
       "      <td>NaN</td>\n",
       "      <td>NaN</td>\n",
       "      <td>NaN</td>\n",
       "      <td>NaN</td>\n",
       "      <td>NaN</td>\n",
       "      <td>NaN</td>\n",
       "      <td>the bahamas</td>\n",
       "      <td>NaN</td>\n",
       "    </tr>\n",
       "    <tr>\n",
       "      <th>60498</th>\n",
       "      <td>NaN</td>\n",
       "      <td>NaN</td>\n",
       "      <td>NaN</td>\n",
       "      <td>NaN</td>\n",
       "      <td>NaN</td>\n",
       "      <td>NaN</td>\n",
       "      <td>NaN</td>\n",
       "      <td>NaN</td>\n",
       "      <td>NaN</td>\n",
       "      <td>NaN</td>\n",
       "      <td>...</td>\n",
       "      <td>NaN</td>\n",
       "      <td>NaN</td>\n",
       "      <td>NaN</td>\n",
       "      <td>NaN</td>\n",
       "      <td>NaN</td>\n",
       "      <td>NaN</td>\n",
       "      <td>NaN</td>\n",
       "      <td>NaN</td>\n",
       "      <td>united states</td>\n",
       "      <td>NaN</td>\n",
       "    </tr>\n",
       "    <tr>\n",
       "      <th>73528</th>\n",
       "      <td>PB&amp;J bar</td>\n",
       "      <td>210 g</td>\n",
       "      <td>NaN</td>\n",
       "      <td>NaN</td>\n",
       "      <td>NaN</td>\n",
       "      <td>Strawberry filling: sugar, cane syrup, glyceri...</td>\n",
       "      <td>peanuts</td>\n",
       "      <td>NaN</td>\n",
       "      <td>milk,soy,tree nuts</td>\n",
       "      <td>en:milk,en:soybeans,en:tree-nuts</td>\n",
       "      <td>...</td>\n",
       "      <td>0.157000</td>\n",
       "      <td>0.0</td>\n",
       "      <td>0.0000</td>\n",
       "      <td>0.00206</td>\n",
       "      <td>NaN</td>\n",
       "      <td>9.0</td>\n",
       "      <td>9.0</td>\n",
       "      <td>NaN</td>\n",
       "      <td>united states</td>\n",
       "      <td>NaN</td>\n",
       "    </tr>\n",
       "    <tr>\n",
       "      <th>73529</th>\n",
       "      <td>PB&amp;J bar</td>\n",
       "      <td>210 g</td>\n",
       "      <td>NaN</td>\n",
       "      <td>NaN</td>\n",
       "      <td>NaN</td>\n",
       "      <td>Strawberry filling: sugar, cane syrup, glyceri...</td>\n",
       "      <td>peanuts</td>\n",
       "      <td>NaN</td>\n",
       "      <td>milk,soy,tree nuts</td>\n",
       "      <td>en:milk,en:soybeans,en:tree-nuts</td>\n",
       "      <td>...</td>\n",
       "      <td>0.157000</td>\n",
       "      <td>0.0</td>\n",
       "      <td>0.0000</td>\n",
       "      <td>0.00206</td>\n",
       "      <td>NaN</td>\n",
       "      <td>9.0</td>\n",
       "      <td>9.0</td>\n",
       "      <td>NaN</td>\n",
       "      <td>usa</td>\n",
       "      <td>NaN</td>\n",
       "    </tr>\n",
       "    <tr>\n",
       "      <th>74747</th>\n",
       "      <td>Taste of nature</td>\n",
       "      <td>1</td>\n",
       "      <td>NaN</td>\n",
       "      <td>NaN</td>\n",
       "      <td>NaN</td>\n",
       "      <td>NaN</td>\n",
       "      <td>NaN</td>\n",
       "      <td>NaN</td>\n",
       "      <td>NaN</td>\n",
       "      <td>NaN</td>\n",
       "      <td>...</td>\n",
       "      <td>NaN</td>\n",
       "      <td>NaN</td>\n",
       "      <td>NaN</td>\n",
       "      <td>NaN</td>\n",
       "      <td>NaN</td>\n",
       "      <td>NaN</td>\n",
       "      <td>NaN</td>\n",
       "      <td>NaN</td>\n",
       "      <td>european union</td>\n",
       "      <td>NaN</td>\n",
       "    </tr>\n",
       "    <tr>\n",
       "      <th>74748</th>\n",
       "      <td>A&amp;W racinette/root beer</td>\n",
       "      <td>2 l</td>\n",
       "      <td>NaN</td>\n",
       "      <td>NaN</td>\n",
       "      <td>NaN</td>\n",
       "      <td>eau gazéifiée,sucre/glucose-fructose,caramel,b...</td>\n",
       "      <td>NaN</td>\n",
       "      <td>NaN</td>\n",
       "      <td>NaN</td>\n",
       "      <td>NaN</td>\n",
       "      <td>...</td>\n",
       "      <td>0.018000</td>\n",
       "      <td>NaN</td>\n",
       "      <td>NaN</td>\n",
       "      <td>NaN</td>\n",
       "      <td>NaN</td>\n",
       "      <td>NaN</td>\n",
       "      <td>NaN</td>\n",
       "      <td>NaN</td>\n",
       "      <td>canada</td>\n",
       "      <td>NaN</td>\n",
       "    </tr>\n",
       "    <tr>\n",
       "      <th>75367</th>\n",
       "      <td>Carré de blé</td>\n",
       "      <td>200g</td>\n",
       "      <td>COR</td>\n",
       "      <td>fr:cor</td>\n",
       "      <td>fr:cor</td>\n",
       "      <td>INGREDIENTS: WHOLE GRAIN WHOLE WHEAT HIGH OLEI...</td>\n",
       "      <td>NaN</td>\n",
       "      <td>NaN</td>\n",
       "      <td>NaN</td>\n",
       "      <td>NaN</td>\n",
       "      <td>...</td>\n",
       "      <td>0.043307</td>\n",
       "      <td>NaN</td>\n",
       "      <td>NaN</td>\n",
       "      <td>NaN</td>\n",
       "      <td>NaN</td>\n",
       "      <td>NaN</td>\n",
       "      <td>NaN</td>\n",
       "      <td>NaN</td>\n",
       "      <td>canada</td>\n",
       "      <td>NaN</td>\n",
       "    </tr>\n",
       "    <tr>\n",
       "      <th>76120</th>\n",
       "      <td>Nutella</td>\n",
       "      <td>375 g</td>\n",
       "      <td>Kascher,Orthodox Union Kosher,Point Vert</td>\n",
       "      <td>en:kosher,en:orthodox-union-kosher,en:kascher,...</td>\n",
       "      <td>Kosher,Orthodox Union Kosher,Kascher,Point-vert</td>\n",
       "      <td>NaN</td>\n",
       "      <td>NaN</td>\n",
       "      <td>NaN</td>\n",
       "      <td>NaN</td>\n",
       "      <td>NaN</td>\n",
       "      <td>...</td>\n",
       "      <td>0.019685</td>\n",
       "      <td>NaN</td>\n",
       "      <td>NaN</td>\n",
       "      <td>NaN</td>\n",
       "      <td>NaN</td>\n",
       "      <td>21.0</td>\n",
       "      <td>21.0</td>\n",
       "      <td>NaN</td>\n",
       "      <td>canada</td>\n",
       "      <td>NaN</td>\n",
       "    </tr>\n",
       "    <tr>\n",
       "      <th>76321</th>\n",
       "      <td>Viva chips ingredients naturels</td>\n",
       "      <td>38 g</td>\n",
       "      <td>NaN</td>\n",
       "      <td>NaN</td>\n",
       "      <td>NaN</td>\n",
       "      <td>farine de pomme de terre, huile canola, amidon...</td>\n",
       "      <td>NaN</td>\n",
       "      <td>NaN</td>\n",
       "      <td>NaN</td>\n",
       "      <td>NaN</td>\n",
       "      <td>...</td>\n",
       "      <td>0.393701</td>\n",
       "      <td>NaN</td>\n",
       "      <td>NaN</td>\n",
       "      <td>NaN</td>\n",
       "      <td>NaN</td>\n",
       "      <td>NaN</td>\n",
       "      <td>NaN</td>\n",
       "      <td>NaN</td>\n",
       "      <td>canada</td>\n",
       "      <td>NaN</td>\n",
       "    </tr>\n",
       "    <tr>\n",
       "      <th>76576</th>\n",
       "      <td>Natur-a Soya Chocolat</td>\n",
       "      <td>1,89 l</td>\n",
       "      <td>Sans lactose,Sans cholestérol,Bio</td>\n",
       "      <td>en:organic,en:no-cholesterol,en:no-lactose</td>\n",
       "      <td>Organic,No cholesterol,No lactose</td>\n",
       "      <td>Eau filtrée, Fèves de soya biologiques, jus de...</td>\n",
       "      <td>NaN</td>\n",
       "      <td>NaN</td>\n",
       "      <td>NaN</td>\n",
       "      <td>NaN</td>\n",
       "      <td>...</td>\n",
       "      <td>0.056000</td>\n",
       "      <td>NaN</td>\n",
       "      <td>NaN</td>\n",
       "      <td>NaN</td>\n",
       "      <td>NaN</td>\n",
       "      <td>0.0</td>\n",
       "      <td>0.0</td>\n",
       "      <td>NaN</td>\n",
       "      <td>canada</td>\n",
       "      <td>NaN</td>\n",
       "    </tr>\n",
       "    <tr>\n",
       "      <th>77703</th>\n",
       "      <td>Mapple Syrup - Sirop d'erable</td>\n",
       "      <td>250 ml</td>\n",
       "      <td>NaN</td>\n",
       "      <td>NaN</td>\n",
       "      <td>NaN</td>\n",
       "      <td>Sirop d'érable</td>\n",
       "      <td>NaN</td>\n",
       "      <td>NaN</td>\n",
       "      <td>NaN</td>\n",
       "      <td>NaN</td>\n",
       "      <td>...</td>\n",
       "      <td>0.016700</td>\n",
       "      <td>NaN</td>\n",
       "      <td>0.0733</td>\n",
       "      <td>NaN</td>\n",
       "      <td>NaN</td>\n",
       "      <td>NaN</td>\n",
       "      <td>NaN</td>\n",
       "      <td>NaN</td>\n",
       "      <td>canada</td>\n",
       "      <td>NaN</td>\n",
       "    </tr>\n",
       "    <tr>\n",
       "      <th>78141</th>\n",
       "      <td>tartinade suprême raisin</td>\n",
       "      <td>235 ml</td>\n",
       "      <td>NaN</td>\n",
       "      <td>NaN</td>\n",
       "      <td>NaN</td>\n",
       "      <td>PUREE DE RAISINS BIOLOGIQUE, SUCRE DE CANNE BI...</td>\n",
       "      <td>NaN</td>\n",
       "      <td>NaN</td>\n",
       "      <td>NaN</td>\n",
       "      <td>NaN</td>\n",
       "      <td>...</td>\n",
       "      <td>0.003937</td>\n",
       "      <td>0.0</td>\n",
       "      <td>NaN</td>\n",
       "      <td>NaN</td>\n",
       "      <td>NaN</td>\n",
       "      <td>NaN</td>\n",
       "      <td>NaN</td>\n",
       "      <td>NaN</td>\n",
       "      <td>quebec-canada</td>\n",
       "      <td>NaN</td>\n",
       "    </tr>\n",
       "    <tr>\n",
       "      <th>79014</th>\n",
       "      <td>Bouillon de poulet Loney’s</td>\n",
       "      <td>400 g</td>\n",
       "      <td>NaN</td>\n",
       "      <td>NaN</td>\n",
       "      <td>NaN</td>\n",
       "      <td>Extrait sec de glucose, sel, sucre, glutamate ...</td>\n",
       "      <td>NaN</td>\n",
       "      <td>NaN</td>\n",
       "      <td>NaN</td>\n",
       "      <td>NaN</td>\n",
       "      <td>...</td>\n",
       "      <td>13.300000</td>\n",
       "      <td>NaN</td>\n",
       "      <td>NaN</td>\n",
       "      <td>NaN</td>\n",
       "      <td>NaN</td>\n",
       "      <td>17.0</td>\n",
       "      <td>17.0</td>\n",
       "      <td>NaN</td>\n",
       "      <td>canada</td>\n",
       "      <td>NaN</td>\n",
       "    </tr>\n",
       "    <tr>\n",
       "      <th>79820</th>\n",
       "      <td>Pure Darjeeling tea</td>\n",
       "      <td>100 g</td>\n",
       "      <td>Green Dot</td>\n",
       "      <td>en:green-dot</td>\n",
       "      <td>Green Dot</td>\n",
       "      <td>Schwarztee.</td>\n",
       "      <td>NaN</td>\n",
       "      <td>NaN</td>\n",
       "      <td>NaN</td>\n",
       "      <td>NaN</td>\n",
       "      <td>...</td>\n",
       "      <td>NaN</td>\n",
       "      <td>NaN</td>\n",
       "      <td>NaN</td>\n",
       "      <td>NaN</td>\n",
       "      <td>NaN</td>\n",
       "      <td>NaN</td>\n",
       "      <td>NaN</td>\n",
       "      <td>NaN</td>\n",
       "      <td>allemagne</td>\n",
       "      <td>NaN</td>\n",
       "    </tr>\n",
       "    <tr>\n",
       "      <th>79821</th>\n",
       "      <td>Pure Darjeeling tea</td>\n",
       "      <td>100 g</td>\n",
       "      <td>Green Dot</td>\n",
       "      <td>en:green-dot</td>\n",
       "      <td>Green Dot</td>\n",
       "      <td>Schwarztee.</td>\n",
       "      <td>NaN</td>\n",
       "      <td>NaN</td>\n",
       "      <td>NaN</td>\n",
       "      <td>NaN</td>\n",
       "      <td>...</td>\n",
       "      <td>NaN</td>\n",
       "      <td>NaN</td>\n",
       "      <td>NaN</td>\n",
       "      <td>NaN</td>\n",
       "      <td>NaN</td>\n",
       "      <td>NaN</td>\n",
       "      <td>NaN</td>\n",
       "      <td>NaN</td>\n",
       "      <td>weil am rhein</td>\n",
       "      <td>NaN</td>\n",
       "    </tr>\n",
       "    <tr>\n",
       "      <th>94249</th>\n",
       "      <td>Baked Pita Classic White</td>\n",
       "      <td>6 Loaves</td>\n",
       "      <td>NaN</td>\n",
       "      <td>NaN</td>\n",
       "      <td>NaN</td>\n",
       "      <td>NaN</td>\n",
       "      <td>NaN</td>\n",
       "      <td>NaN</td>\n",
       "      <td>NaN</td>\n",
       "      <td>NaN</td>\n",
       "      <td>...</td>\n",
       "      <td>NaN</td>\n",
       "      <td>NaN</td>\n",
       "      <td>NaN</td>\n",
       "      <td>NaN</td>\n",
       "      <td>NaN</td>\n",
       "      <td>NaN</td>\n",
       "      <td>NaN</td>\n",
       "      <td>NaN</td>\n",
       "      <td>curaçao</td>\n",
       "      <td>NaN</td>\n",
       "    </tr>\n",
       "    <tr>\n",
       "      <th>99083</th>\n",
       "      <td>eau gazeuse perrier</td>\n",
       "      <td>1l</td>\n",
       "      <td>NaN</td>\n",
       "      <td>NaN</td>\n",
       "      <td>NaN</td>\n",
       "      <td>eau de source naturelle,dioxyde de carbone</td>\n",
       "      <td>NaN</td>\n",
       "      <td>NaN</td>\n",
       "      <td>NaN</td>\n",
       "      <td>NaN</td>\n",
       "      <td>...</td>\n",
       "      <td>0.001000</td>\n",
       "      <td>NaN</td>\n",
       "      <td>NaN</td>\n",
       "      <td>NaN</td>\n",
       "      <td>NaN</td>\n",
       "      <td>NaN</td>\n",
       "      <td>NaN</td>\n",
       "      <td>NaN</td>\n",
       "      <td>canada</td>\n",
       "      <td>NaN</td>\n",
       "    </tr>\n",
       "    <tr>\n",
       "      <th>104143</th>\n",
       "      <td>Sweet Peas</td>\n",
       "      <td>227gram</td>\n",
       "      <td>NaN</td>\n",
       "      <td>NaN</td>\n",
       "      <td>NaN</td>\n",
       "      <td>NaN</td>\n",
       "      <td>NaN</td>\n",
       "      <td>NaN</td>\n",
       "      <td>NaN</td>\n",
       "      <td>NaN</td>\n",
       "      <td>...</td>\n",
       "      <td>NaN</td>\n",
       "      <td>NaN</td>\n",
       "      <td>NaN</td>\n",
       "      <td>NaN</td>\n",
       "      <td>NaN</td>\n",
       "      <td>NaN</td>\n",
       "      <td>NaN</td>\n",
       "      <td>NaN</td>\n",
       "      <td>curaçao</td>\n",
       "      <td>NaN</td>\n",
       "    </tr>\n",
       "    <tr>\n",
       "      <th>111868</th>\n",
       "      <td>Double dipped saucette</td>\n",
       "      <td>47g</td>\n",
       "      <td>Contient des OGMs</td>\n",
       "      <td>en:contains-gmos</td>\n",
       "      <td>Contains GMOs</td>\n",
       "      <td>Dextrose, Sucre, Acide malique, Sirop de maïs,...</td>\n",
       "      <td>NaN</td>\n",
       "      <td>NaN</td>\n",
       "      <td>en:eggs</td>\n",
       "      <td>en:eggs</td>\n",
       "      <td>...</td>\n",
       "      <td>0.000000</td>\n",
       "      <td>NaN</td>\n",
       "      <td>NaN</td>\n",
       "      <td>NaN</td>\n",
       "      <td>NaN</td>\n",
       "      <td>NaN</td>\n",
       "      <td>NaN</td>\n",
       "      <td>NaN</td>\n",
       "      <td>états-unis</td>\n",
       "      <td>NaN</td>\n",
       "    </tr>\n",
       "    <tr>\n",
       "      <th>118769</th>\n",
       "      <td>Original Spiced Rum</td>\n",
       "      <td>1.75 L</td>\n",
       "      <td>NaN</td>\n",
       "      <td>NaN</td>\n",
       "      <td>NaN</td>\n",
       "      <td>NaN</td>\n",
       "      <td>NaN</td>\n",
       "      <td>NaN</td>\n",
       "      <td>NaN</td>\n",
       "      <td>NaN</td>\n",
       "      <td>...</td>\n",
       "      <td>0.000000</td>\n",
       "      <td>35.0</td>\n",
       "      <td>NaN</td>\n",
       "      <td>NaN</td>\n",
       "      <td>NaN</td>\n",
       "      <td>NaN</td>\n",
       "      <td>NaN</td>\n",
       "      <td>NaN</td>\n",
       "      <td>european union</td>\n",
       "      <td>NaN</td>\n",
       "    </tr>\n",
       "    <tr>\n",
       "      <th>122686</th>\n",
       "      <td>Gâteries à l'érable du Canada</td>\n",
       "      <td>3 produits, 155 g au total</td>\n",
       "      <td>sans gluten,sans oeuf,sans sirop de maïs</td>\n",
       "      <td>en:gluten-free,en:no-eggs,fr:sans-sirop-de-mais</td>\n",
       "      <td>Gluten-free,No eggs,fr:sans-sirop-de-mais</td>\n",
       "      <td>Caramel (beurre, sucre, sirop d’érable, eau, s...</td>\n",
       "      <td>NaN</td>\n",
       "      <td>NaN</td>\n",
       "      <td>noix,lait,soja</td>\n",
       "      <td>en:milk,en:nuts,en:soybeans</td>\n",
       "      <td>...</td>\n",
       "      <td>NaN</td>\n",
       "      <td>NaN</td>\n",
       "      <td>NaN</td>\n",
       "      <td>NaN</td>\n",
       "      <td>NaN</td>\n",
       "      <td>NaN</td>\n",
       "      <td>NaN</td>\n",
       "      <td>NaN</td>\n",
       "      <td>canada</td>\n",
       "      <td>NaN</td>\n",
       "    </tr>\n",
       "    <tr>\n",
       "      <th>126574</th>\n",
       "      <td>Wasa Vollkorn</td>\n",
       "      <td>260 g</td>\n",
       "      <td>NaN</td>\n",
       "      <td>NaN</td>\n",
       "      <td>NaN</td>\n",
       "      <td>Ingrédients: farine complète de _seigle_, levu...</td>\n",
       "      <td>NaN</td>\n",
       "      <td>NaN</td>\n",
       "      <td>NaN</td>\n",
       "      <td>NaN</td>\n",
       "      <td>...</td>\n",
       "      <td>0.051181</td>\n",
       "      <td>NaN</td>\n",
       "      <td>NaN</td>\n",
       "      <td>NaN</td>\n",
       "      <td>NaN</td>\n",
       "      <td>-2.0</td>\n",
       "      <td>-2.0</td>\n",
       "      <td>NaN</td>\n",
       "      <td>suisse</td>\n",
       "      <td>NaN</td>\n",
       "    </tr>\n",
       "    <tr>\n",
       "      <th>126947</th>\n",
       "      <td>Kentish Ale</td>\n",
       "      <td>500 ml</td>\n",
       "      <td>Végétarien,IGP,Végétalien,Taste the Difference</td>\n",
       "      <td>en:igp,en:taste-the-difference,en:vegetalien,e...</td>\n",
       "      <td>Igp,Taste-the-difference,Vegetalien,Vegetarien</td>\n",
       "      <td>_Barley_ Malt</td>\n",
       "      <td>Barley</td>\n",
       "      <td>NaN</td>\n",
       "      <td>NaN</td>\n",
       "      <td>NaN</td>\n",
       "      <td>...</td>\n",
       "      <td>NaN</td>\n",
       "      <td>4.5</td>\n",
       "      <td>NaN</td>\n",
       "      <td>NaN</td>\n",
       "      <td>NaN</td>\n",
       "      <td>NaN</td>\n",
       "      <td>NaN</td>\n",
       "      <td>NaN</td>\n",
       "      <td>england</td>\n",
       "      <td>NaN</td>\n",
       "    </tr>\n",
       "    <tr>\n",
       "      <th>127623</th>\n",
       "      <td>Sirop d'érable pur biologique Escuminac</td>\n",
       "      <td>540 ml</td>\n",
       "      <td>Biologique,Garantie Bio,Ecocert canada</td>\n",
       "      <td>en:organic,en:certified-by-ecocert,en:certifie...</td>\n",
       "      <td>Organic,Certified by Ecocert,Certified by Ecoc...</td>\n",
       "      <td>Sirop d'érable pur</td>\n",
       "      <td>NaN</td>\n",
       "      <td>NaN</td>\n",
       "      <td>NaN</td>\n",
       "      <td>NaN</td>\n",
       "      <td>...</td>\n",
       "      <td>0.008330</td>\n",
       "      <td>NaN</td>\n",
       "      <td>0.0667</td>\n",
       "      <td>0.00180</td>\n",
       "      <td>NaN</td>\n",
       "      <td>14.0</td>\n",
       "      <td>14.0</td>\n",
       "      <td>NaN</td>\n",
       "      <td>canada</td>\n",
       "      <td>NaN</td>\n",
       "    </tr>\n",
       "    <tr>\n",
       "      <th>138245</th>\n",
       "      <td>saucisson</td>\n",
       "      <td>250gr</td>\n",
       "      <td>AB Agriculture Biologique, AB europe</td>\n",
       "      <td>en:organic,en:eu-organic,fr:ab-agriculture-bio...</td>\n",
       "      <td>Organic,EU Organic,fr:AB Agriculture Biologiqu...</td>\n",
       "      <td>FR 002 sucres salpêtre betterave lait cerises ...</td>\n",
       "      <td>NaN</td>\n",
       "      <td>NaN</td>\n",
       "      <td>NaN</td>\n",
       "      <td>NaN</td>\n",
       "      <td>...</td>\n",
       "      <td>NaN</td>\n",
       "      <td>NaN</td>\n",
       "      <td>NaN</td>\n",
       "      <td>NaN</td>\n",
       "      <td>NaN</td>\n",
       "      <td>NaN</td>\n",
       "      <td>NaN</td>\n",
       "      <td>NaN</td>\n",
       "      <td>u salumu</td>\n",
       "      <td>NaN</td>\n",
       "    </tr>\n",
       "    <tr>\n",
       "      <th>138354</th>\n",
       "      <td>Raisins sultanines</td>\n",
       "      <td>NaN</td>\n",
       "      <td>NaN</td>\n",
       "      <td>NaN</td>\n",
       "      <td>NaN</td>\n",
       "      <td>NaN</td>\n",
       "      <td>NaN</td>\n",
       "      <td>NaN</td>\n",
       "      <td>NaN</td>\n",
       "      <td>NaN</td>\n",
       "      <td>...</td>\n",
       "      <td>NaN</td>\n",
       "      <td>NaN</td>\n",
       "      <td>NaN</td>\n",
       "      <td>NaN</td>\n",
       "      <td>NaN</td>\n",
       "      <td>NaN</td>\n",
       "      <td>NaN</td>\n",
       "      <td>NaN</td>\n",
       "      <td>european union</td>\n",
       "      <td>NaN</td>\n",
       "    </tr>\n",
       "    <tr>\n",
       "      <th>144380</th>\n",
       "      <td>NaN</td>\n",
       "      <td>NaN</td>\n",
       "      <td>NaN</td>\n",
       "      <td>NaN</td>\n",
       "      <td>NaN</td>\n",
       "      <td>NaN</td>\n",
       "      <td>NaN</td>\n",
       "      <td>NaN</td>\n",
       "      <td>NaN</td>\n",
       "      <td>NaN</td>\n",
       "      <td>...</td>\n",
       "      <td>NaN</td>\n",
       "      <td>NaN</td>\n",
       "      <td>NaN</td>\n",
       "      <td>NaN</td>\n",
       "      <td>NaN</td>\n",
       "      <td>NaN</td>\n",
       "      <td>NaN</td>\n",
       "      <td>NaN</td>\n",
       "      <td>laos</td>\n",
       "      <td>NaN</td>\n",
       "    </tr>\n",
       "    <tr>\n",
       "      <th>...</th>\n",
       "      <td>...</td>\n",
       "      <td>...</td>\n",
       "      <td>...</td>\n",
       "      <td>...</td>\n",
       "      <td>...</td>\n",
       "      <td>...</td>\n",
       "      <td>...</td>\n",
       "      <td>...</td>\n",
       "      <td>...</td>\n",
       "      <td>...</td>\n",
       "      <td>...</td>\n",
       "      <td>...</td>\n",
       "      <td>...</td>\n",
       "      <td>...</td>\n",
       "      <td>...</td>\n",
       "      <td>...</td>\n",
       "      <td>...</td>\n",
       "      <td>...</td>\n",
       "      <td>...</td>\n",
       "      <td>...</td>\n",
       "      <td>...</td>\n",
       "    </tr>\n",
       "    <tr>\n",
       "      <th>695987</th>\n",
       "      <td>President emental</td>\n",
       "      <td>1</td>\n",
       "      <td>NaN</td>\n",
       "      <td>NaN</td>\n",
       "      <td>NaN</td>\n",
       "      <td>NaN</td>\n",
       "      <td>NaN</td>\n",
       "      <td>NaN</td>\n",
       "      <td>NaN</td>\n",
       "      <td>NaN</td>\n",
       "      <td>...</td>\n",
       "      <td>NaN</td>\n",
       "      <td>NaN</td>\n",
       "      <td>NaN</td>\n",
       "      <td>NaN</td>\n",
       "      <td>NaN</td>\n",
       "      <td>NaN</td>\n",
       "      <td>NaN</td>\n",
       "      <td>NaN</td>\n",
       "      <td>european union</td>\n",
       "      <td>NaN</td>\n",
       "    </tr>\n",
       "    <tr>\n",
       "      <th>696027</th>\n",
       "      <td>Müsli traditional</td>\n",
       "      <td>1000 g</td>\n",
       "      <td>NaN</td>\n",
       "      <td>NaN</td>\n",
       "      <td>NaN</td>\n",
       "      <td>NaN</td>\n",
       "      <td>NaN</td>\n",
       "      <td>NaN</td>\n",
       "      <td>NaN</td>\n",
       "      <td>NaN</td>\n",
       "      <td>...</td>\n",
       "      <td>NaN</td>\n",
       "      <td>NaN</td>\n",
       "      <td>NaN</td>\n",
       "      <td>NaN</td>\n",
       "      <td>NaN</td>\n",
       "      <td>NaN</td>\n",
       "      <td>NaN</td>\n",
       "      <td>NaN</td>\n",
       "      <td>kosovo</td>\n",
       "      <td>NaN</td>\n",
       "    </tr>\n",
       "    <tr>\n",
       "      <th>696112</th>\n",
       "      <td>Senf fini</td>\n",
       "      <td>500 g</td>\n",
       "      <td>NaN</td>\n",
       "      <td>NaN</td>\n",
       "      <td>NaN</td>\n",
       "      <td>NaN</td>\n",
       "      <td>NaN</td>\n",
       "      <td>NaN</td>\n",
       "      <td>NaN</td>\n",
       "      <td>NaN</td>\n",
       "      <td>...</td>\n",
       "      <td>1.181102</td>\n",
       "      <td>NaN</td>\n",
       "      <td>NaN</td>\n",
       "      <td>NaN</td>\n",
       "      <td>NaN</td>\n",
       "      <td>NaN</td>\n",
       "      <td>NaN</td>\n",
       "      <td>NaN</td>\n",
       "      <td>kosovo</td>\n",
       "      <td>NaN</td>\n",
       "    </tr>\n",
       "    <tr>\n",
       "      <th>699579</th>\n",
       "      <td>Knappertjes</td>\n",
       "      <td>220g</td>\n",
       "      <td>NaN</td>\n",
       "      <td>NaN</td>\n",
       "      <td>NaN</td>\n",
       "      <td>tarwebloem  suiker  palmolie lactose melkeiwit...</td>\n",
       "      <td>NaN</td>\n",
       "      <td>NaN</td>\n",
       "      <td>en:eggs,en:sesame-seeds,en:soybeans</td>\n",
       "      <td>en:eggs,en:sesame-seeds,en:soybeans</td>\n",
       "      <td>...</td>\n",
       "      <td>0.421260</td>\n",
       "      <td>NaN</td>\n",
       "      <td>NaN</td>\n",
       "      <td>NaN</td>\n",
       "      <td>NaN</td>\n",
       "      <td>16.0</td>\n",
       "      <td>16.0</td>\n",
       "      <td>NaN</td>\n",
       "      <td>nederland</td>\n",
       "      <td>NaN</td>\n",
       "    </tr>\n",
       "    <tr>\n",
       "      <th>702162</th>\n",
       "      <td>Bosna nan</td>\n",
       "      <td>200 g</td>\n",
       "      <td>halal</td>\n",
       "      <td>en:halal</td>\n",
       "      <td>Halal</td>\n",
       "      <td>NaN</td>\n",
       "      <td>NaN</td>\n",
       "      <td>NaN</td>\n",
       "      <td>NaN</td>\n",
       "      <td>NaN</td>\n",
       "      <td>...</td>\n",
       "      <td>NaN</td>\n",
       "      <td>NaN</td>\n",
       "      <td>NaN</td>\n",
       "      <td>NaN</td>\n",
       "      <td>NaN</td>\n",
       "      <td>NaN</td>\n",
       "      <td>NaN</td>\n",
       "      <td>NaN</td>\n",
       "      <td>kosovo</td>\n",
       "      <td>NaN</td>\n",
       "    </tr>\n",
       "    <tr>\n",
       "      <th>703815</th>\n",
       "      <td>White Roux</td>\n",
       "      <td>1 Kg</td>\n",
       "      <td>NaN</td>\n",
       "      <td>NaN</td>\n",
       "      <td>NaN</td>\n",
       "      <td>NaN</td>\n",
       "      <td>NaN</td>\n",
       "      <td>NaN</td>\n",
       "      <td>NaN</td>\n",
       "      <td>NaN</td>\n",
       "      <td>...</td>\n",
       "      <td>NaN</td>\n",
       "      <td>NaN</td>\n",
       "      <td>NaN</td>\n",
       "      <td>NaN</td>\n",
       "      <td>NaN</td>\n",
       "      <td>NaN</td>\n",
       "      <td>NaN</td>\n",
       "      <td>NaN</td>\n",
       "      <td>european union</td>\n",
       "      <td>NaN</td>\n",
       "    </tr>\n",
       "    <tr>\n",
       "      <th>706131</th>\n",
       "      <td>Microwave Popcorn</td>\n",
       "      <td>300 g</td>\n",
       "      <td>NaN</td>\n",
       "      <td>NaN</td>\n",
       "      <td>NaN</td>\n",
       "      <td>Mais à popcorn (81%), partiellement hydrogénés...</td>\n",
       "      <td>NaN</td>\n",
       "      <td>NaN</td>\n",
       "      <td>NaN</td>\n",
       "      <td>NaN</td>\n",
       "      <td>...</td>\n",
       "      <td>1.181102</td>\n",
       "      <td>NaN</td>\n",
       "      <td>NaN</td>\n",
       "      <td>NaN</td>\n",
       "      <td>NaN</td>\n",
       "      <td>NaN</td>\n",
       "      <td>NaN</td>\n",
       "      <td>NaN</td>\n",
       "      <td>belgium</td>\n",
       "      <td>NaN</td>\n",
       "    </tr>\n",
       "    <tr>\n",
       "      <th>706132</th>\n",
       "      <td>Pop Corn Doux</td>\n",
       "      <td>300 g</td>\n",
       "      <td>NaN</td>\n",
       "      <td>NaN</td>\n",
       "      <td>NaN</td>\n",
       "      <td>Maïs a popcorn (81%), partiellement hydrogénés...</td>\n",
       "      <td>NaN</td>\n",
       "      <td>NaN</td>\n",
       "      <td>NaN</td>\n",
       "      <td>NaN</td>\n",
       "      <td>...</td>\n",
       "      <td>0.000000</td>\n",
       "      <td>NaN</td>\n",
       "      <td>NaN</td>\n",
       "      <td>NaN</td>\n",
       "      <td>NaN</td>\n",
       "      <td>NaN</td>\n",
       "      <td>NaN</td>\n",
       "      <td>NaN</td>\n",
       "      <td>belgium</td>\n",
       "      <td>NaN</td>\n",
       "    </tr>\n",
       "    <tr>\n",
       "      <th>709792</th>\n",
       "      <td>ice tea refreshing green</td>\n",
       "      <td>1,5L</td>\n",
       "      <td>NaN</td>\n",
       "      <td>NaN</td>\n",
       "      <td>NaN</td>\n",
       "      <td>NaN</td>\n",
       "      <td>NaN</td>\n",
       "      <td>NaN</td>\n",
       "      <td>NaN</td>\n",
       "      <td>NaN</td>\n",
       "      <td>...</td>\n",
       "      <td>NaN</td>\n",
       "      <td>NaN</td>\n",
       "      <td>NaN</td>\n",
       "      <td>NaN</td>\n",
       "      <td>NaN</td>\n",
       "      <td>NaN</td>\n",
       "      <td>NaN</td>\n",
       "      <td>NaN</td>\n",
       "      <td>european union</td>\n",
       "      <td>NaN</td>\n",
       "    </tr>\n",
       "    <tr>\n",
       "      <th>710581</th>\n",
       "      <td>Knorr - Pastaria</td>\n",
       "      <td>151g</td>\n",
       "      <td>NaN</td>\n",
       "      <td>NaN</td>\n",
       "      <td>NaN</td>\n",
       "      <td>NaN</td>\n",
       "      <td>NaN</td>\n",
       "      <td>NaN</td>\n",
       "      <td>NaN</td>\n",
       "      <td>NaN</td>\n",
       "      <td>...</td>\n",
       "      <td>NaN</td>\n",
       "      <td>NaN</td>\n",
       "      <td>NaN</td>\n",
       "      <td>NaN</td>\n",
       "      <td>NaN</td>\n",
       "      <td>NaN</td>\n",
       "      <td>NaN</td>\n",
       "      <td>NaN</td>\n",
       "      <td>european union</td>\n",
       "      <td>NaN</td>\n",
       "    </tr>\n",
       "    <tr>\n",
       "      <th>710820</th>\n",
       "      <td>Thyme Puree</td>\n",
       "      <td>750 G</td>\n",
       "      <td>NaN</td>\n",
       "      <td>NaN</td>\n",
       "      <td>NaN</td>\n",
       "      <td>NaN</td>\n",
       "      <td>NaN</td>\n",
       "      <td>NaN</td>\n",
       "      <td>NaN</td>\n",
       "      <td>NaN</td>\n",
       "      <td>...</td>\n",
       "      <td>NaN</td>\n",
       "      <td>NaN</td>\n",
       "      <td>NaN</td>\n",
       "      <td>NaN</td>\n",
       "      <td>NaN</td>\n",
       "      <td>NaN</td>\n",
       "      <td>NaN</td>\n",
       "      <td>NaN</td>\n",
       "      <td>european union</td>\n",
       "      <td>NaN</td>\n",
       "    </tr>\n",
       "    <tr>\n",
       "      <th>710821</th>\n",
       "      <td>Mixed Peppercorn Puree</td>\n",
       "      <td>NaN</td>\n",
       "      <td>NaN</td>\n",
       "      <td>NaN</td>\n",
       "      <td>NaN</td>\n",
       "      <td>NaN</td>\n",
       "      <td>NaN</td>\n",
       "      <td>NaN</td>\n",
       "      <td>NaN</td>\n",
       "      <td>NaN</td>\n",
       "      <td>...</td>\n",
       "      <td>NaN</td>\n",
       "      <td>NaN</td>\n",
       "      <td>NaN</td>\n",
       "      <td>NaN</td>\n",
       "      <td>NaN</td>\n",
       "      <td>NaN</td>\n",
       "      <td>NaN</td>\n",
       "      <td>NaN</td>\n",
       "      <td>european union</td>\n",
       "      <td>NaN</td>\n",
       "    </tr>\n",
       "    <tr>\n",
       "      <th>710822</th>\n",
       "      <td>Garlic Puree</td>\n",
       "      <td>750 G</td>\n",
       "      <td>NaN</td>\n",
       "      <td>NaN</td>\n",
       "      <td>NaN</td>\n",
       "      <td>NaN</td>\n",
       "      <td>NaN</td>\n",
       "      <td>NaN</td>\n",
       "      <td>NaN</td>\n",
       "      <td>NaN</td>\n",
       "      <td>...</td>\n",
       "      <td>NaN</td>\n",
       "      <td>NaN</td>\n",
       "      <td>NaN</td>\n",
       "      <td>NaN</td>\n",
       "      <td>NaN</td>\n",
       "      <td>NaN</td>\n",
       "      <td>NaN</td>\n",
       "      <td>NaN</td>\n",
       "      <td>european union</td>\n",
       "      <td>NaN</td>\n",
       "    </tr>\n",
       "    <tr>\n",
       "      <th>711170</th>\n",
       "      <td>multifruits - zero sugar</td>\n",
       "      <td>0.75L</td>\n",
       "      <td>NaN</td>\n",
       "      <td>NaN</td>\n",
       "      <td>NaN</td>\n",
       "      <td>Eau</td>\n",
       "      <td>NaN</td>\n",
       "      <td>NaN</td>\n",
       "      <td>NaN</td>\n",
       "      <td>NaN</td>\n",
       "      <td>...</td>\n",
       "      <td>0.000000</td>\n",
       "      <td>NaN</td>\n",
       "      <td>NaN</td>\n",
       "      <td>NaN</td>\n",
       "      <td>NaN</td>\n",
       "      <td>0.0</td>\n",
       "      <td>0.0</td>\n",
       "      <td>NaN</td>\n",
       "      <td>pays-bas</td>\n",
       "      <td>NaN</td>\n",
       "    </tr>\n",
       "    <tr>\n",
       "      <th>711171</th>\n",
       "      <td>multifruits - zero sugar</td>\n",
       "      <td>0.75L</td>\n",
       "      <td>NaN</td>\n",
       "      <td>NaN</td>\n",
       "      <td>NaN</td>\n",
       "      <td>Eau</td>\n",
       "      <td>NaN</td>\n",
       "      <td>NaN</td>\n",
       "      <td>NaN</td>\n",
       "      <td>NaN</td>\n",
       "      <td>...</td>\n",
       "      <td>0.000000</td>\n",
       "      <td>NaN</td>\n",
       "      <td>NaN</td>\n",
       "      <td>NaN</td>\n",
       "      <td>NaN</td>\n",
       "      <td>0.0</td>\n",
       "      <td>0.0</td>\n",
       "      <td>NaN</td>\n",
       "      <td>belgium</td>\n",
       "      <td>NaN</td>\n",
       "    </tr>\n",
       "    <tr>\n",
       "      <th>712436</th>\n",
       "      <td>Nescafe 3 in 1</td>\n",
       "      <td>NaN</td>\n",
       "      <td>NaN</td>\n",
       "      <td>NaN</td>\n",
       "      <td>NaN</td>\n",
       "      <td>PER cup Of AN GOA*</td>\n",
       "      <td>NaN</td>\n",
       "      <td>NaN</td>\n",
       "      <td>NaN</td>\n",
       "      <td>NaN</td>\n",
       "      <td>...</td>\n",
       "      <td>0.393701</td>\n",
       "      <td>NaN</td>\n",
       "      <td>NaN</td>\n",
       "      <td>NaN</td>\n",
       "      <td>NaN</td>\n",
       "      <td>32.0</td>\n",
       "      <td>21.0</td>\n",
       "      <td>NaN</td>\n",
       "      <td>pakistan</td>\n",
       "      <td>NaN</td>\n",
       "    </tr>\n",
       "    <tr>\n",
       "      <th>712462</th>\n",
       "      <td>Mayo!</td>\n",
       "      <td>460 g</td>\n",
       "      <td>NaN</td>\n",
       "      <td>NaN</td>\n",
       "      <td>NaN</td>\n",
       "      <td>NaN</td>\n",
       "      <td>NaN</td>\n",
       "      <td>NaN</td>\n",
       "      <td>NaN</td>\n",
       "      <td>NaN</td>\n",
       "      <td>...</td>\n",
       "      <td>NaN</td>\n",
       "      <td>NaN</td>\n",
       "      <td>NaN</td>\n",
       "      <td>NaN</td>\n",
       "      <td>NaN</td>\n",
       "      <td>NaN</td>\n",
       "      <td>NaN</td>\n",
       "      <td>NaN</td>\n",
       "      <td>laos</td>\n",
       "      <td>NaN</td>\n",
       "    </tr>\n",
       "    <tr>\n",
       "      <th>712537</th>\n",
       "      <td>Sauce Huitre</td>\n",
       "      <td>700 ml</td>\n",
       "      <td>NaN</td>\n",
       "      <td>NaN</td>\n",
       "      <td>NaN</td>\n",
       "      <td>OYSTER SAUCE HEALTHY BOY BRAND drops to cook o...</td>\n",
       "      <td>NaN</td>\n",
       "      <td>NaN</td>\n",
       "      <td>en:fish</td>\n",
       "      <td>en:fish</td>\n",
       "      <td>...</td>\n",
       "      <td>5.472441</td>\n",
       "      <td>NaN</td>\n",
       "      <td>NaN</td>\n",
       "      <td>NaN</td>\n",
       "      <td>NaN</td>\n",
       "      <td>15.0</td>\n",
       "      <td>15.0</td>\n",
       "      <td>NaN</td>\n",
       "      <td>belgium</td>\n",
       "      <td>NaN</td>\n",
       "    </tr>\n",
       "    <tr>\n",
       "      <th>713135</th>\n",
       "      <td>Green Tea Ice cream</td>\n",
       "      <td>473ml</td>\n",
       "      <td>NaN</td>\n",
       "      <td>NaN</td>\n",
       "      <td>NaN</td>\n",
       "      <td>NaN</td>\n",
       "      <td>NaN</td>\n",
       "      <td>NaN</td>\n",
       "      <td>NaN</td>\n",
       "      <td>NaN</td>\n",
       "      <td>...</td>\n",
       "      <td>NaN</td>\n",
       "      <td>NaN</td>\n",
       "      <td>NaN</td>\n",
       "      <td>NaN</td>\n",
       "      <td>NaN</td>\n",
       "      <td>NaN</td>\n",
       "      <td>NaN</td>\n",
       "      <td>NaN</td>\n",
       "      <td>laos</td>\n",
       "      <td>NaN</td>\n",
       "    </tr>\n",
       "    <tr>\n",
       "      <th>716984</th>\n",
       "      <td>Felix nan</td>\n",
       "      <td>NaN</td>\n",
       "      <td>NaN</td>\n",
       "      <td>NaN</td>\n",
       "      <td>NaN</td>\n",
       "      <td>NaN</td>\n",
       "      <td>NaN</td>\n",
       "      <td>NaN</td>\n",
       "      <td>NaN</td>\n",
       "      <td>NaN</td>\n",
       "      <td>...</td>\n",
       "      <td>NaN</td>\n",
       "      <td>NaN</td>\n",
       "      <td>NaN</td>\n",
       "      <td>NaN</td>\n",
       "      <td>NaN</td>\n",
       "      <td>NaN</td>\n",
       "      <td>NaN</td>\n",
       "      <td>NaN</td>\n",
       "      <td>kosovo</td>\n",
       "      <td>NaN</td>\n",
       "    </tr>\n",
       "    <tr>\n",
       "      <th>720251</th>\n",
       "      <td>Choco Nut Snack cu lapte si crema de cacao-alune</td>\n",
       "      <td>29 g,</td>\n",
       "      <td>NaN</td>\n",
       "      <td>NaN</td>\n",
       "      <td>NaN</td>\n",
       "      <td>Grasimi vegetale (ulei de palmier si nuca de c...</td>\n",
       "      <td>en:eggs,en:gluten,en:milk,en:soybeans</td>\n",
       "      <td>NaN</td>\n",
       "      <td>NaN</td>\n",
       "      <td>NaN</td>\n",
       "      <td>...</td>\n",
       "      <td>0.188976</td>\n",
       "      <td>NaN</td>\n",
       "      <td>NaN</td>\n",
       "      <td>NaN</td>\n",
       "      <td>NaN</td>\n",
       "      <td>24.0</td>\n",
       "      <td>24.0</td>\n",
       "      <td>NaN</td>\n",
       "      <td>republika srpska</td>\n",
       "      <td>NaN</td>\n",
       "    </tr>\n",
       "    <tr>\n",
       "      <th>720891</th>\n",
       "      <td>Extra White Peppermint Flavour Sugarfree Chewi...</td>\n",
       "      <td>64 g</td>\n",
       "      <td>NaN</td>\n",
       "      <td>NaN</td>\n",
       "      <td>NaN</td>\n",
       "      <td>Maltitol, sorbitol, gum base, humectant (422),...</td>\n",
       "      <td>soy</td>\n",
       "      <td>NaN</td>\n",
       "      <td>NaN</td>\n",
       "      <td>NaN</td>\n",
       "      <td>...</td>\n",
       "      <td>0.064000</td>\n",
       "      <td>NaN</td>\n",
       "      <td>NaN</td>\n",
       "      <td>NaN</td>\n",
       "      <td>NaN</td>\n",
       "      <td>2.0</td>\n",
       "      <td>2.0</td>\n",
       "      <td>NaN</td>\n",
       "      <td>australia</td>\n",
       "      <td>NaN</td>\n",
       "    </tr>\n",
       "    <tr>\n",
       "      <th>720892</th>\n",
       "      <td>Extra White Peppermint Flavour Sugarfree Chewi...</td>\n",
       "      <td>64 g</td>\n",
       "      <td>NaN</td>\n",
       "      <td>NaN</td>\n",
       "      <td>NaN</td>\n",
       "      <td>Maltitol, sorbitol, gum base, humectant (422),...</td>\n",
       "      <td>soy</td>\n",
       "      <td>NaN</td>\n",
       "      <td>NaN</td>\n",
       "      <td>NaN</td>\n",
       "      <td>...</td>\n",
       "      <td>0.064000</td>\n",
       "      <td>NaN</td>\n",
       "      <td>NaN</td>\n",
       "      <td>NaN</td>\n",
       "      <td>NaN</td>\n",
       "      <td>2.0</td>\n",
       "      <td>2.0</td>\n",
       "      <td>NaN</td>\n",
       "      <td>nsw</td>\n",
       "      <td>NaN</td>\n",
       "    </tr>\n",
       "    <tr>\n",
       "      <th>721993</th>\n",
       "      <td>Spirals</td>\n",
       "      <td>500 g</td>\n",
       "      <td>NaN</td>\n",
       "      <td>NaN</td>\n",
       "      <td>NaN</td>\n",
       "      <td>NaN</td>\n",
       "      <td>NaN</td>\n",
       "      <td>NaN</td>\n",
       "      <td>NaN</td>\n",
       "      <td>NaN</td>\n",
       "      <td>...</td>\n",
       "      <td>NaN</td>\n",
       "      <td>NaN</td>\n",
       "      <td>NaN</td>\n",
       "      <td>NaN</td>\n",
       "      <td>NaN</td>\n",
       "      <td>NaN</td>\n",
       "      <td>NaN</td>\n",
       "      <td>NaN</td>\n",
       "      <td>laos</td>\n",
       "      <td>NaN</td>\n",
       "    </tr>\n",
       "    <tr>\n",
       "      <th>724604</th>\n",
       "      <td>Rebanadas de piña en almibar</td>\n",
       "      <td>800 g</td>\n",
       "      <td>NaN</td>\n",
       "      <td>NaN</td>\n",
       "      <td>NaN</td>\n",
       "      <td>NaN</td>\n",
       "      <td>NaN</td>\n",
       "      <td>NaN</td>\n",
       "      <td>NaN</td>\n",
       "      <td>NaN</td>\n",
       "      <td>...</td>\n",
       "      <td>NaN</td>\n",
       "      <td>NaN</td>\n",
       "      <td>NaN</td>\n",
       "      <td>NaN</td>\n",
       "      <td>NaN</td>\n",
       "      <td>NaN</td>\n",
       "      <td>NaN</td>\n",
       "      <td>NaN</td>\n",
       "      <td>mexico</td>\n",
       "      <td>NaN</td>\n",
       "    </tr>\n",
       "    <tr>\n",
       "      <th>725288</th>\n",
       "      <td>Mimolette</td>\n",
       "      <td>230g</td>\n",
       "      <td>NaN</td>\n",
       "      <td>NaN</td>\n",
       "      <td>NaN</td>\n",
       "      <td>NaN</td>\n",
       "      <td>NaN</td>\n",
       "      <td>NaN</td>\n",
       "      <td>NaN</td>\n",
       "      <td>NaN</td>\n",
       "      <td>...</td>\n",
       "      <td>NaN</td>\n",
       "      <td>NaN</td>\n",
       "      <td>NaN</td>\n",
       "      <td>NaN</td>\n",
       "      <td>NaN</td>\n",
       "      <td>NaN</td>\n",
       "      <td>NaN</td>\n",
       "      <td>NaN</td>\n",
       "      <td>european union</td>\n",
       "      <td>NaN</td>\n",
       "    </tr>\n",
       "    <tr>\n",
       "      <th>725531</th>\n",
       "      <td>Lager</td>\n",
       "      <td>330 ml</td>\n",
       "      <td>Point vert,Déconseillé aux femmes enceintes</td>\n",
       "      <td>en:green-dot,fr:deconseille-aux-femmes-enceintes</td>\n",
       "      <td>Green Dot,fr:Déconseillé aux femmes enceintes</td>\n",
       "      <td>Eau, malt, sucre, houblon</td>\n",
       "      <td>NaN</td>\n",
       "      <td>NaN</td>\n",
       "      <td>NaN</td>\n",
       "      <td>NaN</td>\n",
       "      <td>...</td>\n",
       "      <td>NaN</td>\n",
       "      <td>5.2</td>\n",
       "      <td>NaN</td>\n",
       "      <td>NaN</td>\n",
       "      <td>NaN</td>\n",
       "      <td>NaN</td>\n",
       "      <td>NaN</td>\n",
       "      <td>NaN</td>\n",
       "      <td>carib brewery ltd</td>\n",
       "      <td>NaN</td>\n",
       "    </tr>\n",
       "    <tr>\n",
       "      <th>725532</th>\n",
       "      <td>Lager</td>\n",
       "      <td>330 ml</td>\n",
       "      <td>Point vert,Déconseillé aux femmes enceintes</td>\n",
       "      <td>en:green-dot,fr:deconseille-aux-femmes-enceintes</td>\n",
       "      <td>Green Dot,fr:Déconseillé aux femmes enceintes</td>\n",
       "      <td>Eau, malt, sucre, houblon</td>\n",
       "      <td>NaN</td>\n",
       "      <td>NaN</td>\n",
       "      <td>NaN</td>\n",
       "      <td>NaN</td>\n",
       "      <td>...</td>\n",
       "      <td>NaN</td>\n",
       "      <td>5.2</td>\n",
       "      <td>NaN</td>\n",
       "      <td>NaN</td>\n",
       "      <td>NaN</td>\n",
       "      <td>NaN</td>\n",
       "      <td>NaN</td>\n",
       "      <td>NaN</td>\n",
       "      <td>champs fleurs</td>\n",
       "      <td>NaN</td>\n",
       "    </tr>\n",
       "    <tr>\n",
       "      <th>725534</th>\n",
       "      <td>Lager</td>\n",
       "      <td>330 ml</td>\n",
       "      <td>Point vert,Déconseillé aux femmes enceintes</td>\n",
       "      <td>en:green-dot,fr:deconseille-aux-femmes-enceintes</td>\n",
       "      <td>Green Dot,fr:Déconseillé aux femmes enceintes</td>\n",
       "      <td>Eau, malt, sucre, houblon</td>\n",
       "      <td>NaN</td>\n",
       "      <td>NaN</td>\n",
       "      <td>NaN</td>\n",
       "      <td>NaN</td>\n",
       "      <td>...</td>\n",
       "      <td>NaN</td>\n",
       "      <td>5.2</td>\n",
       "      <td>NaN</td>\n",
       "      <td>NaN</td>\n",
       "      <td>NaN</td>\n",
       "      <td>NaN</td>\n",
       "      <td>NaN</td>\n",
       "      <td>NaN</td>\n",
       "      <td>w.i.</td>\n",
       "      <td>NaN</td>\n",
       "    </tr>\n",
       "    <tr>\n",
       "      <th>725579</th>\n",
       "      <td>NaN</td>\n",
       "      <td>NaN</td>\n",
       "      <td>NaN</td>\n",
       "      <td>NaN</td>\n",
       "      <td>NaN</td>\n",
       "      <td>NaN</td>\n",
       "      <td>NaN</td>\n",
       "      <td>NaN</td>\n",
       "      <td>NaN</td>\n",
       "      <td>NaN</td>\n",
       "      <td>...</td>\n",
       "      <td>NaN</td>\n",
       "      <td>NaN</td>\n",
       "      <td>NaN</td>\n",
       "      <td>NaN</td>\n",
       "      <td>NaN</td>\n",
       "      <td>NaN</td>\n",
       "      <td>NaN</td>\n",
       "      <td>NaN</td>\n",
       "      <td>pakistan</td>\n",
       "      <td>NaN</td>\n",
       "    </tr>\n",
       "  </tbody>\n",
       "</table>\n",
       "<p>796 rows × 34 columns</p>\n",
       "</div>"
      ],
      "text/plain": [
       "                                       product_name_value  \\\n",
       "3789                                               Creamy   \n",
       "19179                                           Parmesano   \n",
       "24806                                   8 FONDANT FANCIES   \n",
       "40240                                                Oats   \n",
       "60498                                                 NaN   \n",
       "73528                                            PB&J bar   \n",
       "73529                                            PB&J bar   \n",
       "74747                                     Taste of nature   \n",
       "74748                             A&W racinette/root beer   \n",
       "75367                                        Carré de blé   \n",
       "76120                                             Nutella   \n",
       "76321                     Viva chips ingredients naturels   \n",
       "76576                               Natur-a Soya Chocolat   \n",
       "77703                       Mapple Syrup - Sirop d'erable   \n",
       "78141                            tartinade suprême raisin   \n",
       "79014                          Bouillon de poulet Loney’s   \n",
       "79820                                 Pure Darjeeling tea   \n",
       "79821                                 Pure Darjeeling tea   \n",
       "94249                            Baked Pita Classic White   \n",
       "99083                                 eau gazeuse perrier   \n",
       "104143                                         Sweet Peas   \n",
       "111868                             Double dipped saucette   \n",
       "118769                                Original Spiced Rum   \n",
       "122686                      Gâteries à l'érable du Canada   \n",
       "126574                                      Wasa Vollkorn   \n",
       "126947                                        Kentish Ale   \n",
       "127623            Sirop d'érable pur biologique Escuminac   \n",
       "138245                                          saucisson   \n",
       "138354                                 Raisins sultanines   \n",
       "144380                                                NaN   \n",
       "...                                                   ...   \n",
       "695987                                  President emental   \n",
       "696027                                  Müsli traditional   \n",
       "696112                                          Senf fini   \n",
       "699579                                        Knappertjes   \n",
       "702162                                          Bosna nan   \n",
       "703815                                         White Roux   \n",
       "706131                                  Microwave Popcorn   \n",
       "706132                                      Pop Corn Doux   \n",
       "709792                           ice tea refreshing green   \n",
       "710581                                   Knorr - Pastaria   \n",
       "710820                                        Thyme Puree   \n",
       "710821                             Mixed Peppercorn Puree   \n",
       "710822                                       Garlic Puree   \n",
       "711170                           multifruits - zero sugar   \n",
       "711171                           multifruits - zero sugar   \n",
       "712436                                     Nescafe 3 in 1   \n",
       "712462                                              Mayo!   \n",
       "712537                                       Sauce Huitre   \n",
       "713135                                Green Tea Ice cream   \n",
       "716984                                          Felix nan   \n",
       "720251   Choco Nut Snack cu lapte si crema de cacao-alune   \n",
       "720891  Extra White Peppermint Flavour Sugarfree Chewi...   \n",
       "720892  Extra White Peppermint Flavour Sugarfree Chewi...   \n",
       "721993                                            Spirals   \n",
       "724604                       Rebanadas de piña en almibar   \n",
       "725288                                          Mimolette   \n",
       "725531                                              Lager   \n",
       "725532                                              Lager   \n",
       "725534                                              Lager   \n",
       "725579                                                NaN   \n",
       "\n",
       "                          quantity  \\\n",
       "3789                          453g   \n",
       "19179                        85 g.   \n",
       "24806                            8   \n",
       "40240                    42 ounces   \n",
       "60498                          NaN   \n",
       "73528                        210 g   \n",
       "73529                        210 g   \n",
       "74747                            1   \n",
       "74748                          2 l   \n",
       "75367                         200g   \n",
       "76120                        375 g   \n",
       "76321                         38 g   \n",
       "76576                       1,89 l   \n",
       "77703                       250 ml   \n",
       "78141                       235 ml   \n",
       "79014                        400 g   \n",
       "79820                        100 g   \n",
       "79821                        100 g   \n",
       "94249                     6 Loaves   \n",
       "99083                           1l   \n",
       "104143                     227gram   \n",
       "111868                         47g   \n",
       "118769                      1.75 L   \n",
       "122686  3 produits, 155 g au total   \n",
       "126574                       260 g   \n",
       "126947                      500 ml   \n",
       "127623                      540 ml   \n",
       "138245                       250gr   \n",
       "138354                         NaN   \n",
       "144380                         NaN   \n",
       "...                            ...   \n",
       "695987                           1   \n",
       "696027                      1000 g   \n",
       "696112                       500 g   \n",
       "699579                        220g   \n",
       "702162                       200 g   \n",
       "703815                        1 Kg   \n",
       "706131                       300 g   \n",
       "706132                       300 g   \n",
       "709792                        1,5L   \n",
       "710581                        151g   \n",
       "710820                       750 G   \n",
       "710821                         NaN   \n",
       "710822                       750 G   \n",
       "711170                       0.75L   \n",
       "711171                       0.75L   \n",
       "712436                         NaN   \n",
       "712462                       460 g   \n",
       "712537                      700 ml   \n",
       "713135                       473ml   \n",
       "716984                         NaN   \n",
       "720251                       29 g,   \n",
       "720891                        64 g   \n",
       "720892                        64 g   \n",
       "721993                       500 g   \n",
       "724604                       800 g   \n",
       "725288                        230g   \n",
       "725531                      330 ml   \n",
       "725532                      330 ml   \n",
       "725534                      330 ml   \n",
       "725579                         NaN   \n",
       "\n",
       "                                                labels  \\\n",
       "3789                                               NaN   \n",
       "19179            Añejado por seis meses,Contiene leche   \n",
       "24806                                              NaN   \n",
       "40240                                              NaN   \n",
       "60498                                              NaN   \n",
       "73528                                              NaN   \n",
       "73529                                              NaN   \n",
       "74747                                              NaN   \n",
       "74748                                              NaN   \n",
       "75367                                              COR   \n",
       "76120         Kascher,Orthodox Union Kosher,Point Vert   \n",
       "76321                                              NaN   \n",
       "76576                Sans lactose,Sans cholestérol,Bio   \n",
       "77703                                              NaN   \n",
       "78141                                              NaN   \n",
       "79014                                              NaN   \n",
       "79820                                        Green Dot   \n",
       "79821                                        Green Dot   \n",
       "94249                                              NaN   \n",
       "99083                                              NaN   \n",
       "104143                                             NaN   \n",
       "111868                               Contient des OGMs   \n",
       "118769                                             NaN   \n",
       "122686        sans gluten,sans oeuf,sans sirop de maïs   \n",
       "126574                                             NaN   \n",
       "126947  Végétarien,IGP,Végétalien,Taste the Difference   \n",
       "127623          Biologique,Garantie Bio,Ecocert canada   \n",
       "138245            AB Agriculture Biologique, AB europe   \n",
       "138354                                             NaN   \n",
       "144380                                             NaN   \n",
       "...                                                ...   \n",
       "695987                                             NaN   \n",
       "696027                                             NaN   \n",
       "696112                                             NaN   \n",
       "699579                                             NaN   \n",
       "702162                                           halal   \n",
       "703815                                             NaN   \n",
       "706131                                             NaN   \n",
       "706132                                             NaN   \n",
       "709792                                             NaN   \n",
       "710581                                             NaN   \n",
       "710820                                             NaN   \n",
       "710821                                             NaN   \n",
       "710822                                             NaN   \n",
       "711170                                             NaN   \n",
       "711171                                             NaN   \n",
       "712436                                             NaN   \n",
       "712462                                             NaN   \n",
       "712537                                             NaN   \n",
       "713135                                             NaN   \n",
       "716984                                             NaN   \n",
       "720251                                             NaN   \n",
       "720891                                             NaN   \n",
       "720892                                             NaN   \n",
       "721993                                             NaN   \n",
       "724604                                             NaN   \n",
       "725288                                             NaN   \n",
       "725531     Point vert,Déconseillé aux femmes enceintes   \n",
       "725532     Point vert,Déconseillé aux femmes enceintes   \n",
       "725534     Point vert,Déconseillé aux femmes enceintes   \n",
       "725579                                             NaN   \n",
       "\n",
       "                                              labels_tags  \\\n",
       "3789                                                  NaN   \n",
       "19179          en:contains-milk,es:anejado-por-seis-meses   \n",
       "24806                                                 NaN   \n",
       "40240                                                 NaN   \n",
       "60498                                                 NaN   \n",
       "73528                                                 NaN   \n",
       "73529                                                 NaN   \n",
       "74747                                                 NaN   \n",
       "74748                                                 NaN   \n",
       "75367                                              fr:cor   \n",
       "76120   en:kosher,en:orthodox-union-kosher,en:kascher,...   \n",
       "76321                                                 NaN   \n",
       "76576          en:organic,en:no-cholesterol,en:no-lactose   \n",
       "77703                                                 NaN   \n",
       "78141                                                 NaN   \n",
       "79014                                                 NaN   \n",
       "79820                                        en:green-dot   \n",
       "79821                                        en:green-dot   \n",
       "94249                                                 NaN   \n",
       "99083                                                 NaN   \n",
       "104143                                                NaN   \n",
       "111868                                   en:contains-gmos   \n",
       "118769                                                NaN   \n",
       "122686    en:gluten-free,en:no-eggs,fr:sans-sirop-de-mais   \n",
       "126574                                                NaN   \n",
       "126947  en:igp,en:taste-the-difference,en:vegetalien,e...   \n",
       "127623  en:organic,en:certified-by-ecocert,en:certifie...   \n",
       "138245  en:organic,en:eu-organic,fr:ab-agriculture-bio...   \n",
       "138354                                                NaN   \n",
       "144380                                                NaN   \n",
       "...                                                   ...   \n",
       "695987                                                NaN   \n",
       "696027                                                NaN   \n",
       "696112                                                NaN   \n",
       "699579                                                NaN   \n",
       "702162                                           en:halal   \n",
       "703815                                                NaN   \n",
       "706131                                                NaN   \n",
       "706132                                                NaN   \n",
       "709792                                                NaN   \n",
       "710581                                                NaN   \n",
       "710820                                                NaN   \n",
       "710821                                                NaN   \n",
       "710822                                                NaN   \n",
       "711170                                                NaN   \n",
       "711171                                                NaN   \n",
       "712436                                                NaN   \n",
       "712462                                                NaN   \n",
       "712537                                                NaN   \n",
       "713135                                                NaN   \n",
       "716984                                                NaN   \n",
       "720251                                                NaN   \n",
       "720891                                                NaN   \n",
       "720892                                                NaN   \n",
       "721993                                                NaN   \n",
       "724604                                                NaN   \n",
       "725288                                                NaN   \n",
       "725531   en:green-dot,fr:deconseille-aux-femmes-enceintes   \n",
       "725532   en:green-dot,fr:deconseille-aux-femmes-enceintes   \n",
       "725534   en:green-dot,fr:deconseille-aux-femmes-enceintes   \n",
       "725579                                                NaN   \n",
       "\n",
       "                                                labels_en  \\\n",
       "3789                                                  NaN   \n",
       "19179             Contains milk,es:anejado-por-seis-meses   \n",
       "24806                                                 NaN   \n",
       "40240                                                 NaN   \n",
       "60498                                                 NaN   \n",
       "73528                                                 NaN   \n",
       "73529                                                 NaN   \n",
       "74747                                                 NaN   \n",
       "74748                                                 NaN   \n",
       "75367                                              fr:cor   \n",
       "76120     Kosher,Orthodox Union Kosher,Kascher,Point-vert   \n",
       "76321                                                 NaN   \n",
       "76576                   Organic,No cholesterol,No lactose   \n",
       "77703                                                 NaN   \n",
       "78141                                                 NaN   \n",
       "79014                                                 NaN   \n",
       "79820                                           Green Dot   \n",
       "79821                                           Green Dot   \n",
       "94249                                                 NaN   \n",
       "99083                                                 NaN   \n",
       "104143                                                NaN   \n",
       "111868                                      Contains GMOs   \n",
       "118769                                                NaN   \n",
       "122686          Gluten-free,No eggs,fr:sans-sirop-de-mais   \n",
       "126574                                                NaN   \n",
       "126947     Igp,Taste-the-difference,Vegetalien,Vegetarien   \n",
       "127623  Organic,Certified by Ecocert,Certified by Ecoc...   \n",
       "138245  Organic,EU Organic,fr:AB Agriculture Biologiqu...   \n",
       "138354                                                NaN   \n",
       "144380                                                NaN   \n",
       "...                                                   ...   \n",
       "695987                                                NaN   \n",
       "696027                                                NaN   \n",
       "696112                                                NaN   \n",
       "699579                                                NaN   \n",
       "702162                                              Halal   \n",
       "703815                                                NaN   \n",
       "706131                                                NaN   \n",
       "706132                                                NaN   \n",
       "709792                                                NaN   \n",
       "710581                                                NaN   \n",
       "710820                                                NaN   \n",
       "710821                                                NaN   \n",
       "710822                                                NaN   \n",
       "711170                                                NaN   \n",
       "711171                                                NaN   \n",
       "712436                                                NaN   \n",
       "712462                                                NaN   \n",
       "712537                                                NaN   \n",
       "713135                                                NaN   \n",
       "716984                                                NaN   \n",
       "720251                                                NaN   \n",
       "720891                                                NaN   \n",
       "720892                                                NaN   \n",
       "721993                                                NaN   \n",
       "724604                                                NaN   \n",
       "725288                                                NaN   \n",
       "725531      Green Dot,fr:Déconseillé aux femmes enceintes   \n",
       "725532      Green Dot,fr:Déconseillé aux femmes enceintes   \n",
       "725534      Green Dot,fr:Déconseillé aux femmes enceintes   \n",
       "725579                                                NaN   \n",
       "\n",
       "                                         ingredients_text  \\\n",
       "3789                                                  NaN   \n",
       "19179   Queso tipo parmesano rallado (Leche parcialmen...   \n",
       "24806   8 sponge cakes topped with buttercream and cov...   \n",
       "40240                                                 NaN   \n",
       "60498                                                 NaN   \n",
       "73528   Strawberry filling: sugar, cane syrup, glyceri...   \n",
       "73529   Strawberry filling: sugar, cane syrup, glyceri...   \n",
       "74747                                                 NaN   \n",
       "74748   eau gazéifiée,sucre/glucose-fructose,caramel,b...   \n",
       "75367   INGREDIENTS: WHOLE GRAIN WHOLE WHEAT HIGH OLEI...   \n",
       "76120                                                 NaN   \n",
       "76321   farine de pomme de terre, huile canola, amidon...   \n",
       "76576   Eau filtrée, Fèves de soya biologiques, jus de...   \n",
       "77703                                     Sirop d'érable    \n",
       "78141   PUREE DE RAISINS BIOLOGIQUE, SUCRE DE CANNE BI...   \n",
       "79014   Extrait sec de glucose, sel, sucre, glutamate ...   \n",
       "79820                                         Schwarztee.   \n",
       "79821                                         Schwarztee.   \n",
       "94249                                                 NaN   \n",
       "99083          eau de source naturelle,dioxyde de carbone   \n",
       "104143                                                NaN   \n",
       "111868  Dextrose, Sucre, Acide malique, Sirop de maïs,...   \n",
       "118769                                                NaN   \n",
       "122686  Caramel (beurre, sucre, sirop d’érable, eau, s...   \n",
       "126574  Ingrédients: farine complète de _seigle_, levu...   \n",
       "126947                                      _Barley_ Malt   \n",
       "127623                                 Sirop d'érable pur   \n",
       "138245  FR 002 sucres salpêtre betterave lait cerises ...   \n",
       "138354                                                NaN   \n",
       "144380                                                NaN   \n",
       "...                                                   ...   \n",
       "695987                                                NaN   \n",
       "696027                                                NaN   \n",
       "696112                                                NaN   \n",
       "699579  tarwebloem  suiker  palmolie lactose melkeiwit...   \n",
       "702162                                                NaN   \n",
       "703815                                                NaN   \n",
       "706131  Mais à popcorn (81%), partiellement hydrogénés...   \n",
       "706132  Maïs a popcorn (81%), partiellement hydrogénés...   \n",
       "709792                                                NaN   \n",
       "710581                                                NaN   \n",
       "710820                                                NaN   \n",
       "710821                                                NaN   \n",
       "710822                                                NaN   \n",
       "711170                                                Eau   \n",
       "711171                                                Eau   \n",
       "712436                                 PER cup Of AN GOA*   \n",
       "712462                                                NaN   \n",
       "712537  OYSTER SAUCE HEALTHY BOY BRAND drops to cook o...   \n",
       "713135                                                NaN   \n",
       "716984                                                NaN   \n",
       "720251  Grasimi vegetale (ulei de palmier si nuca de c...   \n",
       "720891  Maltitol, sorbitol, gum base, humectant (422),...   \n",
       "720892  Maltitol, sorbitol, gum base, humectant (422),...   \n",
       "721993                                                NaN   \n",
       "724604                                                NaN   \n",
       "725288                                                NaN   \n",
       "725531                          Eau, malt, sucre, houblon   \n",
       "725532                          Eau, malt, sucre, houblon   \n",
       "725534                          Eau, malt, sucre, houblon   \n",
       "725579                                                NaN   \n",
       "\n",
       "                                    allergens allergens_en  \\\n",
       "3789                                      NaN          NaN   \n",
       "19179                                 en:milk          NaN   \n",
       "24806                                     NaN          NaN   \n",
       "40240                                     NaN          NaN   \n",
       "60498                                     NaN          NaN   \n",
       "73528                                 peanuts          NaN   \n",
       "73529                                 peanuts          NaN   \n",
       "74747                                     NaN          NaN   \n",
       "74748                                     NaN          NaN   \n",
       "75367                                     NaN          NaN   \n",
       "76120                                     NaN          NaN   \n",
       "76321                                     NaN          NaN   \n",
       "76576                                     NaN          NaN   \n",
       "77703                                     NaN          NaN   \n",
       "78141                                     NaN          NaN   \n",
       "79014                                     NaN          NaN   \n",
       "79820                                     NaN          NaN   \n",
       "79821                                     NaN          NaN   \n",
       "94249                                     NaN          NaN   \n",
       "99083                                     NaN          NaN   \n",
       "104143                                    NaN          NaN   \n",
       "111868                                    NaN          NaN   \n",
       "118769                                    NaN          NaN   \n",
       "122686                                    NaN          NaN   \n",
       "126574                                    NaN          NaN   \n",
       "126947                                 Barley          NaN   \n",
       "127623                                    NaN          NaN   \n",
       "138245                                    NaN          NaN   \n",
       "138354                                    NaN          NaN   \n",
       "144380                                    NaN          NaN   \n",
       "...                                       ...          ...   \n",
       "695987                                    NaN          NaN   \n",
       "696027                                    NaN          NaN   \n",
       "696112                                    NaN          NaN   \n",
       "699579                                    NaN          NaN   \n",
       "702162                                    NaN          NaN   \n",
       "703815                                    NaN          NaN   \n",
       "706131                                    NaN          NaN   \n",
       "706132                                    NaN          NaN   \n",
       "709792                                    NaN          NaN   \n",
       "710581                                    NaN          NaN   \n",
       "710820                                    NaN          NaN   \n",
       "710821                                    NaN          NaN   \n",
       "710822                                    NaN          NaN   \n",
       "711170                                    NaN          NaN   \n",
       "711171                                    NaN          NaN   \n",
       "712436                                    NaN          NaN   \n",
       "712462                                    NaN          NaN   \n",
       "712537                                    NaN          NaN   \n",
       "713135                                    NaN          NaN   \n",
       "716984                                    NaN          NaN   \n",
       "720251  en:eggs,en:gluten,en:milk,en:soybeans          NaN   \n",
       "720891                                    soy          NaN   \n",
       "720892                                    soy          NaN   \n",
       "721993                                    NaN          NaN   \n",
       "724604                                    NaN          NaN   \n",
       "725288                                    NaN          NaN   \n",
       "725531                                    NaN          NaN   \n",
       "725532                                    NaN          NaN   \n",
       "725534                                    NaN          NaN   \n",
       "725579                                    NaN          NaN   \n",
       "\n",
       "                                     traces  \\\n",
       "3789                                    NaN   \n",
       "19179                                   NaN   \n",
       "24806                               en:nuts   \n",
       "40240                                   NaN   \n",
       "60498                                   NaN   \n",
       "73528                    milk,soy,tree nuts   \n",
       "73529                    milk,soy,tree nuts   \n",
       "74747                                   NaN   \n",
       "74748                                   NaN   \n",
       "75367                                   NaN   \n",
       "76120                                   NaN   \n",
       "76321                                   NaN   \n",
       "76576                                   NaN   \n",
       "77703                                   NaN   \n",
       "78141                                   NaN   \n",
       "79014                                   NaN   \n",
       "79820                                   NaN   \n",
       "79821                                   NaN   \n",
       "94249                                   NaN   \n",
       "99083                                   NaN   \n",
       "104143                                  NaN   \n",
       "111868                              en:eggs   \n",
       "118769                                  NaN   \n",
       "122686                       noix,lait,soja   \n",
       "126574                                  NaN   \n",
       "126947                                  NaN   \n",
       "127623                                  NaN   \n",
       "138245                                  NaN   \n",
       "138354                                  NaN   \n",
       "144380                                  NaN   \n",
       "...                                     ...   \n",
       "695987                                  NaN   \n",
       "696027                                  NaN   \n",
       "696112                                  NaN   \n",
       "699579  en:eggs,en:sesame-seeds,en:soybeans   \n",
       "702162                                  NaN   \n",
       "703815                                  NaN   \n",
       "706131                                  NaN   \n",
       "706132                                  NaN   \n",
       "709792                                  NaN   \n",
       "710581                                  NaN   \n",
       "710820                                  NaN   \n",
       "710821                                  NaN   \n",
       "710822                                  NaN   \n",
       "711170                                  NaN   \n",
       "711171                                  NaN   \n",
       "712436                                  NaN   \n",
       "712462                                  NaN   \n",
       "712537                              en:fish   \n",
       "713135                                  NaN   \n",
       "716984                                  NaN   \n",
       "720251                                  NaN   \n",
       "720891                                  NaN   \n",
       "720892                                  NaN   \n",
       "721993                                  NaN   \n",
       "724604                                  NaN   \n",
       "725288                                  NaN   \n",
       "725531                                  NaN   \n",
       "725532                                  NaN   \n",
       "725534                                  NaN   \n",
       "725579                                  NaN   \n",
       "\n",
       "                                traces_tags      ...      sodium_100g  \\\n",
       "3789                                    NaN      ...              NaN   \n",
       "19179                                   NaN      ...         1.540000   \n",
       "24806                               en:nuts      ...         0.208661   \n",
       "40240                                   NaN      ...              NaN   \n",
       "60498                                   NaN      ...              NaN   \n",
       "73528      en:milk,en:soybeans,en:tree-nuts      ...         0.157000   \n",
       "73529      en:milk,en:soybeans,en:tree-nuts      ...         0.157000   \n",
       "74747                                   NaN      ...              NaN   \n",
       "74748                                   NaN      ...         0.018000   \n",
       "75367                                   NaN      ...         0.043307   \n",
       "76120                                   NaN      ...         0.019685   \n",
       "76321                                   NaN      ...         0.393701   \n",
       "76576                                   NaN      ...         0.056000   \n",
       "77703                                   NaN      ...         0.016700   \n",
       "78141                                   NaN      ...         0.003937   \n",
       "79014                                   NaN      ...        13.300000   \n",
       "79820                                   NaN      ...              NaN   \n",
       "79821                                   NaN      ...              NaN   \n",
       "94249                                   NaN      ...              NaN   \n",
       "99083                                   NaN      ...         0.001000   \n",
       "104143                                  NaN      ...              NaN   \n",
       "111868                              en:eggs      ...         0.000000   \n",
       "118769                                  NaN      ...         0.000000   \n",
       "122686          en:milk,en:nuts,en:soybeans      ...              NaN   \n",
       "126574                                  NaN      ...         0.051181   \n",
       "126947                                  NaN      ...              NaN   \n",
       "127623                                  NaN      ...         0.008330   \n",
       "138245                                  NaN      ...              NaN   \n",
       "138354                                  NaN      ...              NaN   \n",
       "144380                                  NaN      ...              NaN   \n",
       "...                                     ...      ...              ...   \n",
       "695987                                  NaN      ...              NaN   \n",
       "696027                                  NaN      ...              NaN   \n",
       "696112                                  NaN      ...         1.181102   \n",
       "699579  en:eggs,en:sesame-seeds,en:soybeans      ...         0.421260   \n",
       "702162                                  NaN      ...              NaN   \n",
       "703815                                  NaN      ...              NaN   \n",
       "706131                                  NaN      ...         1.181102   \n",
       "706132                                  NaN      ...         0.000000   \n",
       "709792                                  NaN      ...              NaN   \n",
       "710581                                  NaN      ...              NaN   \n",
       "710820                                  NaN      ...              NaN   \n",
       "710821                                  NaN      ...              NaN   \n",
       "710822                                  NaN      ...              NaN   \n",
       "711170                                  NaN      ...         0.000000   \n",
       "711171                                  NaN      ...         0.000000   \n",
       "712436                                  NaN      ...         0.393701   \n",
       "712462                                  NaN      ...              NaN   \n",
       "712537                              en:fish      ...         5.472441   \n",
       "713135                                  NaN      ...              NaN   \n",
       "716984                                  NaN      ...              NaN   \n",
       "720251                                  NaN      ...         0.188976   \n",
       "720891                                  NaN      ...         0.064000   \n",
       "720892                                  NaN      ...         0.064000   \n",
       "721993                                  NaN      ...              NaN   \n",
       "724604                                  NaN      ...              NaN   \n",
       "725288                                  NaN      ...              NaN   \n",
       "725531                                  NaN      ...              NaN   \n",
       "725532                                  NaN      ...              NaN   \n",
       "725534                                  NaN      ...              NaN   \n",
       "725579                                  NaN      ...              NaN   \n",
       "\n",
       "        alcohol_100g calcium_100g  iron_100g  carbon-footprint_100g  \\\n",
       "3789             NaN          NaN        NaN                    NaN   \n",
       "19179            NaN          NaN        NaN                    NaN   \n",
       "24806            NaN          NaN        NaN                    NaN   \n",
       "40240            NaN          NaN        NaN                    NaN   \n",
       "60498            NaN          NaN        NaN                    NaN   \n",
       "73528            0.0       0.0000    0.00206                    NaN   \n",
       "73529            0.0       0.0000    0.00206                    NaN   \n",
       "74747            NaN          NaN        NaN                    NaN   \n",
       "74748            NaN          NaN        NaN                    NaN   \n",
       "75367            NaN          NaN        NaN                    NaN   \n",
       "76120            NaN          NaN        NaN                    NaN   \n",
       "76321            NaN          NaN        NaN                    NaN   \n",
       "76576            NaN          NaN        NaN                    NaN   \n",
       "77703            NaN       0.0733        NaN                    NaN   \n",
       "78141            0.0          NaN        NaN                    NaN   \n",
       "79014            NaN          NaN        NaN                    NaN   \n",
       "79820            NaN          NaN        NaN                    NaN   \n",
       "79821            NaN          NaN        NaN                    NaN   \n",
       "94249            NaN          NaN        NaN                    NaN   \n",
       "99083            NaN          NaN        NaN                    NaN   \n",
       "104143           NaN          NaN        NaN                    NaN   \n",
       "111868           NaN          NaN        NaN                    NaN   \n",
       "118769          35.0          NaN        NaN                    NaN   \n",
       "122686           NaN          NaN        NaN                    NaN   \n",
       "126574           NaN          NaN        NaN                    NaN   \n",
       "126947           4.5          NaN        NaN                    NaN   \n",
       "127623           NaN       0.0667    0.00180                    NaN   \n",
       "138245           NaN          NaN        NaN                    NaN   \n",
       "138354           NaN          NaN        NaN                    NaN   \n",
       "144380           NaN          NaN        NaN                    NaN   \n",
       "...              ...          ...        ...                    ...   \n",
       "695987           NaN          NaN        NaN                    NaN   \n",
       "696027           NaN          NaN        NaN                    NaN   \n",
       "696112           NaN          NaN        NaN                    NaN   \n",
       "699579           NaN          NaN        NaN                    NaN   \n",
       "702162           NaN          NaN        NaN                    NaN   \n",
       "703815           NaN          NaN        NaN                    NaN   \n",
       "706131           NaN          NaN        NaN                    NaN   \n",
       "706132           NaN          NaN        NaN                    NaN   \n",
       "709792           NaN          NaN        NaN                    NaN   \n",
       "710581           NaN          NaN        NaN                    NaN   \n",
       "710820           NaN          NaN        NaN                    NaN   \n",
       "710821           NaN          NaN        NaN                    NaN   \n",
       "710822           NaN          NaN        NaN                    NaN   \n",
       "711170           NaN          NaN        NaN                    NaN   \n",
       "711171           NaN          NaN        NaN                    NaN   \n",
       "712436           NaN          NaN        NaN                    NaN   \n",
       "712462           NaN          NaN        NaN                    NaN   \n",
       "712537           NaN          NaN        NaN                    NaN   \n",
       "713135           NaN          NaN        NaN                    NaN   \n",
       "716984           NaN          NaN        NaN                    NaN   \n",
       "720251           NaN          NaN        NaN                    NaN   \n",
       "720891           NaN          NaN        NaN                    NaN   \n",
       "720892           NaN          NaN        NaN                    NaN   \n",
       "721993           NaN          NaN        NaN                    NaN   \n",
       "724604           NaN          NaN        NaN                    NaN   \n",
       "725288           NaN          NaN        NaN                    NaN   \n",
       "725531           5.2          NaN        NaN                    NaN   \n",
       "725532           5.2          NaN        NaN                    NaN   \n",
       "725534           5.2          NaN        NaN                    NaN   \n",
       "725579           NaN          NaN        NaN                    NaN   \n",
       "\n",
       "        nutrition-score-fr_100g  nutrition-score-uk_100g  glycemic-index_100g  \\\n",
       "3789                        NaN                      NaN                  NaN   \n",
       "19179                      20.0                     25.0                  NaN   \n",
       "24806                      19.0                     19.0                  NaN   \n",
       "40240                       NaN                      NaN                  NaN   \n",
       "60498                       NaN                      NaN                  NaN   \n",
       "73528                       9.0                      9.0                  NaN   \n",
       "73529                       9.0                      9.0                  NaN   \n",
       "74747                       NaN                      NaN                  NaN   \n",
       "74748                       NaN                      NaN                  NaN   \n",
       "75367                       NaN                      NaN                  NaN   \n",
       "76120                      21.0                     21.0                  NaN   \n",
       "76321                       NaN                      NaN                  NaN   \n",
       "76576                       0.0                      0.0                  NaN   \n",
       "77703                       NaN                      NaN                  NaN   \n",
       "78141                       NaN                      NaN                  NaN   \n",
       "79014                      17.0                     17.0                  NaN   \n",
       "79820                       NaN                      NaN                  NaN   \n",
       "79821                       NaN                      NaN                  NaN   \n",
       "94249                       NaN                      NaN                  NaN   \n",
       "99083                       NaN                      NaN                  NaN   \n",
       "104143                      NaN                      NaN                  NaN   \n",
       "111868                      NaN                      NaN                  NaN   \n",
       "118769                      NaN                      NaN                  NaN   \n",
       "122686                      NaN                      NaN                  NaN   \n",
       "126574                     -2.0                     -2.0                  NaN   \n",
       "126947                      NaN                      NaN                  NaN   \n",
       "127623                     14.0                     14.0                  NaN   \n",
       "138245                      NaN                      NaN                  NaN   \n",
       "138354                      NaN                      NaN                  NaN   \n",
       "144380                      NaN                      NaN                  NaN   \n",
       "...                         ...                      ...                  ...   \n",
       "695987                      NaN                      NaN                  NaN   \n",
       "696027                      NaN                      NaN                  NaN   \n",
       "696112                      NaN                      NaN                  NaN   \n",
       "699579                     16.0                     16.0                  NaN   \n",
       "702162                      NaN                      NaN                  NaN   \n",
       "703815                      NaN                      NaN                  NaN   \n",
       "706131                      NaN                      NaN                  NaN   \n",
       "706132                      NaN                      NaN                  NaN   \n",
       "709792                      NaN                      NaN                  NaN   \n",
       "710581                      NaN                      NaN                  NaN   \n",
       "710820                      NaN                      NaN                  NaN   \n",
       "710821                      NaN                      NaN                  NaN   \n",
       "710822                      NaN                      NaN                  NaN   \n",
       "711170                      0.0                      0.0                  NaN   \n",
       "711171                      0.0                      0.0                  NaN   \n",
       "712436                     32.0                     21.0                  NaN   \n",
       "712462                      NaN                      NaN                  NaN   \n",
       "712537                     15.0                     15.0                  NaN   \n",
       "713135                      NaN                      NaN                  NaN   \n",
       "716984                      NaN                      NaN                  NaN   \n",
       "720251                     24.0                     24.0                  NaN   \n",
       "720891                      2.0                      2.0                  NaN   \n",
       "720892                      2.0                      2.0                  NaN   \n",
       "721993                      NaN                      NaN                  NaN   \n",
       "724604                      NaN                      NaN                  NaN   \n",
       "725288                      NaN                      NaN                  NaN   \n",
       "725531                      NaN                      NaN                  NaN   \n",
       "725532                      NaN                      NaN                  NaN   \n",
       "725534                      NaN                      NaN                  NaN   \n",
       "725579                      NaN                      NaN                  NaN   \n",
       "\n",
       "             country_name  country_code  \n",
       "3789             pakistan           NaN  \n",
       "19179              mexico           NaN  \n",
       "24806      european union           NaN  \n",
       "40240         the bahamas           NaN  \n",
       "60498       united states           NaN  \n",
       "73528       united states           NaN  \n",
       "73529                 usa           NaN  \n",
       "74747      european union           NaN  \n",
       "74748              canada           NaN  \n",
       "75367              canada           NaN  \n",
       "76120              canada           NaN  \n",
       "76321              canada           NaN  \n",
       "76576              canada           NaN  \n",
       "77703              canada           NaN  \n",
       "78141       quebec-canada           NaN  \n",
       "79014              canada           NaN  \n",
       "79820           allemagne           NaN  \n",
       "79821       weil am rhein           NaN  \n",
       "94249             curaçao           NaN  \n",
       "99083              canada           NaN  \n",
       "104143            curaçao           NaN  \n",
       "111868         états-unis           NaN  \n",
       "118769     european union           NaN  \n",
       "122686             canada           NaN  \n",
       "126574             suisse           NaN  \n",
       "126947            england           NaN  \n",
       "127623             canada           NaN  \n",
       "138245           u salumu           NaN  \n",
       "138354     european union           NaN  \n",
       "144380               laos           NaN  \n",
       "...                   ...           ...  \n",
       "695987     european union           NaN  \n",
       "696027             kosovo           NaN  \n",
       "696112             kosovo           NaN  \n",
       "699579          nederland           NaN  \n",
       "702162             kosovo           NaN  \n",
       "703815     european union           NaN  \n",
       "706131            belgium           NaN  \n",
       "706132            belgium           NaN  \n",
       "709792     european union           NaN  \n",
       "710581     european union           NaN  \n",
       "710820     european union           NaN  \n",
       "710821     european union           NaN  \n",
       "710822     european union           NaN  \n",
       "711170           pays-bas           NaN  \n",
       "711171            belgium           NaN  \n",
       "712436           pakistan           NaN  \n",
       "712462               laos           NaN  \n",
       "712537            belgium           NaN  \n",
       "713135               laos           NaN  \n",
       "716984             kosovo           NaN  \n",
       "720251   republika srpska           NaN  \n",
       "720891          australia           NaN  \n",
       "720892                nsw           NaN  \n",
       "721993               laos           NaN  \n",
       "724604             mexico           NaN  \n",
       "725288     european union           NaN  \n",
       "725531  carib brewery ltd           NaN  \n",
       "725532      champs fleurs           NaN  \n",
       "725534               w.i.           NaN  \n",
       "725579           pakistan           NaN  \n",
       "\n",
       "[796 rows x 34 columns]"
      ]
     },
     "execution_count": 188,
     "metadata": {},
     "output_type": "execute_result"
    }
   ],
   "source": [
    "notAssigned(df_5)\n"
   ]
  },
  {
   "cell_type": "code",
   "execution_count": 148,
   "metadata": {},
   "outputs": [],
   "source": [
    "def best_match(country_df, row):\n",
    "    if pd.isnull(row['country_code']):\n",
    "        countries = list(country_df[result_column])\n",
    "        for country in countries:\n",
    "            if row[result_column] in country:\n",
    "                return country\n",
    "\n",
    "    return row[result_column]"
   ]
  },
  {
   "cell_type": "code",
   "execution_count": 189,
   "metadata": {},
   "outputs": [
    {
     "name": "stdout",
     "output_type": "stream",
     "text": [
      "Number of unassigned items is: 634\n",
      "The important values are: \n",
      "<bound method Series.to_string of product name completed                                                                                         34\n",
      "brands completed                                                                                               34\n",
      "categories completed                                                                                           34\n",
      "nutrition facts completed                                                                                      33\n",
      "quantity completed                                                                                             33\n",
      "characteristics completed                                                                                      33\n",
      "photos uploaded                                                                                                33\n",
      "packaging completed                                                                                            33\n",
      "ingredients completed                                                                                          33\n",
      "photos validated                                                                                               30\n",
      "to be checked                                                                                                  30\n",
      "complete                                                                                                       30\n",
      "packaging-code-completed                                                                                       26\n",
      "judgment-empty                                                                                                 24\n",
      "expiration date completed                                                                                      17\n",
      "expiration date to be completed                                                                                17\n",
      "gers                                                                                                           15\n",
      "danone produits frais france (dpff) - 2 avenue de l'industrie - 32730 villecomtal-sur-arros                    13\n",
      "midi-pyrénées                                                                                                  13\n",
      "weil am rhein                                                                                                   8\n",
      "world                                                                                                           6\n",
      "deutschland                                                                                                     5\n",
      "macau                                                                                                           5\n",
      "allemagne                                                                                                       4\n",
      "rhône-alpes                                                                                                     4\n",
      "isère                                                                                                           4\n",
      "to be completed                                                                                                 4\n",
      "danone produits frais france (dpff) - 60 impasse du pan perdu - les verchères - 38540 saint-just-chaleyssin     4\n",
      "españa                                                                                                          4\n",
      "laos                                                                                                            4\n",
      "                                                                                                               ..\n",
      "nsw                                                                                                             1\n",
      "plane                                                                                                           1\n",
      "münchen                                                                                                         1\n",
      "other-العراق                                                                                                    1\n",
      "seine-maritime                                                                                                  1\n",
      "république dominicaine                                                                                          1\n",
      "perth                                                                                                           1\n",
      "u salumu                                                                                                        1\n",
      "england                                                                                                         1\n",
      "haute-normandie                                                                                                 1\n",
      "other-japon                                                                                                     1\n",
      "são paulo-sp brasil                                                                                             1\n",
      "pays-bas                                                                                                        1\n",
      "california                                                                                                      1\n",
      "packaging to be completed                                                                                       1\n",
      "85220 l'aiguillon sur vie  france                                                                               1\n",
      "gironde                                                                                                         1\n",
      "san miguel de allende                                                                                           1\n",
      "ingredients to be completed                                                                                     1\n",
      "champs fleurs                                                                                                   1\n",
      "nutrition facts to be completed                                                                                 1\n",
      "guerrero                                                                                                        1\n",
      "guanajuato                                                                                                      1\n",
      "dieppe france                                                                                                   1\n",
      "états-unis                                                                                                      1\n",
      "azagra                                                                                                          1\n",
      "firenze                                                                                                         1\n",
      "w.i.                                                                                                            1\n",
      "photos to be uploaded                                                                                           1\n",
      "bannans                                                                                                         1\n",
      "Name: country_name, Length: 85, dtype: int64>\n",
      "Saved module: country_name\n",
      "Saved module: food\n"
     ]
    }
   ],
   "source": [
    "if not FOUND_MODULE:\n",
    "    df_5[result_column] = df_5.apply(\n",
    "        lambda x: best_match(country_df, x),\n",
    "        axis = 1\n",
    "    )\n",
    "    df_5 = df_5.drop(['country_code'], axis=1)\n",
    "\n",
    "    df_5 = df_5.merge(country_df, how='left')\n",
    "    notAssigned(df_5)\n",
    "    saveModuleDF(result_column,df_5)\n",
    "    saveFinalDF(df_5)"
   ]
  },
  {
   "cell_type": "code",
   "execution_count": 212,
   "metadata": {},
   "outputs": [
    {
     "name": "stdout",
     "output_type": "stream",
     "text": [
      "Number of rows with a country code: 725047\n",
      "Number of total rows: 693846\n",
      "Saved module: food\n"
     ]
    }
   ],
   "source": [
    "print(\"Number of rows with a country code: {}\".format(len(df_5[df_5['country_code'].notna()])))\n",
    "print(\"Number of total rows: {}\".format(len(food_df)))"
   ]
  },
  {
   "cell_type": "markdown",
   "metadata": {},
   "source": [
    "The number of rows we can use (meaning the rows with a `country_code`) is higher than what we original started with because we made duplicates of some rows so that each country has its own instance of the item. An issue we ran into is that with the high number of translations we need to do, Google's API will eventually block our requests,thus some more rows might have actually been able to be paired up with a `country_code`. To try a walka"
   ]
  },
  {
   "cell_type": "markdown",
   "metadata": {},
   "source": [
    "## Fill in Missing Nutrition Scores <a id=\"nutrition-scores\"></a> [[up](#Table-of-Contents)]\n",
    "\n",
    "This section deals with NaN values for `nutrition score`.\n",
    "Starting with the analysis let's show the percentage of nan values in the desired columns"
   ]
  },
  {
   "cell_type": "code",
   "execution_count": 214,
   "metadata": {},
   "outputs": [
    {
     "name": "stdout",
     "output_type": "stream",
     "text": [
      "Percentage of NaN in nutrition_grade_uk is 100.00%\n",
      "Percentage of NaN in nutrition_grade_fr is 79.79%\n",
      "Percentage of NaN in nutrition-score-fr_100g is 79.79%\n",
      "Percentage of NaN in nutrition-score-uk_100g is 79.79%\n"
     ]
    }
   ],
   "source": [
    "desired_columns=[\n",
    "    'nutrition_grade_uk',\n",
    "    'nutrition_grade_fr',\n",
    "    'nutrition-score-fr_100g',\n",
    "    'nutrition-score-uk_100g'\n",
    "]\n",
    "result_column='nutrition_score'\n",
    "showNanPercentage(food_df,desired_columns)"
   ]
  },
  {
   "cell_type": "markdown",
   "metadata": {},
   "source": [
    "It's important to note that `nutrition_grade_uk` is always nan and that `nutrition_grade_fr`, `nutrition-score-fr_100g` and `nutrition-score-uk_100g` have exactly the same value. For this reason, the column used is `nutrition_grade_fr`. Nan values are not filled since for now, the nutrition score is going to be an additional indicator."
   ]
  },
  {
   "cell_type": "code",
   "execution_count": 215,
   "metadata": {},
   "outputs": [],
   "source": [
    "nutrition_df = final_df.copy()\n",
    "nutrition_df[result_column]=nutrition_df[desired_columns[1]] #.fillna(UNKNOWN_STR)\n",
    "nutrition_df = nutrition_df.drop(desired_columns, axis=1)"
   ]
  },
  {
   "cell_type": "code",
   "execution_count": 216,
   "metadata": {},
   "outputs": [
    {
     "name": "stdout",
     "output_type": "stream",
     "text": [
      "Saved module: food\n"
     ]
    },
    {
     "data": {
      "text/plain": [
       "0    NaN\n",
       "1    NaN\n",
       "2    NaN\n",
       "3    NaN\n",
       "4    NaN\n",
       "Name: nutrition_score, dtype: object"
      ]
     },
     "execution_count": 216,
     "metadata": {},
     "output_type": "execute_result"
    }
   ],
   "source": [
    "saveFinalDF(nutrition_df)\n",
    "nutrition_df[result_column].head()"
   ]
  },
  {
   "cell_type": "markdown",
   "metadata": {},
   "source": [
    "## Fill in Missing Allergens <a id=\"allergens\"></a> [[up](#Table-of-Contents)]\n",
    "\n",
    "This section deals with NaN values for `allergens`.\n",
    "Starting with the analysis let's show the percentage of nan values in the desired columns"
   ]
  },
  {
   "cell_type": "code",
   "execution_count": 218,
   "metadata": {},
   "outputs": [
    {
     "name": "stdout",
     "output_type": "stream",
     "text": [
      "Percentage of NaN in allergens_en is 100.00%\n",
      "Percentage of NaN in allergens is 90.07%\n"
     ]
    }
   ],
   "source": [
    "desired_columns=[\n",
    "    'allergens_en',\n",
    "    'allergens'\n",
    "]\n",
    "result_column='allergen_values'\n",
    "showNanPercentage(food_df,desired_columns)"
   ]
  },
  {
   "cell_type": "code",
   "execution_count": 219,
   "metadata": {},
   "outputs": [
    {
     "name": "stdout",
     "output_type": "stream",
     "text": [
      "allergen_values file not found\n",
      "Found module: False\n"
     ]
    }
   ],
   "source": [
    "allergen_df = getModuleDF(result_column)\n",
    "FOUND_MODULE = result_column in df.columns\n",
    "print(\"Found module: {}\".format(FOUND_MODULE))"
   ]
  },
  {
   "cell_type": "markdown",
   "metadata": {},
   "source": [
    "Looking at the result, both columns have different percentages, for some reason, values in `allergens_en` are urls so for further analysis only the `allergen` column is taken."
   ]
  },
  {
   "cell_type": "code",
   "execution_count": 221,
   "metadata": {},
   "outputs": [
    {
     "name": "stdout",
     "output_type": "stream",
     "text": [
      "                                             allergens_en allergens\n",
      "271507  https://static.openfoodfacts.org/images/produc...   Dairies\n",
      "271508  https://static.openfoodfacts.org/images/produc...   Dairies\n",
      "271509  https://static.openfoodfacts.org/images/produc...   Dairies\n",
      "271510  https://static.openfoodfacts.org/images/produc...   Dairies\n",
      "271511  https://static.openfoodfacts.org/images/produc...   Dairies\n"
     ]
    }
   ],
   "source": [
    "if not FOUND_MODULE:\n",
    "    print(allergen_df[allergen_df[desired_columns[0]].notna()][desired_columns].head(5))\n",
    "    allergen_df[result_column]=allergen_df[desired_columns[1]]\n",
    "    allergen_df1 = allergen_df.drop(desired_columns, axis=1)\n"
   ]
  },
  {
   "cell_type": "markdown",
   "metadata": {},
   "source": [
    "Looking at the allergens format:"
   ]
  },
  {
   "cell_type": "code",
   "execution_count": 222,
   "metadata": {},
   "outputs": [
    {
     "data": {
      "text/plain": [
       "10                                   en:eggs,en:mustard\n",
       "22    BLÉ, GLUTEN, BLE, FROMAGE, LAIT, LAIT, LAIT, L...\n",
       "31            BLÉ, SEIGLE, BLÉ, SEIGLE, SAUMON, FROMAGE\n",
       "39                                              FROMAGE\n",
       "44     BLÉ, GLUTEN, BLE, BLE, ORGE, BLÉ, SÉSAME, SEIGLE\n",
       "Name: allergen_values, dtype: object"
      ]
     },
     "execution_count": 222,
     "metadata": {},
     "output_type": "execute_result"
    }
   ],
   "source": [
    "allergen_notna_df=allergen_df1[allergen_df1[result_column].notna()].copy()\n",
    "allergen_notna_df[result_column].head()"
   ]
  },
  {
   "cell_type": "markdown",
   "metadata": {},
   "source": [
    "Pre-processing of the `result column` by assuring values are strings lowercase before processing.\n",
    "Using the helper function `formatAndTranslateRow`, allergen rows are going to be formated to an array and translated to english."
   ]
  },
  {
   "cell_type": "code",
   "execution_count": 225,
   "metadata": {
    "scrolled": true
   },
   "outputs": [
    {
     "name": "stdout",
     "output_type": "stream",
     "text": [
      "Progress 100.0%"
     ]
    }
   ],
   "source": [
    "if not FOUND_MODULE:\n",
    "    allergen_notna_df[result_column].apply(str)\n",
    "    allergen_notna_df[result_column] = allergen_notna_df[result_column].apply(\n",
    "        lambda x: x.lower()\n",
    "    )\n",
    "    PROGRESS=0\n",
    "    size = allergen_notna_df.shape[0]\n",
    "    allergen_notna_df[result_column] = allergen_notna_df[result_column].apply(\n",
    "        lambda x: formatAndTranslateRow(x,size,True)\n",
    "    )\n",
    "    saveTranslations()"
   ]
  },
  {
   "cell_type": "code",
   "execution_count": 226,
   "metadata": {},
   "outputs": [
    {
     "name": "stdout",
     "output_type": "stream",
     "text": [
      "76258\n"
     ]
    },
    {
     "data": {
      "text/plain": [
       "10                                       [eggs, mustard]\n",
       "22     [corn,  gluten, became, cheese, milk, milk, mi...\n",
       "31                [corn, rye, corn, rye, salmon, cheese]\n",
       "39                                              [cheese]\n",
       "44     [corn,  gluten, became, became, barley, corn, ...\n",
       "46                                        [eggs, gluten]\n",
       "285                                                [soy]\n",
       "297                       [corn, butter, eggs, hazelnut]\n",
       "319                                   [almonds, almonds]\n",
       "346                                     [milk, hazelnut]\n",
       "Name: allergen_values, dtype: object"
      ]
     },
     "execution_count": 226,
     "metadata": {},
     "output_type": "execute_result"
    }
   ],
   "source": [
    "print(allergen_notna_df.shape[0])\n",
    "allergen_notna_df[allergen_notna_df[result_column].notna()][result_column].head(10)"
   ]
  },
  {
   "cell_type": "code",
   "execution_count": 227,
   "metadata": {},
   "outputs": [
    {
     "name": "stdout",
     "output_type": "stream",
     "text": [
      "Saved module: allergen_values\n",
      "Saved module: food\n"
     ]
    }
   ],
   "source": [
    "if not FOUND_MODULE:\n",
    "    allergen_df1_=allergen_df1.rename(columns = {result_column:'old_values'})['old_values']\n",
    "    allergen_df1[result_column]=pd.concat([allergen_df1_, allergen_notna_df], axis=1, join_axes=[allergen_df1.index])[result_column]           \n",
    "    saveModuleDF(result_column,allergen_df1)\n",
    "    saveFinalDF(allergen_df1)\n",
    "    "
   ]
  },
  {
   "cell_type": "code",
   "execution_count": 228,
   "metadata": {},
   "outputs": [
    {
     "name": "stdout",
     "output_type": "stream",
     "text": [
      "(725681, 30)\n"
     ]
    },
    {
     "data": {
      "text/plain": [
       "10                                       [eggs, mustard]\n",
       "22     [corn,  gluten, became, cheese, milk, milk, mi...\n",
       "31                [corn, rye, corn, rye, salmon, cheese]\n",
       "39                                              [cheese]\n",
       "44     [corn,  gluten, became, became, barley, corn, ...\n",
       "46                                        [eggs, gluten]\n",
       "285                                                [soy]\n",
       "297                       [corn, butter, eggs, hazelnut]\n",
       "319                                   [almonds, almonds]\n",
       "346                                     [milk, hazelnut]\n",
       "Name: allergen_values, dtype: object"
      ]
     },
     "execution_count": 228,
     "metadata": {},
     "output_type": "execute_result"
    }
   ],
   "source": [
    "print(allergen_df1.shape)\n",
    "allergen_df1[allergen_df1[result_column].notna()][result_column].head(10)"
   ]
  },
  {
   "cell_type": "code",
   "execution_count": 229,
   "metadata": {
    "scrolled": true
   },
   "outputs": [
    {
     "name": "stdout",
     "output_type": "stream",
     "text": [
      "Percentage of NaN in allergen_values is 89.49%\n"
     ]
    }
   ],
   "source": [
    "showNanPercentage(allergen_df1,[result_column])"
   ]
  },
  {
   "cell_type": "markdown",
   "metadata": {},
   "source": [
    "## Fill in Missing Traces <a id=\"traces\"></a> [[up](#Table-of-Contents)]\n",
    "\n",
    "This section deals with NaN values for `traces`."
   ]
  },
  {
   "cell_type": "code",
   "execution_count": 249,
   "metadata": {},
   "outputs": [
    {
     "name": "stdout",
     "output_type": "stream",
     "text": [
      "Percentage of NaN in traces_en is 91.46%\n",
      "Percentage of NaN in traces is 93.22%\n"
     ]
    }
   ],
   "source": [
    "desired_columns=[\n",
    "    'traces_en',\n",
    "    'traces',\n",
    "    'traces_tags'\n",
    "]\n",
    "result_column='traces_values'\n",
    "showNanPercentage(food_df,desired_columns)"
   ]
  },
  {
   "cell_type": "markdown",
   "metadata": {},
   "source": [
    "Starting with the analysis let's show the percentage of nan values in the desired columns"
   ]
  },
  {
   "cell_type": "code",
   "execution_count": 231,
   "metadata": {},
   "outputs": [
    {
     "name": "stdout",
     "output_type": "stream",
     "text": [
      "traces_values file not found\n",
      "Found module: False\n"
     ]
    }
   ],
   "source": [
    "traces_df = getModuleDF(result_column)\n",
    "FOUND_MODULE = result_column in df.columns\n",
    "print(\"Found module: {}\".format(FOUND_MODULE))"
   ]
  },
  {
   "cell_type": "code",
   "execution_count": 232,
   "metadata": {},
   "outputs": [],
   "source": [
    "if not FOUND_MODULE:\n",
    "    traces_df1=mergeColumnsFromDF(traces_df, desired_columns, result_column)\n",
    "    \n",
    "traces_notna_df=traces_df1[traces_df1[result_column].notna()].copy()"
   ]
  },
  {
   "cell_type": "code",
   "execution_count": 233,
   "metadata": {},
   "outputs": [
    {
     "name": "stdout",
     "output_type": "stream",
     "text": [
      "Percentage of NaN in traces_values is 90.99%\n"
     ]
    },
    {
     "data": {
      "text/plain": [
       "111                                            Eggs,Milk\n",
       "129                                         Sesame seeds\n",
       "223    Eggs,Gluten,Milk,Nuts,Soybeans,Oatmeal,Wheatflour\n",
       "258    fr:contient-oeuf-lait-anchois-soya-ble-seigle-...\n",
       "278    Soybeans,Sulphur dioxide and sulphites,fr:cont...\n",
       "Name: traces_values, dtype: object"
      ]
     },
     "execution_count": 233,
     "metadata": {},
     "output_type": "execute_result"
    }
   ],
   "source": [
    "showNanPercentage(traces_df1,[result_column])\n",
    "traces_notna_df[result_column].head()"
   ]
  },
  {
   "cell_type": "markdown",
   "metadata": {},
   "source": [
    "Translate"
   ]
  },
  {
   "cell_type": "code",
   "execution_count": 234,
   "metadata": {},
   "outputs": [
    {
     "name": "stdout",
     "output_type": "stream",
     "text": [
      "Progress 100.0%Saved module: traces_values\n"
     ]
    }
   ],
   "source": [
    "if not FOUND_MODULE:\n",
    "    PROGRESS=0\n",
    "    size = traces_notna_df.shape[0]\n",
    "    traces_notna_df[result_column] = traces_notna_df[result_column].apply(\n",
    "        lambda x: formatAndTranslateRow(x,size,False)\n",
    "    )\n",
    "    saveTranslations()\n",
    "    saveModuleDF(result_column,traces_notna_df)"
   ]
  },
  {
   "cell_type": "code",
   "execution_count": 235,
   "metadata": {},
   "outputs": [
    {
     "name": "stdout",
     "output_type": "stream",
     "text": [
      "(65355, 29)\n"
     ]
    },
    {
     "data": {
      "text/plain": [
       "111                                         [eggs, milk]\n",
       "129                                       [sesame seeds]\n",
       "223    [eggs, gluten, milk, nuts, soybeans, oatmeal, ...\n",
       "258    [contains egg-milk-anchovy-soy-wheat-rye-barle...\n",
       "278    [soybeans, sulphur dioxide and sulphites, cont...\n",
       "289    [gluten, may contain nuts, soy-varied-milk-egg...\n",
       "297                       [nuts, sesame seeds, soybeans]\n",
       "303    [celery, crustaceans, eggs, fish, gluten, milk...\n",
       "304                                               [eggs]\n",
       "310    [eggs, gluten, milk, mustard, nuts, sesame see...\n",
       "Name: traces_values, dtype: object"
      ]
     },
     "execution_count": 235,
     "metadata": {},
     "output_type": "execute_result"
    }
   ],
   "source": [
    "print(traces_notna_df.shape)\n",
    "traces_notna_df[traces_notna_df[result_column].notna()][result_column].head(10)"
   ]
  },
  {
   "cell_type": "code",
   "execution_count": 254,
   "metadata": {},
   "outputs": [
    {
     "name": "stdout",
     "output_type": "stream",
     "text": [
      "Saved module: traces_values\n"
     ]
    }
   ],
   "source": [
    "if not FOUND_MODULE:\n",
    "    traces_df1_=traces_df1.rename(columns = {result_column:'old_values'})['old_values']\n",
    "    traces_df1[result_column]=pd.concat([traces_df1_, traces_notna_df], axis=1, join_axes=[traces_df1.index])[result_column]           \n",
    "    saveModuleDF(result_column,traces_df1)\n",
    "    saveFinalDF(traces_df1)\n"
   ]
  },
  {
   "cell_type": "code",
   "execution_count": 259,
   "metadata": {},
   "outputs": [
    {
     "name": "stdout",
     "output_type": "stream",
     "text": [
      "(725681, 29)\n",
      "Percentage of NaN in traces_values is 90.99%\n"
     ]
    }
   ],
   "source": [
    "print(traces_df1.shape)\n",
    "traces_df1[traces_df1[result_column].notna()][result_column].head(10)\n",
    "showNanPercentage(traces_df1,[result_column])"
   ]
  },
  {
   "cell_type": "code",
   "execution_count": 260,
   "metadata": {},
   "outputs": [
    {
     "data": {
      "text/plain": [
       "111                                         [eggs, milk]\n",
       "129                                       [sesame seeds]\n",
       "223    [eggs, gluten, milk, nuts, soybeans, oatmeal, ...\n",
       "258    [contains egg-milk-anchovy-soy-wheat-rye-barle...\n",
       "278    [soybeans, sulphur dioxide and sulphites, cont...\n",
       "289    [gluten, may contain nuts, soy-varied-milk-egg...\n",
       "297                       [nuts, sesame seeds, soybeans]\n",
       "303    [celery, crustaceans, eggs, fish, gluten, milk...\n",
       "304                                               [eggs]\n",
       "310    [eggs, gluten, milk, mustard, nuts, sesame see...\n",
       "Name: traces_values, dtype: object"
      ]
     },
     "execution_count": 260,
     "metadata": {},
     "output_type": "execute_result"
    }
   ],
   "source": [
    "traces_df1[traces_df1[result_column].notna()][result_column].head(10)"
   ]
  },
  {
   "cell_type": "code",
   "execution_count": 263,
   "metadata": {},
   "outputs": [
    {
     "data": {
      "text/plain": [
       "(725681, 29)"
      ]
     },
     "execution_count": 263,
     "metadata": {},
     "output_type": "execute_result"
    }
   ],
   "source": [
    "final_df.shape"
   ]
  },
  {
   "cell_type": "markdown",
   "metadata": {},
   "source": [
    "## Fill/Clean Ingredients <a id=\"ingredients\"></a> [[up](#Table-of-Contents)]\n",
    "This section deals with NaN values for `ingredients`."
   ]
  },
  {
   "cell_type": "code",
   "execution_count": 372,
   "metadata": {},
   "outputs": [
    {
     "name": "stdout",
     "output_type": "stream",
     "text": [
      "Percentage of NaN in ingredients_text is 43.30%\n"
     ]
    }
   ],
   "source": [
    "desired_columns=[\n",
    "    'ingredients_text'\n",
    "]\n",
    "result_column='ingredients_values'\n",
    "showNanPercentage(food_df,desired_columns)"
   ]
  },
  {
   "cell_type": "markdown",
   "metadata": {},
   "source": [
    "Starting with the analysis let's show the percentage of nan values in the desired columns"
   ]
  },
  {
   "cell_type": "code",
   "execution_count": null,
   "metadata": {},
   "outputs": [],
   "source": [
    "ingredients_df = getModuleDF(result_column)\n",
    "FOUND_MODULE = result_column in ingredients_df.columns\n",
    "print(\"Found module: {}\".format(FOUND_MODULE))"
   ]
  },
  {
   "cell_type": "markdown",
   "metadata": {},
   "source": [
    "Let's look at the format of each ingredient entry"
   ]
  },
  {
   "cell_type": "code",
   "execution_count": 379,
   "metadata": {},
   "outputs": [
    {
     "data": {
      "text/html": [
       "<div>\n",
       "<style scoped>\n",
       "    .dataframe tbody tr th:only-of-type {\n",
       "        vertical-align: middle;\n",
       "    }\n",
       "\n",
       "    .dataframe tbody tr th {\n",
       "        vertical-align: top;\n",
       "    }\n",
       "\n",
       "    .dataframe thead th {\n",
       "        text-align: right;\n",
       "    }\n",
       "</style>\n",
       "<table border=\"1\" class=\"dataframe\">\n",
       "  <thead>\n",
       "    <tr style=\"text-align: right;\">\n",
       "      <th></th>\n",
       "      <th>ingredients_text</th>\n",
       "    </tr>\n",
       "  </thead>\n",
       "  <tbody>\n",
       "    <tr>\n",
       "      <th>10</th>\n",
       "      <td>antioxydant : érythorbate de sodium, colorant ...</td>\n",
       "    </tr>\n",
       "    <tr>\n",
       "      <th>15</th>\n",
       "      <td>Lait entier, sucre, amidon de maïs, cacao, Aga...</td>\n",
       "    </tr>\n",
       "    <tr>\n",
       "      <th>22</th>\n",
       "      <td>baguette Poite vin Pain baguette 50,6%: fqrine...</td>\n",
       "    </tr>\n",
       "    <tr>\n",
       "      <th>31</th>\n",
       "      <td>Paln suédois 42,6%: farine de BLÉ, eau, farine...</td>\n",
       "    </tr>\n",
       "    <tr>\n",
       "      <th>33</th>\n",
       "      <td>Taboulé 76,2%, légumes 12%, huile de colza, se...</td>\n",
       "    </tr>\n",
       "  </tbody>\n",
       "</table>\n",
       "</div>"
      ],
      "text/plain": [
       "                                     ingredients_text\n",
       "10  antioxydant : érythorbate de sodium, colorant ...\n",
       "15  Lait entier, sucre, amidon de maïs, cacao, Aga...\n",
       "22  baguette Poite vin Pain baguette 50,6%: fqrine...\n",
       "31  Paln suédois 42,6%: farine de BLÉ, eau, farine...\n",
       "33  Taboulé 76,2%, légumes 12%, huile de colza, se..."
      ]
     },
     "execution_count": 379,
     "metadata": {},
     "output_type": "execute_result"
    }
   ],
   "source": [
    "ingredients_df[ingredients_df[desired_columns[0]].notna()][desired_columns].head(5)"
   ]
  },
  {
   "cell_type": "code",
   "execution_count": 380,
   "metadata": {},
   "outputs": [],
   "source": [
    "ingredients_df=ingredients_df.rename(columns={desired_columns[0]:result_column})"
   ]
  },
  {
   "cell_type": "code",
   "execution_count": 381,
   "metadata": {},
   "outputs": [],
   "source": [
    "def removeCommonWords(value):\n",
    "    words=['long','grain','white','refined','concentrate','natural','dry','roasted','organic','bar','whole','rolled','seasoning','juice','extract']\n",
    "    value_=value\n",
    "    for word in words:\n",
    "        if word in value_:\n",
    "            value_=value_.replace(word,\"\")\n",
    "    return normalizeString(value_)\n",
    "\n",
    "def cleanIngredients(row):\n",
    "    showProgress(ingredients_df.shape[0])\n",
    "    if type(row) is not list and pd.notnull(row) :\n",
    "        values=row.split(',')\n",
    "        ingredients=[]\n",
    "        for item in values:\n",
    "            ingredient=item\n",
    "            # format key:value\n",
    "            # take only value\n",
    "            if (':') in ingredient:\n",
    "                info_ = ingredient.split(':')\n",
    "                if len(info_) == 2:\n",
    "                    ingredient=info_[1]\n",
    "            # format value (info)\n",
    "            # take only values\n",
    "            if ('(') in ingredient:\n",
    "                info_ = ingredient.split('(')\n",
    "                ingredient=info_[0]\n",
    "                \n",
    "            # format value [value,...]\n",
    "            # take all values\n",
    "            if ('[') in ingredient:\n",
    "                info_ = ingredient.split('[')\n",
    "                if len(info_) >= 2:\n",
    "                    ingredients.append(removeCommonWords(normalizeString(info_[0])))\n",
    "                    ingredient=info_[1]\n",
    "            # format value [value,...]\n",
    "            # take all values\n",
    "            if (' or ') in ingredient:\n",
    "                info_ = ingredient.split('or')\n",
    "                if len(info_) >= 2:\n",
    "                    ingredients.append(removeCommonWords(normalizeString(info_[0])))\n",
    "                    ingredient=info_[1]\n",
    "            # format value - info\n",
    "            # take only values\n",
    "            if (' - ') in ingredient:\n",
    "                info_ = ingredient.split('-')\n",
    "                ingredient=info_[0]\n",
    "                \n",
    "            # avoid empty strings and removeCommonWords\n",
    "            ingredient=removeCommonWords(normalizeString(ingredient))\n",
    "            if ingredient:\n",
    "                ingredient_trans=translateWithCache(ingredient) \n",
    "                ingredients.append(ingredient_trans)\n",
    "        \n",
    "        # remove duplicate elements\n",
    "        ingredients_=removeDuplcates(ingredients)\n",
    "        return ingredients_\n",
    "    else:\n",
    "        return row"
   ]
  },
  {
   "cell_type": "code",
   "execution_count": null,
   "metadata": {},
   "outputs": [],
   "source": [
    "ingredients_notna_df=ingredients_df[ingredients_df[result_column].notna()][result_column]\n",
    "if not FOUND_MODULE:\n",
    "    PROGRESS=0\n",
    "    ingredients_notna_df = ingredients_notna_df.apply(\n",
    "        lambda x: cleanIngredients(x)\n",
    "    )\n",
    "    saveTranslations()\n",
    "    saveModuleDF(result_column,ingredients_notna_df)\n"
   ]
  },
  {
   "cell_type": "code",
   "execution_count": null,
   "metadata": {},
   "outputs": [],
   "source": [
    "if not FOUND_MODULE:\n",
    "    ingredients_df_=ingredients_df.rename(columns = {result_column:'old_values'})['old_values']\n",
    "    ingredients_df[result_column]=pd.concat([ingredients_df_, ingredients_notna_df], axis=1, join_axes=[ingredients_df.index])[result_column]           \n",
    "    saveModuleDF(result_column,ingredients_df)\n",
    "    saveFinalDF(ingredients_df)\n"
   ]
  },
  {
   "cell_type": "code",
   "execution_count": 389,
   "metadata": {},
   "outputs": [],
   "source": [
    "saveTranslations()"
   ]
  },
  {
   "cell_type": "code",
   "execution_count": 244,
   "metadata": {},
   "outputs": [
    {
     "name": "stdout",
     "output_type": "stream",
     "text": [
      "Saved module: ingredients_values\n"
     ]
    }
   ],
   "source": [
    "saveModuleDF(result_column,ingredients_df)"
   ]
  },
  {
   "cell_type": "markdown",
   "metadata": {},
   "source": [
    "## Fill/Clean Labels <a id=\"labels_column\"></a> [[up](#Table-of-Contents)]"
   ]
  },
  {
   "cell_type": "code",
   "execution_count": 267,
   "metadata": {},
   "outputs": [
    {
     "name": "stdout",
     "output_type": "stream",
     "text": [
      "Percentage of NaN in labels_en is 85.31%\n",
      "Percentage of NaN in labels is 85.32%\n",
      "Percentage of NaN in labels_tags is 85.31%\n"
     ]
    }
   ],
   "source": [
    "desired_columns=[\n",
    "    'labels_en',\n",
    "    'labels',\n",
    "    'labels_tags'\n",
    "]\n",
    "result_column='label_values'\n",
    "showNanPercentage(food_df,desired_columns)"
   ]
  },
  {
   "cell_type": "code",
   "execution_count": 268,
   "metadata": {},
   "outputs": [
    {
     "name": "stdout",
     "output_type": "stream",
     "text": [
      "label_values file not found\n",
      "Found module: False\n"
     ]
    }
   ],
   "source": [
    "labels_df = getModuleDF(result_column)\n",
    "FOUND_MODULE = result_column in labels_df.columns\n",
    "print(\"Found module: {}\".format(FOUND_MODULE))"
   ]
  },
  {
   "cell_type": "markdown",
   "metadata": {},
   "source": [
    "Looking at the format, it seems that the most usefull column is `labels_en` since it's already translated"
   ]
  },
  {
   "cell_type": "code",
   "execution_count": 273,
   "metadata": {},
   "outputs": [
    {
     "data": {
      "text/html": [
       "<div>\n",
       "<style scoped>\n",
       "    .dataframe tbody tr th:only-of-type {\n",
       "        vertical-align: middle;\n",
       "    }\n",
       "\n",
       "    .dataframe tbody tr th {\n",
       "        vertical-align: top;\n",
       "    }\n",
       "\n",
       "    .dataframe thead th {\n",
       "        text-align: right;\n",
       "    }\n",
       "</style>\n",
       "<table border=\"1\" class=\"dataframe\">\n",
       "  <thead>\n",
       "    <tr style=\"text-align: right;\">\n",
       "      <th></th>\n",
       "      <th>product_name_value</th>\n",
       "      <th>quantity</th>\n",
       "      <th>labels</th>\n",
       "      <th>labels_tags</th>\n",
       "      <th>labels_en</th>\n",
       "      <th>ingredients_text</th>\n",
       "      <th>traces_tags</th>\n",
       "      <th>energy_100g</th>\n",
       "      <th>energy-from-fat_100g</th>\n",
       "      <th>fat_100g</th>\n",
       "      <th>...</th>\n",
       "      <th>alcohol_100g</th>\n",
       "      <th>calcium_100g</th>\n",
       "      <th>iron_100g</th>\n",
       "      <th>carbon-footprint_100g</th>\n",
       "      <th>glycemic-index_100g</th>\n",
       "      <th>country_name</th>\n",
       "      <th>country_code</th>\n",
       "      <th>nutrition_score</th>\n",
       "      <th>allergen_values</th>\n",
       "      <th>traces_values</th>\n",
       "    </tr>\n",
       "  </thead>\n",
       "  <tbody>\n",
       "    <tr>\n",
       "      <th>107</th>\n",
       "      <td>Naturablue original</td>\n",
       "      <td>250 ml</td>\n",
       "      <td>Fabriqué en France</td>\n",
       "      <td>en:made-in-france</td>\n",
       "      <td>Made in France</td>\n",
       "      <td>Glycérine d'origine naturelle (stabilisant), s...</td>\n",
       "      <td>NaN</td>\n",
       "      <td>0.0</td>\n",
       "      <td>NaN</td>\n",
       "      <td>0.0</td>\n",
       "      <td>...</td>\n",
       "      <td>NaN</td>\n",
       "      <td>NaN</td>\n",
       "      <td>NaN</td>\n",
       "      <td>NaN</td>\n",
       "      <td>NaN</td>\n",
       "      <td>france</td>\n",
       "      <td>FRA</td>\n",
       "      <td>NaN</td>\n",
       "      <td>NaN</td>\n",
       "      <td>NaN</td>\n",
       "    </tr>\n",
       "    <tr>\n",
       "      <th>255</th>\n",
       "      <td>Blanquette de Volaille et son Riz</td>\n",
       "      <td>NaN</td>\n",
       "      <td>Viande Française,Fabriqué en France</td>\n",
       "      <td>fr:viande-francaise,en:made-in-france</td>\n",
       "      <td>fr:Viande Française,Made in France</td>\n",
       "      <td>Riz précuit 40,4 % (eau, riz, huile de colza, ...</td>\n",
       "      <td>NaN</td>\n",
       "      <td>450.0</td>\n",
       "      <td>NaN</td>\n",
       "      <td>2.2</td>\n",
       "      <td>...</td>\n",
       "      <td>NaN</td>\n",
       "      <td>NaN</td>\n",
       "      <td>NaN</td>\n",
       "      <td>NaN</td>\n",
       "      <td>NaN</td>\n",
       "      <td>france</td>\n",
       "      <td>FRA</td>\n",
       "      <td>b</td>\n",
       "      <td>NaN</td>\n",
       "      <td>NaN</td>\n",
       "    </tr>\n",
       "  </tbody>\n",
       "</table>\n",
       "<p>2 rows × 29 columns</p>\n",
       "</div>"
      ],
      "text/plain": [
       "                    product_name_value quantity  \\\n",
       "107                Naturablue original   250 ml   \n",
       "255  Blanquette de Volaille et son Riz      NaN   \n",
       "\n",
       "                                  labels  \\\n",
       "107                   Fabriqué en France   \n",
       "255  Viande Française,Fabriqué en France   \n",
       "\n",
       "                               labels_tags  \\\n",
       "107                      en:made-in-france   \n",
       "255  fr:viande-francaise,en:made-in-france   \n",
       "\n",
       "                              labels_en  \\\n",
       "107                      Made in France   \n",
       "255  fr:Viande Française,Made in France   \n",
       "\n",
       "                                      ingredients_text traces_tags  \\\n",
       "107  Glycérine d'origine naturelle (stabilisant), s...         NaN   \n",
       "255  Riz précuit 40,4 % (eau, riz, huile de colza, ...         NaN   \n",
       "\n",
       "     energy_100g  energy-from-fat_100g  fat_100g      ...        alcohol_100g  \\\n",
       "107          0.0                   NaN       0.0      ...                 NaN   \n",
       "255        450.0                   NaN       2.2      ...                 NaN   \n",
       "\n",
       "     calcium_100g  iron_100g  carbon-footprint_100g  glycemic-index_100g  \\\n",
       "107           NaN        NaN                    NaN                  NaN   \n",
       "255           NaN        NaN                    NaN                  NaN   \n",
       "\n",
       "     country_name  country_code  nutrition_score  allergen_values  \\\n",
       "107        france           FRA              NaN              NaN   \n",
       "255        france           FRA                b              NaN   \n",
       "\n",
       "     traces_values  \n",
       "107            NaN  \n",
       "255            NaN  \n",
       "\n",
       "[2 rows x 29 columns]"
      ]
     },
     "execution_count": 273,
     "metadata": {},
     "output_type": "execute_result"
    }
   ],
   "source": [
    "labels_df[labels_df[desired_columns[0]].notna()].head(2)"
   ]
  },
  {
   "cell_type": "code",
   "execution_count": 274,
   "metadata": {},
   "outputs": [
    {
     "name": "stdout",
     "output_type": "stream",
     "text": [
      "Progress 100.0%Saved module: label_values\n"
     ]
    }
   ],
   "source": [
    "if not FOUND_MODULE:\n",
    "    PROGRESS=0\n",
    "    size=labels_df.shape[0]\n",
    "    labels_df[result_column] = labels_df[desired_columns[0]].apply(\n",
    "        lambda x: formatAndTranslateRow(x,size,False)\n",
    "    )\n",
    "    saveTranslations()\n",
    "    saveModuleDF(result_column,labels_df[result_column])\n",
    "    saveFinalDF(labels_df)"
   ]
  },
  {
   "cell_type": "code",
   "execution_count": null,
   "metadata": {},
   "outputs": [],
   "source": [
    "if not FOUND_MODULE:\n",
    "    labels_df = labels_df.drop(desired_columns, axis=1)\n",
    "    print(labels_df.shape)"
   ]
  },
  {
   "cell_type": "code",
   "execution_count": 278,
   "metadata": {},
   "outputs": [
    {
     "data": {
      "text/html": [
       "<div>\n",
       "<style scoped>\n",
       "    .dataframe tbody tr th:only-of-type {\n",
       "        vertical-align: middle;\n",
       "    }\n",
       "\n",
       "    .dataframe tbody tr th {\n",
       "        vertical-align: top;\n",
       "    }\n",
       "\n",
       "    .dataframe thead th {\n",
       "        text-align: right;\n",
       "    }\n",
       "</style>\n",
       "<table border=\"1\" class=\"dataframe\">\n",
       "  <thead>\n",
       "    <tr style=\"text-align: right;\">\n",
       "      <th></th>\n",
       "      <th>product_name_value</th>\n",
       "      <th>quantity</th>\n",
       "      <th>ingredients_text</th>\n",
       "      <th>traces_tags</th>\n",
       "      <th>energy_100g</th>\n",
       "      <th>energy-from-fat_100g</th>\n",
       "      <th>fat_100g</th>\n",
       "      <th>saturated-fat_100g</th>\n",
       "      <th>trans-fat_100g</th>\n",
       "      <th>cholesterol_100g</th>\n",
       "      <th>...</th>\n",
       "      <th>calcium_100g</th>\n",
       "      <th>iron_100g</th>\n",
       "      <th>carbon-footprint_100g</th>\n",
       "      <th>glycemic-index_100g</th>\n",
       "      <th>country_name</th>\n",
       "      <th>country_code</th>\n",
       "      <th>nutrition_score</th>\n",
       "      <th>allergen_values</th>\n",
       "      <th>traces_values</th>\n",
       "      <th>label_values</th>\n",
       "    </tr>\n",
       "  </thead>\n",
       "  <tbody>\n",
       "    <tr>\n",
       "      <th>107</th>\n",
       "      <td>Naturablue original</td>\n",
       "      <td>250 ml</td>\n",
       "      <td>Glycérine d'origine naturelle (stabilisant), s...</td>\n",
       "      <td>NaN</td>\n",
       "      <td>0.0</td>\n",
       "      <td>NaN</td>\n",
       "      <td>0.0</td>\n",
       "      <td>0.0</td>\n",
       "      <td>NaN</td>\n",
       "      <td>NaN</td>\n",
       "      <td>...</td>\n",
       "      <td>NaN</td>\n",
       "      <td>NaN</td>\n",
       "      <td>NaN</td>\n",
       "      <td>NaN</td>\n",
       "      <td>france</td>\n",
       "      <td>FRA</td>\n",
       "      <td>NaN</td>\n",
       "      <td>NaN</td>\n",
       "      <td>NaN</td>\n",
       "      <td>[made in france]</td>\n",
       "    </tr>\n",
       "    <tr>\n",
       "      <th>255</th>\n",
       "      <td>Blanquette de Volaille et son Riz</td>\n",
       "      <td>NaN</td>\n",
       "      <td>Riz précuit 40,4 % (eau, riz, huile de colza, ...</td>\n",
       "      <td>NaN</td>\n",
       "      <td>450.0</td>\n",
       "      <td>NaN</td>\n",
       "      <td>2.2</td>\n",
       "      <td>0.9</td>\n",
       "      <td>NaN</td>\n",
       "      <td>NaN</td>\n",
       "      <td>...</td>\n",
       "      <td>NaN</td>\n",
       "      <td>NaN</td>\n",
       "      <td>NaN</td>\n",
       "      <td>NaN</td>\n",
       "      <td>france</td>\n",
       "      <td>FRA</td>\n",
       "      <td>b</td>\n",
       "      <td>NaN</td>\n",
       "      <td>NaN</td>\n",
       "      <td>[french meat, made in france]</td>\n",
       "    </tr>\n",
       "    <tr>\n",
       "      <th>287</th>\n",
       "      <td>Reese's Peanut Butter Cups</td>\n",
       "      <td>NaN</td>\n",
       "      <td>NaN</td>\n",
       "      <td>NaN</td>\n",
       "      <td>2125.0</td>\n",
       "      <td>NaN</td>\n",
       "      <td>30.5</td>\n",
       "      <td>11.9</td>\n",
       "      <td>NaN</td>\n",
       "      <td>NaN</td>\n",
       "      <td>...</td>\n",
       "      <td>NaN</td>\n",
       "      <td>NaN</td>\n",
       "      <td>NaN</td>\n",
       "      <td>NaN</td>\n",
       "      <td>france</td>\n",
       "      <td>FRA</td>\n",
       "      <td>NaN</td>\n",
       "      <td>NaN</td>\n",
       "      <td>NaN</td>\n",
       "      <td>[contains gmos]</td>\n",
       "    </tr>\n",
       "    <tr>\n",
       "      <th>291</th>\n",
       "      <td>lentilles vertes</td>\n",
       "      <td>1 kg</td>\n",
       "      <td>lentilles vertes</td>\n",
       "      <td>NaN</td>\n",
       "      <td>NaN</td>\n",
       "      <td>NaN</td>\n",
       "      <td>NaN</td>\n",
       "      <td>NaN</td>\n",
       "      <td>NaN</td>\n",
       "      <td>NaN</td>\n",
       "      <td>...</td>\n",
       "      <td>NaN</td>\n",
       "      <td>NaN</td>\n",
       "      <td>NaN</td>\n",
       "      <td>NaN</td>\n",
       "      <td>france</td>\n",
       "      <td>FRA</td>\n",
       "      <td>NaN</td>\n",
       "      <td>NaN</td>\n",
       "      <td>NaN</td>\n",
       "      <td>[organic, eu organic, ab organic farming]</td>\n",
       "    </tr>\n",
       "    <tr>\n",
       "      <th>293</th>\n",
       "      <td>Root Beer</td>\n",
       "      <td>33 cl e</td>\n",
       "      <td>Eau gazéifiée, sirop de maïs à haute teneur en...</td>\n",
       "      <td>NaN</td>\n",
       "      <td>213.0</td>\n",
       "      <td>NaN</td>\n",
       "      <td>0.0</td>\n",
       "      <td>0.0</td>\n",
       "      <td>NaN</td>\n",
       "      <td>NaN</td>\n",
       "      <td>...</td>\n",
       "      <td>NaN</td>\n",
       "      <td>NaN</td>\n",
       "      <td>NaN</td>\n",
       "      <td>NaN</td>\n",
       "      <td>france</td>\n",
       "      <td>FRA</td>\n",
       "      <td>e</td>\n",
       "      <td>NaN</td>\n",
       "      <td>NaN</td>\n",
       "      <td>[kosher, contains gmos]</td>\n",
       "    </tr>\n",
       "    <tr>\n",
       "      <th>294</th>\n",
       "      <td>Root Beer</td>\n",
       "      <td>33 cl e</td>\n",
       "      <td>Eau gazéifiée, sirop de maïs à haute teneur en...</td>\n",
       "      <td>NaN</td>\n",
       "      <td>213.0</td>\n",
       "      <td>NaN</td>\n",
       "      <td>0.0</td>\n",
       "      <td>0.0</td>\n",
       "      <td>NaN</td>\n",
       "      <td>NaN</td>\n",
       "      <td>...</td>\n",
       "      <td>NaN</td>\n",
       "      <td>NaN</td>\n",
       "      <td>NaN</td>\n",
       "      <td>NaN</td>\n",
       "      <td>united states</td>\n",
       "      <td>USA</td>\n",
       "      <td>e</td>\n",
       "      <td>NaN</td>\n",
       "      <td>NaN</td>\n",
       "      <td>[kosher, contains gmos]</td>\n",
       "    </tr>\n",
       "    <tr>\n",
       "      <th>297</th>\n",
       "      <td>Biscuits sablés fourrage au cacao</td>\n",
       "      <td>1 kg</td>\n",
       "      <td>Sucre, farine de _Blé_, graisse et huiles végé...</td>\n",
       "      <td>en:nuts,en:sesame-seeds,en:soybeans</td>\n",
       "      <td>NaN</td>\n",
       "      <td>NaN</td>\n",
       "      <td>NaN</td>\n",
       "      <td>NaN</td>\n",
       "      <td>NaN</td>\n",
       "      <td>NaN</td>\n",
       "      <td>...</td>\n",
       "      <td>NaN</td>\n",
       "      <td>NaN</td>\n",
       "      <td>NaN</td>\n",
       "      <td>NaN</td>\n",
       "      <td>france</td>\n",
       "      <td>FRA</td>\n",
       "      <td>NaN</td>\n",
       "      <td>[corn, butter, eggs, hazelnut]</td>\n",
       "      <td>[nuts, sesame seeds, soybeans]</td>\n",
       "      <td>[green dot]</td>\n",
       "    </tr>\n",
       "    <tr>\n",
       "      <th>300</th>\n",
       "      <td>Nerds</td>\n",
       "      <td>NaN</td>\n",
       "      <td>NaN</td>\n",
       "      <td>NaN</td>\n",
       "      <td>NaN</td>\n",
       "      <td>NaN</td>\n",
       "      <td>NaN</td>\n",
       "      <td>NaN</td>\n",
       "      <td>NaN</td>\n",
       "      <td>NaN</td>\n",
       "      <td>...</td>\n",
       "      <td>NaN</td>\n",
       "      <td>NaN</td>\n",
       "      <td>NaN</td>\n",
       "      <td>NaN</td>\n",
       "      <td>france</td>\n",
       "      <td>FRA</td>\n",
       "      <td>NaN</td>\n",
       "      <td>NaN</td>\n",
       "      <td>NaN</td>\n",
       "      <td>[contains gmos]</td>\n",
       "    </tr>\n",
       "    <tr>\n",
       "      <th>303</th>\n",
       "      <td>Compote de Pomme</td>\n",
       "      <td>40 g</td>\n",
       "      <td>Flocons de pommes 76 % (pomme, amidon de maïs,...</td>\n",
       "      <td>en:celery,en:crustaceans,en:eggs,en:fish,en:gl...</td>\n",
       "      <td>1577.0</td>\n",
       "      <td>NaN</td>\n",
       "      <td>0.5</td>\n",
       "      <td>0.1</td>\n",
       "      <td>NaN</td>\n",
       "      <td>NaN</td>\n",
       "      <td>...</td>\n",
       "      <td>NaN</td>\n",
       "      <td>NaN</td>\n",
       "      <td>NaN</td>\n",
       "      <td>NaN</td>\n",
       "      <td>france</td>\n",
       "      <td>FRA</td>\n",
       "      <td>b</td>\n",
       "      <td>NaN</td>\n",
       "      <td>[celery, crustaceans, eggs, fish, gluten, milk...</td>\n",
       "      <td>[green dot]</td>\n",
       "    </tr>\n",
       "    <tr>\n",
       "      <th>304</th>\n",
       "      <td>Bonbons acidulés Raisin Fraise</td>\n",
       "      <td>46,7 g</td>\n",
       "      <td>Dextrose, sucre, sirop de glucose, acidifiant ...</td>\n",
       "      <td>en:eggs</td>\n",
       "      <td>1674.0</td>\n",
       "      <td>NaN</td>\n",
       "      <td>0.0</td>\n",
       "      <td>0.0</td>\n",
       "      <td>NaN</td>\n",
       "      <td>NaN</td>\n",
       "      <td>...</td>\n",
       "      <td>NaN</td>\n",
       "      <td>NaN</td>\n",
       "      <td>NaN</td>\n",
       "      <td>NaN</td>\n",
       "      <td>france</td>\n",
       "      <td>FRA</td>\n",
       "      <td>d</td>\n",
       "      <td>NaN</td>\n",
       "      <td>[eggs]</td>\n",
       "      <td>[no artificial flavors, contains gmos]</td>\n",
       "    </tr>\n",
       "  </tbody>\n",
       "</table>\n",
       "<p>10 rows × 27 columns</p>\n",
       "</div>"
      ],
      "text/plain": [
       "                    product_name_value quantity  \\\n",
       "107                Naturablue original   250 ml   \n",
       "255  Blanquette de Volaille et son Riz      NaN   \n",
       "287         Reese's Peanut Butter Cups      NaN   \n",
       "291                  lentilles vertes     1 kg    \n",
       "293                          Root Beer  33 cl e   \n",
       "294                          Root Beer  33 cl e   \n",
       "297  Biscuits sablés fourrage au cacao     1 kg   \n",
       "300                              Nerds      NaN   \n",
       "303                   Compote de Pomme     40 g   \n",
       "304     Bonbons acidulés Raisin Fraise   46,7 g   \n",
       "\n",
       "                                      ingredients_text  \\\n",
       "107  Glycérine d'origine naturelle (stabilisant), s...   \n",
       "255  Riz précuit 40,4 % (eau, riz, huile de colza, ...   \n",
       "287                                                NaN   \n",
       "291                                   lentilles vertes   \n",
       "293  Eau gazéifiée, sirop de maïs à haute teneur en...   \n",
       "294  Eau gazéifiée, sirop de maïs à haute teneur en...   \n",
       "297  Sucre, farine de _Blé_, graisse et huiles végé...   \n",
       "300                                                NaN   \n",
       "303  Flocons de pommes 76 % (pomme, amidon de maïs,...   \n",
       "304  Dextrose, sucre, sirop de glucose, acidifiant ...   \n",
       "\n",
       "                                           traces_tags  energy_100g  \\\n",
       "107                                                NaN          0.0   \n",
       "255                                                NaN        450.0   \n",
       "287                                                NaN       2125.0   \n",
       "291                                                NaN          NaN   \n",
       "293                                                NaN        213.0   \n",
       "294                                                NaN        213.0   \n",
       "297                en:nuts,en:sesame-seeds,en:soybeans          NaN   \n",
       "300                                                NaN          NaN   \n",
       "303  en:celery,en:crustaceans,en:eggs,en:fish,en:gl...       1577.0   \n",
       "304                                            en:eggs       1674.0   \n",
       "\n",
       "     energy-from-fat_100g  fat_100g  saturated-fat_100g  trans-fat_100g  \\\n",
       "107                   NaN       0.0                 0.0             NaN   \n",
       "255                   NaN       2.2                 0.9             NaN   \n",
       "287                   NaN      30.5                11.9             NaN   \n",
       "291                   NaN       NaN                 NaN             NaN   \n",
       "293                   NaN       0.0                 0.0             NaN   \n",
       "294                   NaN       0.0                 0.0             NaN   \n",
       "297                   NaN       NaN                 NaN             NaN   \n",
       "300                   NaN       NaN                 NaN             NaN   \n",
       "303                   NaN       0.5                 0.1             NaN   \n",
       "304                   NaN       0.0                 0.0             NaN   \n",
       "\n",
       "     cholesterol_100g                    ...                      \\\n",
       "107               NaN                    ...                       \n",
       "255               NaN                    ...                       \n",
       "287               NaN                    ...                       \n",
       "291               NaN                    ...                       \n",
       "293               NaN                    ...                       \n",
       "294               NaN                    ...                       \n",
       "297               NaN                    ...                       \n",
       "300               NaN                    ...                       \n",
       "303               NaN                    ...                       \n",
       "304               NaN                    ...                       \n",
       "\n",
       "     calcium_100g  iron_100g  carbon-footprint_100g  glycemic-index_100g  \\\n",
       "107           NaN        NaN                    NaN                  NaN   \n",
       "255           NaN        NaN                    NaN                  NaN   \n",
       "287           NaN        NaN                    NaN                  NaN   \n",
       "291           NaN        NaN                    NaN                  NaN   \n",
       "293           NaN        NaN                    NaN                  NaN   \n",
       "294           NaN        NaN                    NaN                  NaN   \n",
       "297           NaN        NaN                    NaN                  NaN   \n",
       "300           NaN        NaN                    NaN                  NaN   \n",
       "303           NaN        NaN                    NaN                  NaN   \n",
       "304           NaN        NaN                    NaN                  NaN   \n",
       "\n",
       "      country_name  country_code  nutrition_score  \\\n",
       "107         france           FRA              NaN   \n",
       "255         france           FRA                b   \n",
       "287         france           FRA              NaN   \n",
       "291         france           FRA              NaN   \n",
       "293         france           FRA                e   \n",
       "294  united states           USA                e   \n",
       "297         france           FRA              NaN   \n",
       "300         france           FRA              NaN   \n",
       "303         france           FRA                b   \n",
       "304         france           FRA                d   \n",
       "\n",
       "                    allergen_values  \\\n",
       "107                             NaN   \n",
       "255                             NaN   \n",
       "287                             NaN   \n",
       "291                             NaN   \n",
       "293                             NaN   \n",
       "294                             NaN   \n",
       "297  [corn, butter, eggs, hazelnut]   \n",
       "300                             NaN   \n",
       "303                             NaN   \n",
       "304                             NaN   \n",
       "\n",
       "                                         traces_values  \\\n",
       "107                                                NaN   \n",
       "255                                                NaN   \n",
       "287                                                NaN   \n",
       "291                                                NaN   \n",
       "293                                                NaN   \n",
       "294                                                NaN   \n",
       "297                     [nuts, sesame seeds, soybeans]   \n",
       "300                                                NaN   \n",
       "303  [celery, crustaceans, eggs, fish, gluten, milk...   \n",
       "304                                             [eggs]   \n",
       "\n",
       "                                  label_values  \n",
       "107                           [made in france]  \n",
       "255              [french meat, made in france]  \n",
       "287                            [contains gmos]  \n",
       "291  [organic, eu organic, ab organic farming]  \n",
       "293                    [kosher, contains gmos]  \n",
       "294                    [kosher, contains gmos]  \n",
       "297                                [green dot]  \n",
       "300                            [contains gmos]  \n",
       "303                                [green dot]  \n",
       "304     [no artificial flavors, contains gmos]  \n",
       "\n",
       "[10 rows x 27 columns]"
      ]
     },
     "execution_count": 278,
     "metadata": {},
     "output_type": "execute_result"
    }
   ],
   "source": [
    "labels_df[labels_df[result_column].notnull()].head(10)"
   ]
  },
  {
   "cell_type": "code",
   "execution_count": 283,
   "metadata": {},
   "outputs": [
    {
     "name": "stdout",
     "output_type": "stream",
     "text": [
      "Saved module: food\n"
     ]
    }
   ],
   "source": [
    "saveFinalDF(labels_df)"
   ]
  },
  {
   "cell_type": "markdown",
   "metadata": {},
   "source": [
    "## Clean float64 Columns <a id=\"float64_col\"></a> [[up](#Table-of-Contents)]\n",
    "\n",
    "\n",
    "In this section we have cleaning the values of the following columns: \n",
    "+ cholesterol\\_100g\n",
    "+ fat\\_100g\n",
    "+ proteins\\_100g\n",
    "+ fiber\\_100g\n",
    "+ carbohydrates\\_100g\n",
    "+ sugars\\_100g\n",
    "+ salt\\_100g\n",
    "+ sodium\\_100g\n",
    "+ alcohol\\_100g\n",
    "+ calcium\\_100g\n",
    "+ iron\\_100g\n",
    "+ satured-fat\\_100g\n",
    "+ trans-fat\\_100g\n",
    "\n",
    "Each column contains the quantity in grams of the feature of its name that a product has in 100 grams. We realised that the majority of these columns has values higher than 100 grams or negative values that does not make sense.\n",
    "\n",
    "For example, in the columns such as cholesterol\\_100g we searched that the quantity of cholesterol is related with the fat quantity in the foods, [https://www.ucsfhealth.org/education/cholesterol_content_of_foods/]. The cholesterol quantity never is higher than the quantity of fat and usually is described in milligrams. In the different examples shown in that link we realised in the worst case the highest value of cholesterol is always lower than 1g. The same occurs to the other colums such as salt\\_100g or sodium\\_100g. \n",
    "\n",
    "For cleaning the outliers we have used different functions: \n",
    "\n",
    "+ negative\\_values (indexes, df, column\\_name): converts the negative values of the column parameter to positive ones.\n",
    "+ high\\_values (indexes, df, column\\_name, denom): converts the values higher than 100, that means the units that represents the quantity of the values are wrong (i.e milligrams instead of grams)\n",
    "\n",
    "Also, we have used other two auxiliar functions:\n",
    "\n",
    "+ non_null_num (df, column_name): helps us to see the percentage of non null values we have in our data base.\n",
    "+ plot_bloxplot (df, column_name): helps us to see the bloxpot of each column cleaned. "
   ]
  },
  {
   "cell_type": "code",
   "execution_count": 367,
   "metadata": {},
   "outputs": [],
   "source": [
    "def non_null_num(df, column_name):\n",
    "    notnull_n = df[df[column_name].notnull()].shape[0]\n",
    "    print(\"Total number of not null elements:\" , format(notnull_n))\n",
    "    print(\"Percentage of the total:\" , float(\"{0:.2f}\".format(notnull_n*100/df.shape[0])))\n",
    "\n",
    "def high_values(indexes, df, column_name, denom):\n",
    "    global PROGRESS\n",
    "    PROGRESS=0\n",
    "    size=indexes.shape[0]\n",
    "    for idx in indexes:\n",
    "        showProgress(size)\n",
    "        old_val = df.loc[idx, column_name]\n",
    "        new_val = old_val/denom\n",
    "        df.loc[idx, column_name] = new_val\n",
    "    return df\n",
    "        \n",
    "def negative_values(indexes, df, column_name):\n",
    "    global PROGRESS\n",
    "    PROGRESS=0\n",
    "    size=indexes.shape[0]\n",
    "    for idx in indexes:\n",
    "        showProgress(size)\n",
    "        old_val = df.loc[idx, column_name]\n",
    "        new_val = old_val * (-1)\n",
    "        df.loc[idx, column_name] = new_val\n",
    "\n",
    "def plot_boxplot (df, column_name):\n",
    "    sns.boxplot(x=df[column_name]).set_title(column_name)"
   ]
  },
  {
   "cell_type": "code",
   "execution_count": 302,
   "metadata": {},
   "outputs": [],
   "source": [
    "food_fats_df = final_df.copy()"
   ]
  },
  {
   "cell_type": "markdown",
   "metadata": {},
   "source": [
    "### cholesterol\\_100g"
   ]
  },
  {
   "cell_type": "code",
   "execution_count": 303,
   "metadata": {},
   "outputs": [
    {
     "name": "stdout",
     "output_type": "stream",
     "text": [
      "Total number of not null elements: 145903\n",
      "Percentage of the total: 20.11\n"
     ]
    },
    {
     "data": {
      "text/html": [
       "<div>\n",
       "<style scoped>\n",
       "    .dataframe tbody tr th:only-of-type {\n",
       "        vertical-align: middle;\n",
       "    }\n",
       "\n",
       "    .dataframe tbody tr th {\n",
       "        vertical-align: top;\n",
       "    }\n",
       "\n",
       "    .dataframe thead th {\n",
       "        text-align: right;\n",
       "    }\n",
       "</style>\n",
       "<table border=\"1\" class=\"dataframe\">\n",
       "  <thead>\n",
       "    <tr style=\"text-align: right;\">\n",
       "      <th></th>\n",
       "      <th>cholesterol_100g</th>\n",
       "    </tr>\n",
       "  </thead>\n",
       "  <tbody>\n",
       "    <tr>\n",
       "      <th>count</th>\n",
       "      <td>145903.000000</td>\n",
       "    </tr>\n",
       "    <tr>\n",
       "      <th>mean</th>\n",
       "      <td>0.018265</td>\n",
       "    </tr>\n",
       "    <tr>\n",
       "      <th>std</th>\n",
       "      <td>0.038268</td>\n",
       "    </tr>\n",
       "    <tr>\n",
       "      <th>min</th>\n",
       "      <td>0.000000</td>\n",
       "    </tr>\n",
       "    <tr>\n",
       "      <th>25%</th>\n",
       "      <td>0.000000</td>\n",
       "    </tr>\n",
       "    <tr>\n",
       "      <th>50%</th>\n",
       "      <td>0.000000</td>\n",
       "    </tr>\n",
       "    <tr>\n",
       "      <th>75%</th>\n",
       "      <td>0.020000</td>\n",
       "    </tr>\n",
       "    <tr>\n",
       "      <th>max</th>\n",
       "      <td>1.000000</td>\n",
       "    </tr>\n",
       "  </tbody>\n",
       "</table>\n",
       "</div>"
      ],
      "text/plain": [
       "       cholesterol_100g\n",
       "count     145903.000000\n",
       "mean           0.018265\n",
       "std            0.038268\n",
       "min            0.000000\n",
       "25%            0.000000\n",
       "50%            0.000000\n",
       "75%            0.020000\n",
       "max            1.000000"
      ]
     },
     "execution_count": 303,
     "metadata": {},
     "output_type": "execute_result"
    }
   ],
   "source": [
    "non_null_num(food_fats_df, 'cholesterol_100g')\n",
    "food_fats_df[food_fats_df['cholesterol_100g'].notnull()][['cholesterol_100g']].describe()"
   ]
  },
  {
   "cell_type": "code",
   "execution_count": 304,
   "metadata": {},
   "outputs": [
    {
     "name": "stdout",
     "output_type": "stream",
     "text": [
      "count    145903.000000\n",
      "mean          0.018265\n",
      "std           0.038268\n",
      "min           0.000000\n",
      "25%           0.000000\n",
      "50%           0.000000\n",
      "75%           0.020000\n",
      "max           1.000000\n",
      "Name: cholesterol_100g, dtype: float64\n"
     ]
    }
   ],
   "source": [
    "indexes_chol = food_fats_df.loc[food_fats_df['cholesterol_100g'] > 1].index\n",
    "high_values(indexes_chol, food_fats_df, 'cholesterol_100g',1000)\n",
    "print(food_fats_df.cholesterol_100g.describe())"
   ]
  },
  {
   "cell_type": "code",
   "execution_count": 305,
   "metadata": {},
   "outputs": [
    {
     "data": {
      "image/png": "[encoded data removed]",
      "text/plain": [
       "<Figure size 432x288 with 1 Axes>"
      ]
     },
     "metadata": {
      "needs_background": "light"
     },
     "output_type": "display_data"
    }
   ],
   "source": [
    "plot_boxplot(food_fats_df,'cholesterol_100g')"
   ]
  },
  {
   "cell_type": "code",
   "execution_count": 306,
   "metadata": {},
   "outputs": [
    {
     "name": "stdout",
     "output_type": "stream",
     "text": [
      "Saved module: food\n"
     ]
    }
   ],
   "source": [
    "saveFinalDF(food_fats_df)"
   ]
  },
  {
   "cell_type": "markdown",
   "metadata": {},
   "source": [
    "### fat\\_100g"
   ]
  },
  {
   "cell_type": "code",
   "execution_count": 307,
   "metadata": {},
   "outputs": [
    {
     "name": "stdout",
     "output_type": "stream",
     "text": [
      "Total number of not null elements: 586719\n",
      "Percentage of the total: 84.56\n"
     ]
    },
    {
     "data": {
      "text/html": [
       "<div>\n",
       "<style scoped>\n",
       "    .dataframe tbody tr th:only-of-type {\n",
       "        vertical-align: middle;\n",
       "    }\n",
       "\n",
       "    .dataframe tbody tr th {\n",
       "        vertical-align: top;\n",
       "    }\n",
       "\n",
       "    .dataframe thead th {\n",
       "        text-align: right;\n",
       "    }\n",
       "</style>\n",
       "<table border=\"1\" class=\"dataframe\">\n",
       "  <thead>\n",
       "    <tr style=\"text-align: right;\">\n",
       "      <th></th>\n",
       "      <th>fat_100g</th>\n",
       "    </tr>\n",
       "  </thead>\n",
       "  <tbody>\n",
       "    <tr>\n",
       "      <th>count</th>\n",
       "      <td>586719.000000</td>\n",
       "    </tr>\n",
       "    <tr>\n",
       "      <th>mean</th>\n",
       "      <td>13.636445</td>\n",
       "    </tr>\n",
       "    <tr>\n",
       "      <th>std</th>\n",
       "      <td>112.227224</td>\n",
       "    </tr>\n",
       "    <tr>\n",
       "      <th>min</th>\n",
       "      <td>0.000000</td>\n",
       "    </tr>\n",
       "    <tr>\n",
       "      <th>25%</th>\n",
       "      <td>0.500000</td>\n",
       "    </tr>\n",
       "    <tr>\n",
       "      <th>50%</th>\n",
       "      <td>6.300000</td>\n",
       "    </tr>\n",
       "    <tr>\n",
       "      <th>75%</th>\n",
       "      <td>21.000000</td>\n",
       "    </tr>\n",
       "    <tr>\n",
       "      <th>max</th>\n",
       "      <td>66700.000000</td>\n",
       "    </tr>\n",
       "  </tbody>\n",
       "</table>\n",
       "</div>"
      ],
      "text/plain": [
       "            fat_100g\n",
       "count  586719.000000\n",
       "mean       13.636445\n",
       "std       112.227224\n",
       "min         0.000000\n",
       "25%         0.500000\n",
       "50%         6.300000\n",
       "75%        21.000000\n",
       "max     66700.000000"
      ]
     },
     "execution_count": 307,
     "metadata": {},
     "output_type": "execute_result"
    }
   ],
   "source": [
    "non_null_num(food_fats_df,'fat_100g')\n",
    "food_df[food_fats_df['fat_100g'].notnull()][['fat_100g']].describe()"
   ]
  },
  {
   "cell_type": "code",
   "execution_count": 308,
   "metadata": {},
   "outputs": [
    {
     "data": {
      "text/plain": [
       "count    612298.000000\n",
       "mean         13.264790\n",
       "std          17.423974\n",
       "min           0.000000\n",
       "25%           0.500000\n",
       "50%           6.300000\n",
       "75%          21.000000\n",
       "max         100.000000\n",
       "Name: fat_100g, dtype: float64"
      ]
     },
     "execution_count": 308,
     "metadata": {},
     "output_type": "execute_result"
    }
   ],
   "source": [
    "indexes_fat = food_fats_df.loc[food_fats_df['fat_100g'] > 100].index\n",
    "high_values(indexes_fat, food_fats_df, 'fat_100g',1000)\n",
    "food_fats_df.fat_100g.describe()"
   ]
  },
  {
   "cell_type": "code",
   "execution_count": 309,
   "metadata": {},
   "outputs": [
    {
     "data": {
      "image/png": "[encoded data removed]",
      "text/plain": [
       "<Figure size 432x288 with 1 Axes>"
      ]
     },
     "metadata": {
      "needs_background": "light"
     },
     "output_type": "display_data"
    }
   ],
   "source": [
    "plot_boxplot(food_df,'fat_100g')"
   ]
  },
  {
   "cell_type": "code",
   "execution_count": 310,
   "metadata": {},
   "outputs": [
    {
     "name": "stdout",
     "output_type": "stream",
     "text": [
      "Saved module: food\n"
     ]
    }
   ],
   "source": [
    "saveFinalDF(food_fats_df)"
   ]
  },
  {
   "cell_type": "markdown",
   "metadata": {},
   "source": [
    "### proteins\\_100g"
   ]
  },
  {
   "cell_type": "code",
   "execution_count": 312,
   "metadata": {},
   "outputs": [
    {
     "name": "stdout",
     "output_type": "stream",
     "text": [
      "Total number of not null elements: 616939\n",
      "Percentage of the total: 85.02\n"
     ]
    },
    {
     "data": {
      "text/html": [
       "<div>\n",
       "<style scoped>\n",
       "    .dataframe tbody tr th:only-of-type {\n",
       "        vertical-align: middle;\n",
       "    }\n",
       "\n",
       "    .dataframe tbody tr th {\n",
       "        vertical-align: top;\n",
       "    }\n",
       "\n",
       "    .dataframe thead th {\n",
       "        text-align: right;\n",
       "    }\n",
       "</style>\n",
       "<table border=\"1\" class=\"dataframe\">\n",
       "  <thead>\n",
       "    <tr style=\"text-align: right;\">\n",
       "      <th></th>\n",
       "      <th>proteins_100g</th>\n",
       "    </tr>\n",
       "  </thead>\n",
       "  <tbody>\n",
       "    <tr>\n",
       "      <th>count</th>\n",
       "      <td>616939.000000</td>\n",
       "    </tr>\n",
       "    <tr>\n",
       "      <th>mean</th>\n",
       "      <td>8.126250</td>\n",
       "    </tr>\n",
       "    <tr>\n",
       "      <th>std</th>\n",
       "      <td>63.054967</td>\n",
       "    </tr>\n",
       "    <tr>\n",
       "      <th>min</th>\n",
       "      <td>-800.000000</td>\n",
       "    </tr>\n",
       "    <tr>\n",
       "      <th>25%</th>\n",
       "      <td>1.000000</td>\n",
       "    </tr>\n",
       "    <tr>\n",
       "      <th>50%</th>\n",
       "      <td>5.400000</td>\n",
       "    </tr>\n",
       "    <tr>\n",
       "      <th>75%</th>\n",
       "      <td>11.000000</td>\n",
       "    </tr>\n",
       "    <tr>\n",
       "      <th>max</th>\n",
       "      <td>31000.000000</td>\n",
       "    </tr>\n",
       "  </tbody>\n",
       "</table>\n",
       "</div>"
      ],
      "text/plain": [
       "       proteins_100g\n",
       "count  616939.000000\n",
       "mean        8.126250\n",
       "std        63.054967\n",
       "min      -800.000000\n",
       "25%         1.000000\n",
       "50%         5.400000\n",
       "75%        11.000000\n",
       "max     31000.000000"
      ]
     },
     "execution_count": 312,
     "metadata": {},
     "output_type": "execute_result"
    }
   ],
   "source": [
    "non_null_num(food_fats_df,'proteins_100g')\n",
    "food_fats_df[food_fats_df['proteins_100g'].notnull()][['proteins_100g']].describe()"
   ]
  },
  {
   "cell_type": "markdown",
   "metadata": {},
   "source": [
    "The products whose protein value is negative we multiplied that value times -1 and then divided by 1000. "
   ]
  },
  {
   "cell_type": "code",
   "execution_count": 313,
   "metadata": {},
   "outputs": [
    {
     "data": {
      "text/plain": [
       "count    616939.000000\n",
       "mean          7.834707\n",
       "std           9.155626\n",
       "min           0.000000\n",
       "25%           1.000000\n",
       "50%           5.400000\n",
       "75%          11.000000\n",
       "max         100.000000\n",
       "Name: proteins_100g, dtype: float64"
      ]
     },
     "execution_count": 313,
     "metadata": {},
     "output_type": "execute_result"
    }
   ],
   "source": [
    "indexes_neg = food_fats_df.loc[(food_fats_df['proteins_100g'] < 0 )].index\n",
    "negative_values(indexes_neg, food_fats_df, 'proteins_100g') \n",
    "indexes_high = food_fats_df.loc[(food_fats_df['proteins_100g'] > 100 )].index\n",
    "high_values(indexes_high, food_fats_df, 'proteins_100g',1000)\n",
    "food_fats_df.proteins_100g.describe()"
   ]
  },
  {
   "cell_type": "code",
   "execution_count": 314,
   "metadata": {},
   "outputs": [
    {
     "data": {
      "image/png": "[encoded data removed]",
      "text/plain": [
       "<Figure size 432x288 with 1 Axes>"
      ]
     },
     "metadata": {
      "needs_background": "light"
     },
     "output_type": "display_data"
    }
   ],
   "source": [
    "plot_boxplot(food_fats_df,'proteins_100g')"
   ]
  },
  {
   "cell_type": "code",
   "execution_count": 315,
   "metadata": {},
   "outputs": [
    {
     "name": "stdout",
     "output_type": "stream",
     "text": [
      "Saved module: food\n"
     ]
    }
   ],
   "source": [
    "saveFinalDF(food_fats_df)"
   ]
  },
  {
   "cell_type": "markdown",
   "metadata": {},
   "source": [
    "### fiber\\_100g"
   ]
  },
  {
   "cell_type": "code",
   "execution_count": 316,
   "metadata": {},
   "outputs": [
    {
     "name": "stdout",
     "output_type": "stream",
     "text": [
      "Total number of not null elements: 287409\n",
      "Percentage of the total: 39.61\n"
     ]
    },
    {
     "data": {
      "text/html": [
       "<div>\n",
       "<style scoped>\n",
       "    .dataframe tbody tr th:only-of-type {\n",
       "        vertical-align: middle;\n",
       "    }\n",
       "\n",
       "    .dataframe tbody tr th {\n",
       "        vertical-align: top;\n",
       "    }\n",
       "\n",
       "    .dataframe thead th {\n",
       "        text-align: right;\n",
       "    }\n",
       "</style>\n",
       "<table border=\"1\" class=\"dataframe\">\n",
       "  <thead>\n",
       "    <tr style=\"text-align: right;\">\n",
       "      <th></th>\n",
       "      <th>fiber_100g</th>\n",
       "    </tr>\n",
       "  </thead>\n",
       "  <tbody>\n",
       "    <tr>\n",
       "      <th>count</th>\n",
       "      <td>2.874090e+05</td>\n",
       "    </tr>\n",
       "    <tr>\n",
       "      <th>mean</th>\n",
       "      <td>1.939102e+04</td>\n",
       "    </tr>\n",
       "    <tr>\n",
       "      <th>std</th>\n",
       "      <td>1.038975e+07</td>\n",
       "    </tr>\n",
       "    <tr>\n",
       "      <th>min</th>\n",
       "      <td>-2.000000e+01</td>\n",
       "    </tr>\n",
       "    <tr>\n",
       "      <th>25%</th>\n",
       "      <td>0.000000e+00</td>\n",
       "    </tr>\n",
       "    <tr>\n",
       "      <th>50%</th>\n",
       "      <td>1.500000e+00</td>\n",
       "    </tr>\n",
       "    <tr>\n",
       "      <th>75%</th>\n",
       "      <td>3.600000e+00</td>\n",
       "    </tr>\n",
       "    <tr>\n",
       "      <th>max</th>\n",
       "      <td>5.570000e+09</td>\n",
       "    </tr>\n",
       "  </tbody>\n",
       "</table>\n",
       "</div>"
      ],
      "text/plain": [
       "         fiber_100g\n",
       "count  2.874090e+05\n",
       "mean   1.939102e+04\n",
       "std    1.038975e+07\n",
       "min   -2.000000e+01\n",
       "25%    0.000000e+00\n",
       "50%    1.500000e+00\n",
       "75%    3.600000e+00\n",
       "max    5.570000e+09"
      ]
     },
     "execution_count": 316,
     "metadata": {},
     "output_type": "execute_result"
    }
   ],
   "source": [
    "non_null_num(food_fats_df,'fiber_100g')\n",
    "food_fats_df[food_fats_df['fiber_100g'].notnull()][['fiber_100g']].describe()"
   ]
  },
  {
   "cell_type": "code",
   "execution_count": 317,
   "metadata": {},
   "outputs": [
    {
     "data": {
      "text/plain": [
       "count    287409.000000\n",
       "mean          2.943669\n",
       "std           4.969576\n",
       "min           0.000000\n",
       "25%           0.000000\n",
       "50%           1.500000\n",
       "75%           3.600000\n",
       "max         100.000000\n",
       "Name: fiber_100g, dtype: float64"
      ]
     },
     "execution_count": 317,
     "metadata": {},
     "output_type": "execute_result"
    }
   ],
   "source": [
    "indexes_neg = food_fats_df.loc[(food_fats_df['fiber_100g'] < 0 )].index\n",
    "negative_values(indexes_neg, food_fats_df, 'fiber_100g') \n",
    "indexes_high = food_fats_df.loc[(food_fats_df['fiber_100g'] > 100 )].index\n",
    "high_values(indexes_high, food_fats_df, 'fiber_100g',100000000)\n",
    "food_fats_df.fiber_100g.describe()"
   ]
  },
  {
   "cell_type": "code",
   "execution_count": 318,
   "metadata": {},
   "outputs": [
    {
     "data": {
      "image/png": "[encoded data removed]",
      "text/plain": [
       "<Figure size 432x288 with 1 Axes>"
      ]
     },
     "metadata": {
      "needs_background": "light"
     },
     "output_type": "display_data"
    }
   ],
   "source": [
    "plot_boxplot(food_fats_df,'fiber_100g')"
   ]
  },
  {
   "cell_type": "code",
   "execution_count": 319,
   "metadata": {},
   "outputs": [
    {
     "name": "stdout",
     "output_type": "stream",
     "text": [
      "Saved module: food\n"
     ]
    }
   ],
   "source": [
    "saveFinalDF(food_fats_df)"
   ]
  },
  {
   "cell_type": "markdown",
   "metadata": {},
   "source": [
    "### carbohydrates\\_100g"
   ]
  },
  {
   "cell_type": "code",
   "execution_count": 320,
   "metadata": {},
   "outputs": [
    {
     "name": "stdout",
     "output_type": "stream",
     "text": [
      "Total number of not null elements: 611990\n",
      "Percentage of the total: 84.33\n"
     ]
    },
    {
     "data": {
      "text/html": [
       "<div>\n",
       "<style scoped>\n",
       "    .dataframe tbody tr th:only-of-type {\n",
       "        vertical-align: middle;\n",
       "    }\n",
       "\n",
       "    .dataframe tbody tr th {\n",
       "        vertical-align: top;\n",
       "    }\n",
       "\n",
       "    .dataframe thead th {\n",
       "        text-align: right;\n",
       "    }\n",
       "</style>\n",
       "<table border=\"1\" class=\"dataframe\">\n",
       "  <thead>\n",
       "    <tr style=\"text-align: right;\">\n",
       "      <th></th>\n",
       "      <th>carbohydrates_100g</th>\n",
       "    </tr>\n",
       "  </thead>\n",
       "  <tbody>\n",
       "    <tr>\n",
       "      <th>count</th>\n",
       "      <td>611990.000000</td>\n",
       "    </tr>\n",
       "    <tr>\n",
       "      <th>mean</th>\n",
       "      <td>31.092314</td>\n",
       "    </tr>\n",
       "    <tr>\n",
       "      <th>std</th>\n",
       "      <td>273.023062</td>\n",
       "    </tr>\n",
       "    <tr>\n",
       "      <th>min</th>\n",
       "      <td>0.000000</td>\n",
       "    </tr>\n",
       "    <tr>\n",
       "      <th>25%</th>\n",
       "      <td>4.000000</td>\n",
       "    </tr>\n",
       "    <tr>\n",
       "      <th>50%</th>\n",
       "      <td>16.800000</td>\n",
       "    </tr>\n",
       "    <tr>\n",
       "      <th>75%</th>\n",
       "      <td>55.000000</td>\n",
       "    </tr>\n",
       "    <tr>\n",
       "      <th>max</th>\n",
       "      <td>86700.000000</td>\n",
       "    </tr>\n",
       "  </tbody>\n",
       "</table>\n",
       "</div>"
      ],
      "text/plain": [
       "       carbohydrates_100g\n",
       "count       611990.000000\n",
       "mean            31.092314\n",
       "std            273.023062\n",
       "min              0.000000\n",
       "25%              4.000000\n",
       "50%             16.800000\n",
       "75%             55.000000\n",
       "max          86700.000000"
      ]
     },
     "execution_count": 320,
     "metadata": {},
     "output_type": "execute_result"
    }
   ],
   "source": [
    "non_null_num(food_fats_df,'carbohydrates_100g')\n",
    "food_fats_df[food_fats_df['carbohydrates_100g'].notnull()][['carbohydrates_100g']].describe()"
   ]
  },
  {
   "cell_type": "code",
   "execution_count": 321,
   "metadata": {},
   "outputs": [
    {
     "data": {
      "text/plain": [
       "count    611990.000000\n",
       "mean         29.408667\n",
       "std          28.547073\n",
       "min           0.000000\n",
       "25%           4.000000\n",
       "50%          16.700000\n",
       "75%          55.000000\n",
       "max         100.000000\n",
       "Name: carbohydrates_100g, dtype: float64"
      ]
     },
     "execution_count": 321,
     "metadata": {},
     "output_type": "execute_result"
    }
   ],
   "source": [
    "indexes_high = food_fats_df.loc[(food_fats_df['carbohydrates_100g'] > 100 )].index\n",
    "high_values(indexes_high, food_fats_df, 'carbohydrates_100g',1000)\n",
    "food_fats_df.carbohydrates_100g.describe()"
   ]
  },
  {
   "cell_type": "code",
   "execution_count": 322,
   "metadata": {},
   "outputs": [
    {
     "data": {
      "image/png": "[encoded data removed]",
      "text/plain": [
       "<Figure size 432x288 with 1 Axes>"
      ]
     },
     "metadata": {
      "needs_background": "light"
     },
     "output_type": "display_data"
    }
   ],
   "source": [
    "plot_boxplot(food_fats_df,'carbohydrates_100g')"
   ]
  },
  {
   "cell_type": "code",
   "execution_count": 323,
   "metadata": {},
   "outputs": [
    {
     "name": "stdout",
     "output_type": "stream",
     "text": [
      "Saved module: food\n"
     ]
    }
   ],
   "source": [
    "saveFinalDF(food_fats_df)"
   ]
  },
  {
   "cell_type": "markdown",
   "metadata": {},
   "source": [
    "### sugars\\_100g"
   ]
  },
  {
   "cell_type": "code",
   "execution_count": 324,
   "metadata": {},
   "outputs": [
    {
     "name": "stdout",
     "output_type": "stream",
     "text": [
      "Total number of not null elements: 601822\n",
      "Percentage of the total: 82.93\n"
     ]
    },
    {
     "data": {
      "text/html": [
       "<div>\n",
       "<style scoped>\n",
       "    .dataframe tbody tr th:only-of-type {\n",
       "        vertical-align: middle;\n",
       "    }\n",
       "\n",
       "    .dataframe tbody tr th {\n",
       "        vertical-align: top;\n",
       "    }\n",
       "\n",
       "    .dataframe thead th {\n",
       "        text-align: right;\n",
       "    }\n",
       "</style>\n",
       "<table border=\"1\" class=\"dataframe\">\n",
       "  <thead>\n",
       "    <tr style=\"text-align: right;\">\n",
       "      <th></th>\n",
       "      <th>sugars_100g</th>\n",
       "    </tr>\n",
       "  </thead>\n",
       "  <tbody>\n",
       "    <tr>\n",
       "      <th>count</th>\n",
       "      <td>601822.000000</td>\n",
       "    </tr>\n",
       "    <tr>\n",
       "      <th>mean</th>\n",
       "      <td>15.832136</td>\n",
       "    </tr>\n",
       "    <tr>\n",
       "      <th>std</th>\n",
       "      <td>195.525618</td>\n",
       "    </tr>\n",
       "    <tr>\n",
       "      <th>min</th>\n",
       "      <td>-17.860000</td>\n",
       "    </tr>\n",
       "    <tr>\n",
       "      <th>25%</th>\n",
       "      <td>0.880000</td>\n",
       "    </tr>\n",
       "    <tr>\n",
       "      <th>50%</th>\n",
       "      <td>4.500000</td>\n",
       "    </tr>\n",
       "    <tr>\n",
       "      <th>75%</th>\n",
       "      <td>22.000000</td>\n",
       "    </tr>\n",
       "    <tr>\n",
       "      <th>max</th>\n",
       "      <td>86700.000000</td>\n",
       "    </tr>\n",
       "  </tbody>\n",
       "</table>\n",
       "</div>"
      ],
      "text/plain": [
       "         sugars_100g\n",
       "count  601822.000000\n",
       "mean       15.832136\n",
       "std       195.525618\n",
       "min       -17.860000\n",
       "25%         0.880000\n",
       "50%         4.500000\n",
       "75%        22.000000\n",
       "max     86700.000000"
      ]
     },
     "execution_count": 324,
     "metadata": {},
     "output_type": "execute_result"
    }
   ],
   "source": [
    "non_null_num(food_fats_df,'sugars_100g')\n",
    "food_fats_df[food_fats_df['sugars_100g'].notnull()][['sugars_100g']].describe()"
   ]
  },
  {
   "cell_type": "code",
   "execution_count": 325,
   "metadata": {},
   "outputs": [
    {
     "data": {
      "text/plain": [
       "count    601822.000000\n",
       "mean         14.805177\n",
       "std          20.636707\n",
       "min           0.000000\n",
       "25%           0.880000\n",
       "50%           4.500000\n",
       "75%          22.000000\n",
       "max         100.000000\n",
       "Name: sugars_100g, dtype: float64"
      ]
     },
     "execution_count": 325,
     "metadata": {},
     "output_type": "execute_result"
    }
   ],
   "source": [
    "indexes_neg = food_fats_df.loc[(food_fats_df['sugars_100g'] < 0 )].index\n",
    "negative_values(indexes_neg, food_fats_df, 'sugars_100g') \n",
    "indexes_high = food_fats_df.loc[(food_fats_df['sugars_100g'] > 100 )].index\n",
    "high_values(indexes_high, food_fats_df, 'sugars_100g',1000)\n",
    "food_fats_df.sugars_100g.describe()"
   ]
  },
  {
   "cell_type": "code",
   "execution_count": 326,
   "metadata": {},
   "outputs": [
    {
     "data": {
      "image/png": "[encoded data removed]",
      "text/plain": [
       "<Figure size 432x288 with 1 Axes>"
      ]
     },
     "metadata": {
      "needs_background": "light"
     },
     "output_type": "display_data"
    }
   ],
   "source": [
    "plot_boxplot(food_fats_df,'sugars_100g')"
   ]
  },
  {
   "cell_type": "code",
   "execution_count": 327,
   "metadata": {},
   "outputs": [
    {
     "name": "stdout",
     "output_type": "stream",
     "text": [
      "Saved module: food\n"
     ]
    }
   ],
   "source": [
    "saveFinalDF(food_fats_df)"
   ]
  },
  {
   "cell_type": "markdown",
   "metadata": {},
   "source": [
    "### salt\\_100g"
   ]
  },
  {
   "cell_type": "code",
   "execution_count": 328,
   "metadata": {},
   "outputs": [
    {
     "name": "stdout",
     "output_type": "stream",
     "text": [
      "Total number of not null elements: 596198\n",
      "Percentage of the total: 82.16\n"
     ]
    },
    {
     "data": {
      "text/html": [
       "<div>\n",
       "<style scoped>\n",
       "    .dataframe tbody tr th:only-of-type {\n",
       "        vertical-align: middle;\n",
       "    }\n",
       "\n",
       "    .dataframe tbody tr th {\n",
       "        vertical-align: top;\n",
       "    }\n",
       "\n",
       "    .dataframe thead th {\n",
       "        text-align: right;\n",
       "    }\n",
       "</style>\n",
       "<table border=\"1\" class=\"dataframe\">\n",
       "  <thead>\n",
       "    <tr style=\"text-align: right;\">\n",
       "      <th></th>\n",
       "      <th>salt_100g</th>\n",
       "    </tr>\n",
       "  </thead>\n",
       "  <tbody>\n",
       "    <tr>\n",
       "      <th>count</th>\n",
       "      <td>596198.000000</td>\n",
       "    </tr>\n",
       "    <tr>\n",
       "      <th>mean</th>\n",
       "      <td>3.859569</td>\n",
       "    </tr>\n",
       "    <tr>\n",
       "      <th>std</th>\n",
       "      <td>674.003077</td>\n",
       "    </tr>\n",
       "    <tr>\n",
       "      <th>min</th>\n",
       "      <td>0.000000</td>\n",
       "    </tr>\n",
       "    <tr>\n",
       "      <th>25%</th>\n",
       "      <td>0.063500</td>\n",
       "    </tr>\n",
       "    <tr>\n",
       "      <th>50%</th>\n",
       "      <td>0.530000</td>\n",
       "    </tr>\n",
       "    <tr>\n",
       "      <th>75%</th>\n",
       "      <td>1.323340</td>\n",
       "    </tr>\n",
       "    <tr>\n",
       "      <th>max</th>\n",
       "      <td>348000.000000</td>\n",
       "    </tr>\n",
       "  </tbody>\n",
       "</table>\n",
       "</div>"
      ],
      "text/plain": [
       "           salt_100g\n",
       "count  596198.000000\n",
       "mean        3.859569\n",
       "std       674.003077\n",
       "min         0.000000\n",
       "25%         0.063500\n",
       "50%         0.530000\n",
       "75%         1.323340\n",
       "max    348000.000000"
      ]
     },
     "execution_count": 328,
     "metadata": {},
     "output_type": "execute_result"
    }
   ],
   "source": [
    "non_null_num(food_fats_df,'salt_100g')\n",
    "food_fats_df[food_fats_df['salt_100g'].notnull()][['salt_100g']].describe()"
   ]
  },
  {
   "cell_type": "code",
   "execution_count": 329,
   "metadata": {},
   "outputs": [
    {
     "data": {
      "text/plain": [
       "count    596198.000000\n",
       "mean          1.469457\n",
       "std           5.798315\n",
       "min           0.000000\n",
       "25%           0.063500\n",
       "50%           0.530000\n",
       "75%           1.320000\n",
       "max         100.000000\n",
       "Name: salt_100g, dtype: float64"
      ]
     },
     "execution_count": 329,
     "metadata": {},
     "output_type": "execute_result"
    }
   ],
   "source": [
    "indexes_high = food_fats_df.loc[(food_fats_df['salt_100g'] >100 )].index\n",
    "high_values(indexes_high, food_fats_df, 'salt_100g',1000)\n",
    "indexes_high = food_fats_df.loc[(food_fats_df['salt_100g'] >100 )].index\n",
    "high_values(indexes_high, food_fats_df, 'salt_100g',10)\n",
    "food_fats_df.salt_100g.describe()"
   ]
  },
  {
   "cell_type": "code",
   "execution_count": 330,
   "metadata": {},
   "outputs": [
    {
     "data": {
      "image/png": "[encoded data removed]",
      "text/plain": [
       "<Figure size 432x288 with 1 Axes>"
      ]
     },
     "metadata": {
      "needs_background": "light"
     },
     "output_type": "display_data"
    }
   ],
   "source": [
    "plot_boxplot(food_fats_df,'salt_100g')"
   ]
  },
  {
   "cell_type": "code",
   "execution_count": 331,
   "metadata": {},
   "outputs": [
    {
     "name": "stdout",
     "output_type": "stream",
     "text": [
      "Saved module: food\n"
     ]
    }
   ],
   "source": [
    "saveFinalDF(food_fats_df)"
   ]
  },
  {
   "cell_type": "markdown",
   "metadata": {},
   "source": [
    "### sodium\\_100g"
   ]
  },
  {
   "cell_type": "code",
   "execution_count": 332,
   "metadata": {},
   "outputs": [
    {
     "name": "stdout",
     "output_type": "stream",
     "text": [
      "Total number of not null elements: 596161\n",
      "Percentage of the total: 82.15\n"
     ]
    },
    {
     "data": {
      "text/html": [
       "<div>\n",
       "<style scoped>\n",
       "    .dataframe tbody tr th:only-of-type {\n",
       "        vertical-align: middle;\n",
       "    }\n",
       "\n",
       "    .dataframe tbody tr th {\n",
       "        vertical-align: top;\n",
       "    }\n",
       "\n",
       "    .dataframe thead th {\n",
       "        text-align: right;\n",
       "    }\n",
       "</style>\n",
       "<table border=\"1\" class=\"dataframe\">\n",
       "  <thead>\n",
       "    <tr style=\"text-align: right;\">\n",
       "      <th></th>\n",
       "      <th>sodium_100g</th>\n",
       "    </tr>\n",
       "  </thead>\n",
       "  <tbody>\n",
       "    <tr>\n",
       "      <th>count</th>\n",
       "      <td>596161.000000</td>\n",
       "    </tr>\n",
       "    <tr>\n",
       "      <th>mean</th>\n",
       "      <td>1.519606</td>\n",
       "    </tr>\n",
       "    <tr>\n",
       "      <th>std</th>\n",
       "      <td>265.343088</td>\n",
       "    </tr>\n",
       "    <tr>\n",
       "      <th>min</th>\n",
       "      <td>0.000000</td>\n",
       "    </tr>\n",
       "    <tr>\n",
       "      <th>25%</th>\n",
       "      <td>0.025000</td>\n",
       "    </tr>\n",
       "    <tr>\n",
       "      <th>50%</th>\n",
       "      <td>0.208661</td>\n",
       "    </tr>\n",
       "    <tr>\n",
       "      <th>75%</th>\n",
       "      <td>0.521000</td>\n",
       "    </tr>\n",
       "    <tr>\n",
       "      <th>max</th>\n",
       "      <td>137000.000000</td>\n",
       "    </tr>\n",
       "  </tbody>\n",
       "</table>\n",
       "</div>"
      ],
      "text/plain": [
       "         sodium_100g\n",
       "count  596161.000000\n",
       "mean        1.519606\n",
       "std       265.343088\n",
       "min         0.000000\n",
       "25%         0.025000\n",
       "50%         0.208661\n",
       "75%         0.521000\n",
       "max    137000.000000"
      ]
     },
     "execution_count": 332,
     "metadata": {},
     "output_type": "execute_result"
    }
   ],
   "source": [
    "non_null_num(food_fats_df,'sodium_100g')\n",
    "food_fats_df[food_fats_df['sodium_100g'].notnull()][['sodium_100g']].describe()"
   ]
  },
  {
   "cell_type": "code",
   "execution_count": 333,
   "metadata": {},
   "outputs": [
    {
     "data": {
      "text/plain": [
       "count    596161.000000\n",
       "mean          0.594488\n",
       "std           2.472043\n",
       "min           0.000000\n",
       "25%           0.025000\n",
       "50%           0.208661\n",
       "75%           0.520000\n",
       "max         100.000000\n",
       "Name: sodium_100g, dtype: float64"
      ]
     },
     "execution_count": 333,
     "metadata": {},
     "output_type": "execute_result"
    }
   ],
   "source": [
    "indexes_high = food_fats_df.loc[(food_fats_df['sodium_100g'] > 100 )].index\n",
    "high_values(indexes_high, food_fats_df, 'sodium_100g',1000)\n",
    "indexes_high = food_fats_df.loc[(food_fats_df['sodium_100g'] > 100 )].index\n",
    "high_values(indexes_high, food_fats_df, 'sodium_100g',10)\n",
    "food_fats_df.sodium_100g.describe()"
   ]
  },
  {
   "cell_type": "code",
   "execution_count": 334,
   "metadata": {},
   "outputs": [
    {
     "data": {
      "image/png": "[encoded data removed]",
      "text/plain": [
       "<Figure size 432x288 with 1 Axes>"
      ]
     },
     "metadata": {
      "needs_background": "light"
     },
     "output_type": "display_data"
    }
   ],
   "source": [
    "plot_boxplot(food_fats_df,'sodium_100g')"
   ]
  },
  {
   "cell_type": "markdown",
   "metadata": {},
   "source": [
    "### alcohol\\_100g"
   ]
  },
  {
   "cell_type": "code",
   "execution_count": 335,
   "metadata": {},
   "outputs": [
    {
     "name": "stdout",
     "output_type": "stream",
     "text": [
      "Total number of not null elements: 8817\n",
      "Percentage of the total: 1.21\n"
     ]
    },
    {
     "data": {
      "text/html": [
       "<div>\n",
       "<style scoped>\n",
       "    .dataframe tbody tr th:only-of-type {\n",
       "        vertical-align: middle;\n",
       "    }\n",
       "\n",
       "    .dataframe tbody tr th {\n",
       "        vertical-align: top;\n",
       "    }\n",
       "\n",
       "    .dataframe thead th {\n",
       "        text-align: right;\n",
       "    }\n",
       "</style>\n",
       "<table border=\"1\" class=\"dataframe\">\n",
       "  <thead>\n",
       "    <tr style=\"text-align: right;\">\n",
       "      <th></th>\n",
       "      <th>alcohol_100g</th>\n",
       "    </tr>\n",
       "  </thead>\n",
       "  <tbody>\n",
       "    <tr>\n",
       "      <th>count</th>\n",
       "      <td>8817.000000</td>\n",
       "    </tr>\n",
       "    <tr>\n",
       "      <th>mean</th>\n",
       "      <td>7.006841</td>\n",
       "    </tr>\n",
       "    <tr>\n",
       "      <th>std</th>\n",
       "      <td>10.467670</td>\n",
       "    </tr>\n",
       "    <tr>\n",
       "      <th>min</th>\n",
       "      <td>0.000000</td>\n",
       "    </tr>\n",
       "    <tr>\n",
       "      <th>25%</th>\n",
       "      <td>0.000000</td>\n",
       "    </tr>\n",
       "    <tr>\n",
       "      <th>50%</th>\n",
       "      <td>4.500000</td>\n",
       "    </tr>\n",
       "    <tr>\n",
       "      <th>75%</th>\n",
       "      <td>11.500000</td>\n",
       "    </tr>\n",
       "    <tr>\n",
       "      <th>max</th>\n",
       "      <td>100.000000</td>\n",
       "    </tr>\n",
       "  </tbody>\n",
       "</table>\n",
       "</div>"
      ],
      "text/plain": [
       "       alcohol_100g\n",
       "count   8817.000000\n",
       "mean       7.006841\n",
       "std       10.467670\n",
       "min        0.000000\n",
       "25%        0.000000\n",
       "50%        4.500000\n",
       "75%       11.500000\n",
       "max      100.000000"
      ]
     },
     "execution_count": 335,
     "metadata": {},
     "output_type": "execute_result"
    }
   ],
   "source": [
    "non_null_num(food_fats_df,'alcohol_100g')\n",
    "food_fats_df[food_fats_df['alcohol_100g'].notnull()][['alcohol_100g']].describe()"
   ]
  },
  {
   "cell_type": "code",
   "execution_count": 336,
   "metadata": {},
   "outputs": [
    {
     "data": {
      "image/png": "[encoded data removed]",
      "text/plain": [
       "<Figure size 432x288 with 1 Axes>"
      ]
     },
     "metadata": {
      "needs_background": "light"
     },
     "output_type": "display_data"
    }
   ],
   "source": [
    "plot_boxplot(food_fats_df,'alcohol_100g')"
   ]
  },
  {
   "cell_type": "markdown",
   "metadata": {},
   "source": [
    "### calcium_100g"
   ]
  },
  {
   "cell_type": "code",
   "execution_count": 337,
   "metadata": {},
   "outputs": [
    {
     "name": "stdout",
     "output_type": "stream",
     "text": [
      "Total number of not null elements: 145476\n",
      "Percentage of the total: 20.05\n"
     ]
    },
    {
     "data": {
      "text/html": [
       "<div>\n",
       "<style scoped>\n",
       "    .dataframe tbody tr th:only-of-type {\n",
       "        vertical-align: middle;\n",
       "    }\n",
       "\n",
       "    .dataframe tbody tr th {\n",
       "        vertical-align: top;\n",
       "    }\n",
       "\n",
       "    .dataframe thead th {\n",
       "        text-align: right;\n",
       "    }\n",
       "</style>\n",
       "<table border=\"1\" class=\"dataframe\">\n",
       "  <thead>\n",
       "    <tr style=\"text-align: right;\">\n",
       "      <th></th>\n",
       "      <th>calcium_100g</th>\n",
       "    </tr>\n",
       "  </thead>\n",
       "  <tbody>\n",
       "    <tr>\n",
       "      <th>count</th>\n",
       "      <td>145476.000000</td>\n",
       "    </tr>\n",
       "    <tr>\n",
       "      <th>mean</th>\n",
       "      <td>0.194769</td>\n",
       "    </tr>\n",
       "    <tr>\n",
       "      <th>std</th>\n",
       "      <td>5.783936</td>\n",
       "    </tr>\n",
       "    <tr>\n",
       "      <th>min</th>\n",
       "      <td>0.000000</td>\n",
       "    </tr>\n",
       "    <tr>\n",
       "      <th>25%</th>\n",
       "      <td>0.000000</td>\n",
       "    </tr>\n",
       "    <tr>\n",
       "      <th>50%</th>\n",
       "      <td>0.036000</td>\n",
       "    </tr>\n",
       "    <tr>\n",
       "      <th>75%</th>\n",
       "      <td>0.113000</td>\n",
       "    </tr>\n",
       "    <tr>\n",
       "      <th>max</th>\n",
       "      <td>779.000000</td>\n",
       "    </tr>\n",
       "  </tbody>\n",
       "</table>\n",
       "</div>"
      ],
      "text/plain": [
       "        calcium_100g\n",
       "count  145476.000000\n",
       "mean        0.194769\n",
       "std         5.783936\n",
       "min         0.000000\n",
       "25%         0.000000\n",
       "50%         0.036000\n",
       "75%         0.113000\n",
       "max       779.000000"
      ]
     },
     "execution_count": 337,
     "metadata": {},
     "output_type": "execute_result"
    }
   ],
   "source": [
    "non_null_num(food_fats_df,'calcium_100g')\n",
    "food_fats_df[food_fats_df['calcium_100g'].notnull()][['calcium_100g']].describe()"
   ]
  },
  {
   "cell_type": "code",
   "execution_count": 338,
   "metadata": {},
   "outputs": [
    {
     "data": {
      "text/plain": [
       "count    145476.000000\n",
       "mean          0.111612\n",
       "std           0.889091\n",
       "min           0.000000\n",
       "25%           0.000000\n",
       "50%           0.036000\n",
       "75%           0.113000\n",
       "max         100.000000\n",
       "Name: calcium_100g, dtype: float64"
      ]
     },
     "execution_count": 338,
     "metadata": {},
     "output_type": "execute_result"
    }
   ],
   "source": [
    "indexes_high = food_fats_df.loc[(food_fats_df['calcium_100g'] > 100 )].index\n",
    "high_values(indexes_high, food_fats_df, 'calcium_100g',1000)\n",
    "food_fats_df.calcium_100g.describe()"
   ]
  },
  {
   "cell_type": "code",
   "execution_count": 339,
   "metadata": {},
   "outputs": [
    {
     "data": {
      "image/png": "[encoded data removed]",
      "text/plain": [
       "<Figure size 432x288 with 1 Axes>"
      ]
     },
     "metadata": {
      "needs_background": "light"
     },
     "output_type": "display_data"
    }
   ],
   "source": [
    "plot_boxplot(food_fats_df,'calcium_100g')"
   ]
  },
  {
   "cell_type": "code",
   "execution_count": 340,
   "metadata": {},
   "outputs": [
    {
     "name": "stdout",
     "output_type": "stream",
     "text": [
      "Saved module: food\n"
     ]
    }
   ],
   "source": [
    "saveFinalDF(food_fats_df)"
   ]
  },
  {
   "cell_type": "markdown",
   "metadata": {},
   "source": [
    "### iron_100g"
   ]
  },
  {
   "cell_type": "code",
   "execution_count": 341,
   "metadata": {},
   "outputs": [
    {
     "name": "stdout",
     "output_type": "stream",
     "text": [
      "Total number of not null elements: 143104\n",
      "Percentage of the total: 19.72\n"
     ]
    },
    {
     "data": {
      "text/html": [
       "<div>\n",
       "<style scoped>\n",
       "    .dataframe tbody tr th:only-of-type {\n",
       "        vertical-align: middle;\n",
       "    }\n",
       "\n",
       "    .dataframe tbody tr th {\n",
       "        vertical-align: top;\n",
       "    }\n",
       "\n",
       "    .dataframe thead th {\n",
       "        text-align: right;\n",
       "    }\n",
       "</style>\n",
       "<table border=\"1\" class=\"dataframe\">\n",
       "  <thead>\n",
       "    <tr style=\"text-align: right;\">\n",
       "      <th></th>\n",
       "      <th>iron_100g</th>\n",
       "    </tr>\n",
       "  </thead>\n",
       "  <tbody>\n",
       "    <tr>\n",
       "      <th>count</th>\n",
       "      <td>143104.000000</td>\n",
       "    </tr>\n",
       "    <tr>\n",
       "      <th>mean</th>\n",
       "      <td>0.006156</td>\n",
       "    </tr>\n",
       "    <tr>\n",
       "      <th>std</th>\n",
       "      <td>0.382455</td>\n",
       "    </tr>\n",
       "    <tr>\n",
       "      <th>min</th>\n",
       "      <td>-0.000260</td>\n",
       "    </tr>\n",
       "    <tr>\n",
       "      <th>25%</th>\n",
       "      <td>0.000000</td>\n",
       "    </tr>\n",
       "    <tr>\n",
       "      <th>50%</th>\n",
       "      <td>0.001030</td>\n",
       "    </tr>\n",
       "    <tr>\n",
       "      <th>75%</th>\n",
       "      <td>0.002470</td>\n",
       "    </tr>\n",
       "    <tr>\n",
       "      <th>max</th>\n",
       "      <td>96.000000</td>\n",
       "    </tr>\n",
       "  </tbody>\n",
       "</table>\n",
       "</div>"
      ],
      "text/plain": [
       "           iron_100g\n",
       "count  143104.000000\n",
       "mean        0.006156\n",
       "std         0.382455\n",
       "min        -0.000260\n",
       "25%         0.000000\n",
       "50%         0.001030\n",
       "75%         0.002470\n",
       "max        96.000000"
      ]
     },
     "execution_count": 341,
     "metadata": {},
     "output_type": "execute_result"
    }
   ],
   "source": [
    "non_null_num(food_fats_df,'iron_100g')\n",
    "food_fats_df[food_fats_df['iron_100g'].notnull()][['iron_100g']].describe()"
   ]
  },
  {
   "cell_type": "code",
   "execution_count": 342,
   "metadata": {},
   "outputs": [
    {
     "data": {
      "text/plain": [
       "count    143104.000000\n",
       "mean          0.006156\n",
       "std           0.382455\n",
       "min           0.000000\n",
       "25%           0.000000\n",
       "50%           0.001030\n",
       "75%           0.002470\n",
       "max          96.000000\n",
       "Name: iron_100g, dtype: float64"
      ]
     },
     "execution_count": 342,
     "metadata": {},
     "output_type": "execute_result"
    }
   ],
   "source": [
    "indexes_neg = food_fats_df.loc[(food_fats_df['iron_100g'] < 0 )].index\n",
    "negative_values(indexes_neg, food_fats_df, 'iron_100g') \n",
    "food_fats_df.iron_100g.describe()"
   ]
  },
  {
   "cell_type": "code",
   "execution_count": 343,
   "metadata": {},
   "outputs": [
    {
     "data": {
      "image/png": "[encoded data removed]",
      "text/plain": [
       "<Figure size 432x288 with 1 Axes>"
      ]
     },
     "metadata": {
      "needs_background": "light"
     },
     "output_type": "display_data"
    }
   ],
   "source": [
    "plot_boxplot(food_fats_df,'iron_100g')"
   ]
  },
  {
   "cell_type": "markdown",
   "metadata": {},
   "source": [
    "### satured-fat_100g"
   ]
  },
  {
   "cell_type": "code",
   "execution_count": 344,
   "metadata": {},
   "outputs": [
    {
     "name": "stdout",
     "output_type": "stream",
     "text": [
      "Total number of not null elements: 586464\n",
      "Percentage of the total: 80.82\n"
     ]
    },
    {
     "data": {
      "text/html": [
       "<div>\n",
       "<style scoped>\n",
       "    .dataframe tbody tr th:only-of-type {\n",
       "        vertical-align: middle;\n",
       "    }\n",
       "\n",
       "    .dataframe tbody tr th {\n",
       "        vertical-align: top;\n",
       "    }\n",
       "\n",
       "    .dataframe thead th {\n",
       "        text-align: right;\n",
       "    }\n",
       "</style>\n",
       "<table border=\"1\" class=\"dataframe\">\n",
       "  <thead>\n",
       "    <tr style=\"text-align: right;\">\n",
       "      <th></th>\n",
       "      <th>saturated-fat_100g</th>\n",
       "    </tr>\n",
       "  </thead>\n",
       "  <tbody>\n",
       "    <tr>\n",
       "      <th>count</th>\n",
       "      <td>586464.000000</td>\n",
       "    </tr>\n",
       "    <tr>\n",
       "      <th>mean</th>\n",
       "      <td>5.353033</td>\n",
       "    </tr>\n",
       "    <tr>\n",
       "      <th>std</th>\n",
       "      <td>41.648477</td>\n",
       "    </tr>\n",
       "    <tr>\n",
       "      <th>min</th>\n",
       "      <td>0.000000</td>\n",
       "    </tr>\n",
       "    <tr>\n",
       "      <th>25%</th>\n",
       "      <td>0.100000</td>\n",
       "    </tr>\n",
       "    <tr>\n",
       "      <th>50%</th>\n",
       "      <td>1.800000</td>\n",
       "    </tr>\n",
       "    <tr>\n",
       "      <th>75%</th>\n",
       "      <td>7.350000</td>\n",
       "    </tr>\n",
       "    <tr>\n",
       "      <th>max</th>\n",
       "      <td>18000.000000</td>\n",
       "    </tr>\n",
       "  </tbody>\n",
       "</table>\n",
       "</div>"
      ],
      "text/plain": [
       "       saturated-fat_100g\n",
       "count       586464.000000\n",
       "mean             5.353033\n",
       "std             41.648477\n",
       "min              0.000000\n",
       "25%              0.100000\n",
       "50%              1.800000\n",
       "75%              7.350000\n",
       "max          18000.000000"
      ]
     },
     "execution_count": 344,
     "metadata": {},
     "output_type": "execute_result"
    }
   ],
   "source": [
    "non_null_num(food_fats_df,'saturated-fat_100g')\n",
    "food_fats_df[food_fats_df['saturated-fat_100g'].notnull()][['saturated-fat_100g']].describe()"
   ]
  },
  {
   "cell_type": "code",
   "execution_count": 358,
   "metadata": {},
   "outputs": [
    {
     "data": {
      "text/plain": [
       "count    586464.000000\n",
       "mean          5.165214\n",
       "std           7.895768\n",
       "min           0.000000\n",
       "25%           0.100000\n",
       "50%           1.800000\n",
       "75%           7.350000\n",
       "max         100.000000\n",
       "Name: saturated-fat_100g, dtype: float64"
      ]
     },
     "execution_count": 358,
     "metadata": {},
     "output_type": "execute_result"
    }
   ],
   "source": [
    "indexes_high = food_fats_df.loc[(food_fats_df['saturated-fat_100g'] > 100 )].index\n",
    "high_values(indexes_high, food_fats_df, 'saturated-fat_100g',1000)\n",
    "food_fats_df['saturated-fat_100g'].describe()"
   ]
  },
  {
   "cell_type": "code",
   "execution_count": 346,
   "metadata": {},
   "outputs": [
    {
     "data": {
      "image/png": "[encoded data removed]",
      "text/plain": [
       "<Figure size 432x288 with 1 Axes>"
      ]
     },
     "metadata": {
      "needs_background": "light"
     },
     "output_type": "display_data"
    }
   ],
   "source": [
    "plot_boxplot(food_fats_df,'saturated-fat_100g')"
   ]
  },
  {
   "cell_type": "code",
   "execution_count": 347,
   "metadata": {},
   "outputs": [
    {
     "name": "stdout",
     "output_type": "stream",
     "text": [
      "Saved module: food\n"
     ]
    }
   ],
   "source": [
    "saveFinalDF(food_fats_df)"
   ]
  },
  {
   "cell_type": "markdown",
   "metadata": {},
   "source": [
    "### trans-fat_100g"
   ]
  },
  {
   "cell_type": "code",
   "execution_count": 348,
   "metadata": {},
   "outputs": [
    {
     "name": "stdout",
     "output_type": "stream",
     "text": [
      "Total number of not null elements: 145274\n",
      "Percentage of the total: 20.02\n"
     ]
    },
    {
     "data": {
      "text/html": [
       "<div>\n",
       "<style scoped>\n",
       "    .dataframe tbody tr th:only-of-type {\n",
       "        vertical-align: middle;\n",
       "    }\n",
       "\n",
       "    .dataframe tbody tr th {\n",
       "        vertical-align: top;\n",
       "    }\n",
       "\n",
       "    .dataframe thead th {\n",
       "        text-align: right;\n",
       "    }\n",
       "</style>\n",
       "<table border=\"1\" class=\"dataframe\">\n",
       "  <thead>\n",
       "    <tr style=\"text-align: right;\">\n",
       "      <th></th>\n",
       "      <th>trans-fat_100g</th>\n",
       "    </tr>\n",
       "  </thead>\n",
       "  <tbody>\n",
       "    <tr>\n",
       "      <th>count</th>\n",
       "      <td>145274.000000</td>\n",
       "    </tr>\n",
       "    <tr>\n",
       "      <th>mean</th>\n",
       "      <td>0.074120</td>\n",
       "    </tr>\n",
       "    <tr>\n",
       "      <th>std</th>\n",
       "      <td>1.540436</td>\n",
       "    </tr>\n",
       "    <tr>\n",
       "      <th>min</th>\n",
       "      <td>-3.570000</td>\n",
       "    </tr>\n",
       "    <tr>\n",
       "      <th>25%</th>\n",
       "      <td>0.000000</td>\n",
       "    </tr>\n",
       "    <tr>\n",
       "      <th>50%</th>\n",
       "      <td>0.000000</td>\n",
       "    </tr>\n",
       "    <tr>\n",
       "      <th>75%</th>\n",
       "      <td>0.000000</td>\n",
       "    </tr>\n",
       "    <tr>\n",
       "      <th>max</th>\n",
       "      <td>369.000000</td>\n",
       "    </tr>\n",
       "  </tbody>\n",
       "</table>\n",
       "</div>"
      ],
      "text/plain": [
       "       trans-fat_100g\n",
       "count   145274.000000\n",
       "mean         0.074120\n",
       "std          1.540436\n",
       "min         -3.570000\n",
       "25%          0.000000\n",
       "50%          0.000000\n",
       "75%          0.000000\n",
       "max        369.000000"
      ]
     },
     "execution_count": 348,
     "metadata": {},
     "output_type": "execute_result"
    }
   ],
   "source": [
    "non_null_num(food_fats_df,'trans-fat_100g')\n",
    "food_fats_df[food_fats_df['trans-fat_100g'].notnull()][['trans-fat_100g']].describe()"
   ]
  },
  {
   "cell_type": "code",
   "execution_count": 359,
   "metadata": {},
   "outputs": [
    {
     "data": {
      "text/plain": [
       "count    145274.000000\n",
       "mean          0.067961\n",
       "std           0.956005\n",
       "min           0.000000\n",
       "25%           0.000000\n",
       "50%           0.000000\n",
       "75%           0.000000\n",
       "max         100.000000\n",
       "Name: trans-fat_100g, dtype: float64"
      ]
     },
     "execution_count": 359,
     "metadata": {},
     "output_type": "execute_result"
    }
   ],
   "source": [
    "indexes_neg = food_fats_df.loc[(food_fats_df['trans-fat_100g'] < 0 )].index\n",
    "negative_values(indexes_neg, food_fats_df, 'trans-fat_100g') \n",
    "indexes_high = food_fats_df.loc[(food_fats_df['trans-fat_100g'] > 100 )].index\n",
    "high_values(indexes_high, food_fats_df, 'trans-fat_100g',1000)\n",
    "food_fats_df['trans-fat_100g'].describe()"
   ]
  },
  {
   "cell_type": "code",
   "execution_count": 350,
   "metadata": {},
   "outputs": [
    {
     "data": {
      "image/png": "[encoded data removed]",
      "text/plain": [
       "<Figure size 432x288 with 1 Axes>"
      ]
     },
     "metadata": {
      "needs_background": "light"
     },
     "output_type": "display_data"
    }
   ],
   "source": [
    "plot_boxplot(food_fats_df,'trans-fat_100g')"
   ]
  },
  {
   "cell_type": "markdown",
   "metadata": {},
   "source": [
    "### energy_100g"
   ]
  },
  {
   "cell_type": "code",
   "execution_count": 354,
   "metadata": {},
   "outputs": [
    {
     "name": "stdout",
     "output_type": "stream",
     "text": [
      "Total number of not null elements: 618151\n",
      "Percentage of the total: 85.18\n"
     ]
    },
    {
     "data": {
      "text/html": [
       "<div>\n",
       "<style scoped>\n",
       "    .dataframe tbody tr th:only-of-type {\n",
       "        vertical-align: middle;\n",
       "    }\n",
       "\n",
       "    .dataframe tbody tr th {\n",
       "        vertical-align: top;\n",
       "    }\n",
       "\n",
       "    .dataframe thead th {\n",
       "        text-align: right;\n",
       "    }\n",
       "</style>\n",
       "<table border=\"1\" class=\"dataframe\">\n",
       "  <thead>\n",
       "    <tr style=\"text-align: right;\">\n",
       "      <th></th>\n",
       "      <th>energy_100g</th>\n",
       "    </tr>\n",
       "  </thead>\n",
       "  <tbody>\n",
       "    <tr>\n",
       "      <th>count</th>\n",
       "      <td>6.181510e+05</td>\n",
       "    </tr>\n",
       "    <tr>\n",
       "      <th>mean</th>\n",
       "      <td>7.840435e+02</td>\n",
       "    </tr>\n",
       "    <tr>\n",
       "      <th>std</th>\n",
       "      <td>3.182745e+03</td>\n",
       "    </tr>\n",
       "    <tr>\n",
       "      <th>min</th>\n",
       "      <td>0.000000e+00</td>\n",
       "    </tr>\n",
       "    <tr>\n",
       "      <th>25%</th>\n",
       "      <td>1.674000e-01</td>\n",
       "    </tr>\n",
       "    <tr>\n",
       "      <th>50%</th>\n",
       "      <td>4.520000e+02</td>\n",
       "    </tr>\n",
       "    <tr>\n",
       "      <th>75%</th>\n",
       "      <td>1.452000e+03</td>\n",
       "    </tr>\n",
       "    <tr>\n",
       "      <th>max</th>\n",
       "      <td>1.790000e+06</td>\n",
       "    </tr>\n",
       "  </tbody>\n",
       "</table>\n",
       "</div>"
      ],
      "text/plain": [
       "        energy_100g\n",
       "count  6.181510e+05\n",
       "mean   7.840435e+02\n",
       "std    3.182745e+03\n",
       "min    0.000000e+00\n",
       "25%    1.674000e-01\n",
       "50%    4.520000e+02\n",
       "75%    1.452000e+03\n",
       "max    1.790000e+06"
      ]
     },
     "execution_count": 354,
     "metadata": {},
     "output_type": "execute_result"
    }
   ],
   "source": [
    "non_null_num(food_fats_df,'energy_100g')\n",
    "food_fats_df[food_fats_df['energy_100g'].notnull()][['energy_100g']].describe()"
   ]
  },
  {
   "cell_type": "code",
   "execution_count": 368,
   "metadata": {},
   "outputs": [
    {
     "name": "stdout",
     "output_type": "stream",
     "text": [
      "Progress 100.0%"
     ]
    },
    {
     "data": {
      "text/plain": [
       "count    145274.000000\n",
       "mean          0.067961\n",
       "std           0.956005\n",
       "min           0.000000\n",
       "25%           0.000000\n",
       "50%           0.000000\n",
       "75%           0.000000\n",
       "max         100.000000\n",
       "Name: trans-fat_100g, dtype: float64"
      ]
     },
     "execution_count": 368,
     "metadata": {},
     "output_type": "execute_result"
    }
   ],
   "source": [
    "indexes_high = food_fats_df.loc[(food_fats_df['energy_100g'] > 100 )].index\n",
    "high_values(indexes_high, food_fats_df, 'energy_100g',10000)\n",
    "food_fats_df['trans-fat_100g'].describe()"
   ]
  },
  {
   "cell_type": "code",
   "execution_count": 369,
   "metadata": {},
   "outputs": [
    {
     "data": {
      "image/png": "[encoded data removed]",
      "text/plain": [
       "<Figure size 432x288 with 1 Axes>"
      ]
     },
     "metadata": {
      "needs_background": "light"
     },
     "output_type": "display_data"
    }
   ],
   "source": [
    "plot_boxplot(food_fats_df,'energy_100g')"
   ]
  },
  {
   "cell_type": "code",
   "execution_count": 370,
   "metadata": {},
   "outputs": [
    {
     "name": "stdout",
     "output_type": "stream",
     "text": [
      "Saved module: food\n"
     ]
    }
   ],
   "source": [
    "saveFinalDF(food_fats_df)"
   ]
  },
  {
   "cell_type": "markdown",
   "metadata": {},
   "source": [
    "## Processing Data (Binary Columns) <a id=\"processing_data\"></a> [[up](#Table-of-Contents)]\n",
    "Now that our data has been translated and is in a nicer format. We will categorize our food by binary columns for each type of dietary restriction we wish to look at."
   ]
  },
  {
   "cell_type": "markdown",
   "metadata": {},
   "source": [
    "# Data Visualization & Analysis <a id=\"data_analysis\"></a> [[up](#Table-of-Contents)]\n",
    "TO BE COMPLETED FOR MILESTONE 3"
   ]
  },
  {
   "cell_type": "code",
   "execution_count": 43,
   "metadata": {},
   "outputs": [],
   "source": [
    "saveTranslations()"
   ]
  },
  {
   "cell_type": "code",
   "execution_count": 1,
   "metadata": {},
   "outputs": [
    {
     "ename": "NameError",
     "evalue": "name 'os' is not defined",
     "output_type": "error",
     "traceback": [
      "\u001b[0;31m---------------------------------------------------------------------------\u001b[0m",
      "\u001b[0;31mNameError\u001b[0m                                 Traceback (most recent call last)",
      "\u001b[0;32m<ipython-input-1-00483ecce3fc>\u001b[0m in \u001b[0;36m<module>\u001b[0;34m\u001b[0m\n\u001b[1;32m      1\u001b[0m \u001b[0;31m# loading json file for co\u001b[0m\u001b[0;34m\u001b[0m\u001b[0;34m\u001b[0m\u001b[0m\n\u001b[0;32m----> 2\u001b[0;31m \u001b[0mcountry_boundaries_path\u001b[0m \u001b[0;34m=\u001b[0m \u001b[0mos\u001b[0m\u001b[0;34m.\u001b[0m\u001b[0mpath\u001b[0m\u001b[0;34m.\u001b[0m\u001b[0mjoin\u001b[0m\u001b[0;34m(\u001b[0m\u001b[0mdata_folder\u001b[0m\u001b[0;34m,\u001b[0m \u001b[0mcountry_json_file\u001b[0m\u001b[0;34m)\u001b[0m\u001b[0;34m\u001b[0m\u001b[0m\n\u001b[0m\u001b[1;32m      3\u001b[0m \u001b[0mcountry_bound_data\u001b[0m \u001b[0;34m=\u001b[0m \u001b[0mjson\u001b[0m\u001b[0;34m.\u001b[0m\u001b[0mload\u001b[0m\u001b[0;34m(\u001b[0m\u001b[0mopen\u001b[0m\u001b[0;34m(\u001b[0m\u001b[0mcountry_boundaries_path\u001b[0m\u001b[0;34m)\u001b[0m\u001b[0;34m)\u001b[0m\u001b[0;34m\u001b[0m\u001b[0m\n\u001b[1;32m      4\u001b[0m \u001b[0;34m\u001b[0m\u001b[0m\n\u001b[1;32m      5\u001b[0m world_map = folium.Map(\n",
      "\u001b[0;31mNameError\u001b[0m: name 'os' is not defined"
     ]
    }
   ],
   "source": [
    "# loading json file for co\n",
    "country_boundaries_path = os.path.join(data_folder, country_json_file)\n",
    "country_bound_data = json.load(open(country_boundaries_path))\n",
    "\n",
    "world_map = folium.Map(\n",
    "    tiles='cartodbpositron',\n",
    "    zoom_start = 3\n",
    ")\n",
    "\n",
    "folium.GeoJson(country_bound_data).add_to(world_map)\n",
    "\n",
    "world_map"
   ]
  },
  {
   "cell_type": "markdown",
   "metadata": {},
   "source": [
    "## Maps"
   ]
  },
  {
   "cell_type": "code",
   "execution_count": null,
   "metadata": {},
   "outputs": [],
   "source": []
  },
  {
   "cell_type": "markdown",
   "metadata": {},
   "source": [
    "## Correlations b/w Neighbouring Countries <a id=\"correlation_neighbours\"></a>"
   ]
  },
  {
   "cell_type": "code",
   "execution_count": 6,
   "metadata": {},
   "outputs": [
    {
     "data": {
      "text/html": [
       "<div>\n",
       "<style scoped>\n",
       "    .dataframe tbody tr th:only-of-type {\n",
       "        vertical-align: middle;\n",
       "    }\n",
       "\n",
       "    .dataframe tbody tr th {\n",
       "        vertical-align: top;\n",
       "    }\n",
       "\n",
       "    .dataframe thead th {\n",
       "        text-align: right;\n",
       "    }\n",
       "</style>\n",
       "<table border=\"1\" class=\"dataframe\">\n",
       "  <thead>\n",
       "    <tr style=\"text-align: right;\">\n",
       "      <th></th>\n",
       "      <th>cholesterol_100g</th>\n",
       "      <th>fat_100g</th>\n",
       "      <th>proteins_100g</th>\n",
       "      <th>fiber_100g</th>\n",
       "      <th>carbohydrates_100g</th>\n",
       "      <th>sugars_100g</th>\n",
       "      <th>salt_100g</th>\n",
       "      <th>sodium_100g</th>\n",
       "      <th>alcohol_100g</th>\n",
       "      <th>calcium_100g</th>\n",
       "      <th>iron_100g</th>\n",
       "      <th>saturated-fat_100g</th>\n",
       "      <th>trans-fat_100g</th>\n",
       "      <th>country_code</th>\n",
       "    </tr>\n",
       "  </thead>\n",
       "  <tbody>\n",
       "    <tr>\n",
       "      <th>0</th>\n",
       "      <td>NaN</td>\n",
       "      <td>7.0</td>\n",
       "      <td>7.8</td>\n",
       "      <td>NaN</td>\n",
       "      <td>70.1</td>\n",
       "      <td>15.0</td>\n",
       "      <td>1.40</td>\n",
       "      <td>0.551181</td>\n",
       "      <td>NaN</td>\n",
       "      <td>NaN</td>\n",
       "      <td>NaN</td>\n",
       "      <td>3.08</td>\n",
       "      <td>NaN</td>\n",
       "      <td>FRA</td>\n",
       "    </tr>\n",
       "    <tr>\n",
       "      <th>1</th>\n",
       "      <td>NaN</td>\n",
       "      <td>NaN</td>\n",
       "      <td>NaN</td>\n",
       "      <td>NaN</td>\n",
       "      <td>NaN</td>\n",
       "      <td>NaN</td>\n",
       "      <td>NaN</td>\n",
       "      <td>NaN</td>\n",
       "      <td>NaN</td>\n",
       "      <td>NaN</td>\n",
       "      <td>NaN</td>\n",
       "      <td>NaN</td>\n",
       "      <td>NaN</td>\n",
       "      <td>FRA</td>\n",
       "    </tr>\n",
       "    <tr>\n",
       "      <th>2</th>\n",
       "      <td>NaN</td>\n",
       "      <td>0.0</td>\n",
       "      <td>0.2</td>\n",
       "      <td>NaN</td>\n",
       "      <td>4.8</td>\n",
       "      <td>0.4</td>\n",
       "      <td>2.04</td>\n",
       "      <td>0.803150</td>\n",
       "      <td>NaN</td>\n",
       "      <td>NaN</td>\n",
       "      <td>NaN</td>\n",
       "      <td>0.00</td>\n",
       "      <td>NaN</td>\n",
       "      <td>FRA</td>\n",
       "    </tr>\n",
       "    <tr>\n",
       "      <th>3</th>\n",
       "      <td>NaN</td>\n",
       "      <td>NaN</td>\n",
       "      <td>NaN</td>\n",
       "      <td>NaN</td>\n",
       "      <td>NaN</td>\n",
       "      <td>NaN</td>\n",
       "      <td>NaN</td>\n",
       "      <td>NaN</td>\n",
       "      <td>NaN</td>\n",
       "      <td>NaN</td>\n",
       "      <td>NaN</td>\n",
       "      <td>NaN</td>\n",
       "      <td>NaN</td>\n",
       "      <td>FRA</td>\n",
       "    </tr>\n",
       "    <tr>\n",
       "      <th>4</th>\n",
       "      <td>NaN</td>\n",
       "      <td>0.3</td>\n",
       "      <td>0.9</td>\n",
       "      <td>NaN</td>\n",
       "      <td>5.3</td>\n",
       "      <td>3.9</td>\n",
       "      <td>0.42</td>\n",
       "      <td>0.165354</td>\n",
       "      <td>NaN</td>\n",
       "      <td>NaN</td>\n",
       "      <td>NaN</td>\n",
       "      <td>0.10</td>\n",
       "      <td>NaN</td>\n",
       "      <td>FRA</td>\n",
       "    </tr>\n",
       "  </tbody>\n",
       "</table>\n",
       "</div>"
      ],
      "text/plain": [
       "   cholesterol_100g  fat_100g  proteins_100g  fiber_100g  carbohydrates_100g  \\\n",
       "0               NaN       7.0            7.8         NaN                70.1   \n",
       "1               NaN       NaN            NaN         NaN                 NaN   \n",
       "2               NaN       0.0            0.2         NaN                 4.8   \n",
       "3               NaN       NaN            NaN         NaN                 NaN   \n",
       "4               NaN       0.3            0.9         NaN                 5.3   \n",
       "\n",
       "   sugars_100g  salt_100g  sodium_100g  alcohol_100g  calcium_100g  iron_100g  \\\n",
       "0         15.0       1.40     0.551181           NaN           NaN        NaN   \n",
       "1          NaN        NaN          NaN           NaN           NaN        NaN   \n",
       "2          0.4       2.04     0.803150           NaN           NaN        NaN   \n",
       "3          NaN        NaN          NaN           NaN           NaN        NaN   \n",
       "4          3.9       0.42     0.165354           NaN           NaN        NaN   \n",
       "\n",
       "   saturated-fat_100g  trans-fat_100g country_code  \n",
       "0                3.08             NaN          FRA  \n",
       "1                 NaN             NaN          FRA  \n",
       "2                0.00             NaN          FRA  \n",
       "3                 NaN             NaN          FRA  \n",
       "4                0.10             NaN          FRA  "
      ]
     },
     "execution_count": 6,
     "metadata": {},
     "output_type": "execute_result"
    }
   ],
   "source": [
    "desired_columns = [\"cholesterol_100g\",\n",
    "                    \"fat_100g\",\n",
    "                    \"proteins_100g\",\n",
    "                    \"fiber_100g\",\n",
    "                    \"carbohydrates_100g\",\n",
    "                    \"sugars_100g\",\n",
    "                    \"salt_100g\",\n",
    "                    \"sodium_100g\",\n",
    "                    \"alcohol_100g\",\n",
    "                    \"calcium_100g\",\n",
    "                    \"iron_100g\",\n",
    "                    \"saturated-fat_100g\",\n",
    "                    \"trans-fat_100g\",\n",
    "                    \"country_code\"]\n",
    "correlation_df = food_df[desired_columns]\n",
    "correlation_df.head(5)"
   ]
  },
  {
   "cell_type": "code",
   "execution_count": 7,
   "metadata": {},
   "outputs": [],
   "source": [
    "asia = ['AFG', 'ARE', 'ARM', 'BGD', 'BHR', 'BRN', 'CHN','HKG', 'IDN', 'IND','IRN',\n",
    "       'IRQ','ISR', 'JOR','JPN','KAZ','KGZ','KHM','KOR','KWT','LBN','LKA',\n",
    "       'MDV','MMR','MNG','MUS','MWI','MYS','NPL','OMN', 'PAK','PHL',\n",
    "       'QAT','SAU','SGP','SYR','THA','TJK','TLS','TUR','TWN','VNM', 'YEM']\n",
    "\n",
    "europe = ['AIA','ABW', 'ALA', 'ALB', 'AND', 'AUT', 'AZE', 'BEL', 'BGR', 'BIH', 'BLR', \n",
    "          'CHE', 'CYP', 'CZE','DEU','DNK','ESP','EST','EU','FIN','FRA',\n",
    "         'GBR','GEO','GIB','GLP','GRC','HND','HRV','HUN', 'IMN','IOT',\n",
    "         'IRL','ISL','ITA','LIE','LTU','LUX','LVA','MCO','MDA','MKD','MLT',\n",
    "         'MNE','MSR','MTQ','MYT','NLD','NOR','POL','PRT','PYF','REU','ROU',\n",
    "         'RUS','SRB','SVK','SVN','SWE','UKR','VEN', 'XKX']\n",
    "\n",
    "america = ['ARG', 'ATG', 'BOL', 'BRA', 'BRB', 'CAN', 'CHL', 'COL', 'CRI', 'CUB',\n",
    "          'DMA', 'DOM', 'ECU','GTM','GUF','GUY','HTI','JAM','KNA','LCA','MAF',\n",
    "          'MEX','NIC','PAN','PER','PRI','PRY','SLV','SPM','SUR','TTO','URY','USA']\n",
    "\n",
    "africa = ['AGO','BDI','BEN', 'BFA', 'CAF', 'CIV', 'CMR', 'COD','COG','CPV','DJI',\n",
    "          'DZA','EGY','ETH','GAB','GHA','GIN','GNQ','KEN','LBY','MAR','MDG','MLI',\n",
    "          'MOZ','MRT','NAM','NER','NGA','RWA','SEN','SLE','SOM','SWZ','SYC',\n",
    "          'TCD','TGO','TUN','TZA','ZAF']\n",
    "\n",
    "oceania = ['AUS', 'COK', 'FJI','NCL','NZL','VUT','WLF']"
   ]
  },
  {
   "cell_type": "code",
   "execution_count": 8,
   "metadata": {},
   "outputs": [],
   "source": [
    "def GetContinent(country):\n",
    "    if country in asia:\n",
    "        return \"Asia\"\n",
    "    elif country in europe:\n",
    "        return \"Europe\"\n",
    "    elif country in america:\n",
    "        return \"America\"\n",
    "    elif country in africa:\n",
    "        return \"Africa\"\n",
    "    else:\n",
    "        return \"Oceania\""
   ]
  },
  {
   "cell_type": "code",
   "execution_count": 9,
   "metadata": {},
   "outputs": [
    {
     "name": "stderr",
     "output_type": "stream",
     "text": [
      "C:\\Users\\karee\\Anaconda3\\lib\\site-packages\\ipykernel_launcher.py:1: SettingWithCopyWarning: \n",
      "A value is trying to be set on a copy of a slice from a DataFrame.\n",
      "Try using .loc[row_indexer,col_indexer] = value instead\n",
      "\n",
      "See the caveats in the documentation: http://pandas.pydata.org/pandas-docs/stable/indexing.html#indexing-view-versus-copy\n",
      "  \"\"\"Entry point for launching an IPython kernel.\n"
     ]
    }
   ],
   "source": [
    "correlation_df['Continent'] = correlation_df['country_code'].apply(lambda x: GetContinent(x))"
   ]
  },
  {
   "cell_type": "code",
   "execution_count": 10,
   "metadata": {},
   "outputs": [
    {
     "data": {
      "text/html": [
       "<div>\n",
       "<style scoped>\n",
       "    .dataframe tbody tr th:only-of-type {\n",
       "        vertical-align: middle;\n",
       "    }\n",
       "\n",
       "    .dataframe tbody tr th {\n",
       "        vertical-align: top;\n",
       "    }\n",
       "\n",
       "    .dataframe thead th {\n",
       "        text-align: right;\n",
       "    }\n",
       "</style>\n",
       "<table border=\"1\" class=\"dataframe\">\n",
       "  <thead>\n",
       "    <tr style=\"text-align: right;\">\n",
       "      <th></th>\n",
       "      <th>cholesterol_100g</th>\n",
       "      <th>fat_100g</th>\n",
       "      <th>proteins_100g</th>\n",
       "      <th>fiber_100g</th>\n",
       "      <th>carbohydrates_100g</th>\n",
       "      <th>sugars_100g</th>\n",
       "      <th>salt_100g</th>\n",
       "      <th>sodium_100g</th>\n",
       "      <th>alcohol_100g</th>\n",
       "      <th>calcium_100g</th>\n",
       "      <th>iron_100g</th>\n",
       "      <th>saturated-fat_100g</th>\n",
       "      <th>trans-fat_100g</th>\n",
       "      <th>country_code</th>\n",
       "      <th>Continent</th>\n",
       "    </tr>\n",
       "  </thead>\n",
       "  <tbody>\n",
       "    <tr>\n",
       "      <th>0</th>\n",
       "      <td>NaN</td>\n",
       "      <td>7.0</td>\n",
       "      <td>7.8</td>\n",
       "      <td>NaN</td>\n",
       "      <td>70.1</td>\n",
       "      <td>15.0</td>\n",
       "      <td>1.40</td>\n",
       "      <td>0.551181</td>\n",
       "      <td>NaN</td>\n",
       "      <td>NaN</td>\n",
       "      <td>NaN</td>\n",
       "      <td>3.08</td>\n",
       "      <td>NaN</td>\n",
       "      <td>FRA</td>\n",
       "      <td>Europe</td>\n",
       "    </tr>\n",
       "    <tr>\n",
       "      <th>1</th>\n",
       "      <td>NaN</td>\n",
       "      <td>NaN</td>\n",
       "      <td>NaN</td>\n",
       "      <td>NaN</td>\n",
       "      <td>NaN</td>\n",
       "      <td>NaN</td>\n",
       "      <td>NaN</td>\n",
       "      <td>NaN</td>\n",
       "      <td>NaN</td>\n",
       "      <td>NaN</td>\n",
       "      <td>NaN</td>\n",
       "      <td>NaN</td>\n",
       "      <td>NaN</td>\n",
       "      <td>FRA</td>\n",
       "      <td>Europe</td>\n",
       "    </tr>\n",
       "    <tr>\n",
       "      <th>2</th>\n",
       "      <td>NaN</td>\n",
       "      <td>0.0</td>\n",
       "      <td>0.2</td>\n",
       "      <td>NaN</td>\n",
       "      <td>4.8</td>\n",
       "      <td>0.4</td>\n",
       "      <td>2.04</td>\n",
       "      <td>0.803150</td>\n",
       "      <td>NaN</td>\n",
       "      <td>NaN</td>\n",
       "      <td>NaN</td>\n",
       "      <td>0.00</td>\n",
       "      <td>NaN</td>\n",
       "      <td>FRA</td>\n",
       "      <td>Europe</td>\n",
       "    </tr>\n",
       "    <tr>\n",
       "      <th>3</th>\n",
       "      <td>NaN</td>\n",
       "      <td>NaN</td>\n",
       "      <td>NaN</td>\n",
       "      <td>NaN</td>\n",
       "      <td>NaN</td>\n",
       "      <td>NaN</td>\n",
       "      <td>NaN</td>\n",
       "      <td>NaN</td>\n",
       "      <td>NaN</td>\n",
       "      <td>NaN</td>\n",
       "      <td>NaN</td>\n",
       "      <td>NaN</td>\n",
       "      <td>NaN</td>\n",
       "      <td>FRA</td>\n",
       "      <td>Europe</td>\n",
       "    </tr>\n",
       "    <tr>\n",
       "      <th>4</th>\n",
       "      <td>NaN</td>\n",
       "      <td>0.3</td>\n",
       "      <td>0.9</td>\n",
       "      <td>NaN</td>\n",
       "      <td>5.3</td>\n",
       "      <td>3.9</td>\n",
       "      <td>0.42</td>\n",
       "      <td>0.165354</td>\n",
       "      <td>NaN</td>\n",
       "      <td>NaN</td>\n",
       "      <td>NaN</td>\n",
       "      <td>0.10</td>\n",
       "      <td>NaN</td>\n",
       "      <td>FRA</td>\n",
       "      <td>Europe</td>\n",
       "    </tr>\n",
       "  </tbody>\n",
       "</table>\n",
       "</div>"
      ],
      "text/plain": [
       "   cholesterol_100g  fat_100g  proteins_100g  fiber_100g  carbohydrates_100g  \\\n",
       "0               NaN       7.0            7.8         NaN                70.1   \n",
       "1               NaN       NaN            NaN         NaN                 NaN   \n",
       "2               NaN       0.0            0.2         NaN                 4.8   \n",
       "3               NaN       NaN            NaN         NaN                 NaN   \n",
       "4               NaN       0.3            0.9         NaN                 5.3   \n",
       "\n",
       "   sugars_100g  salt_100g  sodium_100g  alcohol_100g  calcium_100g  iron_100g  \\\n",
       "0         15.0       1.40     0.551181           NaN           NaN        NaN   \n",
       "1          NaN        NaN          NaN           NaN           NaN        NaN   \n",
       "2          0.4       2.04     0.803150           NaN           NaN        NaN   \n",
       "3          NaN        NaN          NaN           NaN           NaN        NaN   \n",
       "4          3.9       0.42     0.165354           NaN           NaN        NaN   \n",
       "\n",
       "   saturated-fat_100g  trans-fat_100g country_code Continent  \n",
       "0                3.08             NaN          FRA    Europe  \n",
       "1                 NaN             NaN          FRA    Europe  \n",
       "2                0.00             NaN          FRA    Europe  \n",
       "3                 NaN             NaN          FRA    Europe  \n",
       "4                0.10             NaN          FRA    Europe  "
      ]
     },
     "execution_count": 10,
     "metadata": {},
     "output_type": "execute_result"
    }
   ],
   "source": [
    "correlation_df.head(5)"
   ]
  },
  {
   "cell_type": "code",
   "execution_count": 11,
   "metadata": {},
   "outputs": [
    {
     "data": {
      "text/html": [
       "<div>\n",
       "<style scoped>\n",
       "    .dataframe tbody tr th:only-of-type {\n",
       "        vertical-align: middle;\n",
       "    }\n",
       "\n",
       "    .dataframe tbody tr th {\n",
       "        vertical-align: top;\n",
       "    }\n",
       "\n",
       "    .dataframe thead th {\n",
       "        text-align: right;\n",
       "    }\n",
       "</style>\n",
       "<table border=\"1\" class=\"dataframe\">\n",
       "  <thead>\n",
       "    <tr style=\"text-align: right;\">\n",
       "      <th></th>\n",
       "      <th>cholesterol_100g</th>\n",
       "      <th>fat_100g</th>\n",
       "      <th>proteins_100g</th>\n",
       "      <th>fiber_100g</th>\n",
       "      <th>carbohydrates_100g</th>\n",
       "      <th>sugars_100g</th>\n",
       "      <th>salt_100g</th>\n",
       "      <th>sodium_100g</th>\n",
       "      <th>alcohol_100g</th>\n",
       "      <th>calcium_100g</th>\n",
       "      <th>iron_100g</th>\n",
       "      <th>saturated-fat_100g</th>\n",
       "      <th>trans-fat_100g</th>\n",
       "    </tr>\n",
       "    <tr>\n",
       "      <th>Continent</th>\n",
       "      <th></th>\n",
       "      <th></th>\n",
       "      <th></th>\n",
       "      <th></th>\n",
       "      <th></th>\n",
       "      <th></th>\n",
       "      <th></th>\n",
       "      <th></th>\n",
       "      <th></th>\n",
       "      <th></th>\n",
       "      <th></th>\n",
       "      <th></th>\n",
       "      <th></th>\n",
       "    </tr>\n",
       "  </thead>\n",
       "  <tbody>\n",
       "    <tr>\n",
       "      <th>Africa</th>\n",
       "      <td>0.368456</td>\n",
       "      <td>1.189971e+04</td>\n",
       "      <td>5.025045e+03</td>\n",
       "      <td>1094.667000</td>\n",
       "      <td>2.788392e+04</td>\n",
       "      <td>1.192522e+04</td>\n",
       "      <td>704.946753</td>\n",
       "      <td>277.538045</td>\n",
       "      <td>202.290</td>\n",
       "      <td>70.077083</td>\n",
       "      <td>102.176990</td>\n",
       "      <td>4.232851e+03</td>\n",
       "      <td>2.92560</td>\n",
       "    </tr>\n",
       "    <tr>\n",
       "      <th>America</th>\n",
       "      <td>2644.234264</td>\n",
       "      <td>2.182648e+06</td>\n",
       "      <td>1.201411e+06</td>\n",
       "      <td>420084.048912</td>\n",
       "      <td>5.943126e+06</td>\n",
       "      <td>2.818083e+06</td>\n",
       "      <td>317453.945393</td>\n",
       "      <td>133125.873664</td>\n",
       "      <td>1045.779</td>\n",
       "      <td>13767.102421</td>\n",
       "      <td>597.454082</td>\n",
       "      <td>7.358706e+05</td>\n",
       "      <td>9599.36218</td>\n",
       "    </tr>\n",
       "    <tr>\n",
       "      <th>Asia</th>\n",
       "      <td>1.228020</td>\n",
       "      <td>1.185701e+04</td>\n",
       "      <td>6.154729e+03</td>\n",
       "      <td>1343.487049</td>\n",
       "      <td>3.269679e+04</td>\n",
       "      <td>1.353373e+04</td>\n",
       "      <td>1661.329107</td>\n",
       "      <td>1157.552401</td>\n",
       "      <td>354.940</td>\n",
       "      <td>139.932034</td>\n",
       "      <td>28.164882</td>\n",
       "      <td>4.346569e+03</td>\n",
       "      <td>73.09040</td>\n",
       "    </tr>\n",
       "    <tr>\n",
       "      <th>Europe</th>\n",
       "      <td>18.736218</td>\n",
       "      <td>5.900199e+06</td>\n",
       "      <td>3.612682e+06</td>\n",
       "      <td>421630.218960</td>\n",
       "      <td>1.195858e+07</td>\n",
       "      <td>6.047837e+06</td>\n",
       "      <td>554465.821215</td>\n",
       "      <td>219022.250935</td>\n",
       "      <td>59997.506</td>\n",
       "      <td>2228.581860</td>\n",
       "      <td>152.877637</td>\n",
       "      <td>2.278717e+06</td>\n",
       "      <td>174.24700</td>\n",
       "    </tr>\n",
       "    <tr>\n",
       "      <th>Oceania</th>\n",
       "      <td>0.318670</td>\n",
       "      <td>1.539999e+04</td>\n",
       "      <td>8.263073e+03</td>\n",
       "      <td>1884.440004</td>\n",
       "      <td>3.552657e+04</td>\n",
       "      <td>1.870184e+04</td>\n",
       "      <td>1801.474817</td>\n",
       "      <td>827.116438</td>\n",
       "      <td>178.800</td>\n",
       "      <td>31.217820</td>\n",
       "      <td>0.308999</td>\n",
       "      <td>6.044348e+03</td>\n",
       "      <td>23.35910</td>\n",
       "    </tr>\n",
       "  </tbody>\n",
       "</table>\n",
       "</div>"
      ],
      "text/plain": [
       "           cholesterol_100g      fat_100g  proteins_100g     fiber_100g  \\\n",
       "Continent                                                                 \n",
       "Africa             0.368456  1.189971e+04   5.025045e+03    1094.667000   \n",
       "America         2644.234264  2.182648e+06   1.201411e+06  420084.048912   \n",
       "Asia               1.228020  1.185701e+04   6.154729e+03    1343.487049   \n",
       "Europe            18.736218  5.900199e+06   3.612682e+06  421630.218960   \n",
       "Oceania            0.318670  1.539999e+04   8.263073e+03    1884.440004   \n",
       "\n",
       "           carbohydrates_100g   sugars_100g      salt_100g    sodium_100g  \\\n",
       "Continent                                                                   \n",
       "Africa           2.788392e+04  1.192522e+04     704.946753     277.538045   \n",
       "America          5.943126e+06  2.818083e+06  317453.945393  133125.873664   \n",
       "Asia             3.269679e+04  1.353373e+04    1661.329107    1157.552401   \n",
       "Europe           1.195858e+07  6.047837e+06  554465.821215  219022.250935   \n",
       "Oceania          3.552657e+04  1.870184e+04    1801.474817     827.116438   \n",
       "\n",
       "           alcohol_100g  calcium_100g   iron_100g  saturated-fat_100g  \\\n",
       "Continent                                                               \n",
       "Africa          202.290     70.077083  102.176990        4.232851e+03   \n",
       "America        1045.779  13767.102421  597.454082        7.358706e+05   \n",
       "Asia            354.940    139.932034   28.164882        4.346569e+03   \n",
       "Europe        59997.506   2228.581860  152.877637        2.278717e+06   \n",
       "Oceania         178.800     31.217820    0.308999        6.044348e+03   \n",
       "\n",
       "           trans-fat_100g  \n",
       "Continent                  \n",
       "Africa            2.92560  \n",
       "America        9599.36218  \n",
       "Asia             73.09040  \n",
       "Europe          174.24700  \n",
       "Oceania          23.35910  "
      ]
     },
     "execution_count": 11,
     "metadata": {},
     "output_type": "execute_result"
    }
   ],
   "source": [
    "continents_df = correlation_df.groupby(correlation_df['Continent']).sum()\n",
    "continents_df.head()"
   ]
  },
  {
   "cell_type": "code",
   "execution_count": 12,
   "metadata": {},
   "outputs": [
    {
     "data": {
      "text/plain": [
       "(array([0.5, 1.5, 2.5, 3.5, 4.5]), <a list of 5 Text yticklabel objects>)"
      ]
     },
     "execution_count": 12,
     "metadata": {},
     "output_type": "execute_result"
    },
    {
     "data": {
      "image/png": "[encoded data removed]",
      "text/plain": [
       "<Figure size 432x288 with 2 Axes>"
      ]
     },
     "metadata": {
      "needs_background": "light"
     },
     "output_type": "display_data"
    }
   ],
   "source": [
    "ax = sns.heatmap(continents_df, cmap=\"Blues\")\n",
    "plt.yticks(rotation=0) "
   ]
  },
  {
   "cell_type": "code",
   "execution_count": 19,
   "metadata": {},
   "outputs": [
    {
     "data": {
      "image/png": "[encoded data removed]",
      "text/plain": [
       "<Figure size 1800x1800 with 14 Axes>"
      ]
     },
     "metadata": {
      "needs_background": "light"
     },
     "output_type": "display_data"
    }
   ],
   "source": [
    "f, axes = plt.subplots(7, 2, figsize=(25, 25), sharex=True)\n",
    "\n",
    "sns.barplot(x=continents_df.index, y=continents_df[\"cholesterol_100g\"], ax=axes[0,0])\n",
    "sns.barplot(x=continents_df.index, y=continents_df[\"fat_100g\"], ax=axes[0,1])\n",
    "sns.barplot(x=continents_df.index, y=continents_df[\"proteins_100g\"], ax=axes[1,0])\n",
    "sns.barplot(x=continents_df.index, y=continents_df[\"fiber_100g\"], ax=axes[1,1])\n",
    "sns.barplot(x=continents_df.index, y=continents_df[\"carbohydrates_100g\"], ax=axes[2,0])\n",
    "sns.barplot(x=continents_df.index, y=continents_df[\"sugars_100g\"], ax=axes[2,1])\n",
    "sns.barplot(x=continents_df.index, y=continents_df[\"salt_100g\"], ax=axes[3,0])\n",
    "sns.barplot(x=continents_df.index, y=continents_df[\"sodium_100g\"], ax=axes[3,1])\n",
    "sns.barplot(x=continents_df.index, y=continents_df[\"alcohol_100g\"], ax=axes[4,0])\n",
    "sns.barplot(x=continents_df.index, y=continents_df[\"calcium_100g\"], ax=axes[4,1])\n",
    "sns.barplot(x=continents_df.index, y=continents_df[\"iron_100g\"], ax=axes[5,0])\n",
    "sns.barplot(x=continents_df.index, y=continents_df[\"saturated-fat_100g\"], ax=axes[5,1])\n",
    "sns.barplot(x=continents_df.index, y=continents_df[\"trans-fat_100g\"], ax=axes[6,0])\n",
    "\n",
    "plt.show()"
   ]
  },
  {
   "cell_type": "code",
   "execution_count": 27,
   "metadata": {},
   "outputs": [],
   "source": [
    "europe_df = correlation_df[correlation_df['Continent'] == \"Europe\"].groupby(correlation_df['country_code']).sum()\n",
    "africa_df = correlation_df[correlation_df['Continent'] == \"Africa\"].groupby(correlation_df['country_code']).sum()\n",
    "asia_df = correlation_df[correlation_df['Continent'] == \"Asia\"].groupby(correlation_df['country_code']).sum()\n",
    "america_df = correlation_df[correlation_df['Continent'] == \"America\"].groupby(correlation_df['country_code']).sum()\n",
    "oceania_df = correlation_df[correlation_df['Continent'] == \"Oceania\"].groupby(correlation_df['country_code']).sum()"
   ]
  },
  {
   "cell_type": "code",
   "execution_count": 28,
   "metadata": {},
   "outputs": [
    {
     "name": "stdout",
     "output_type": "stream",
     "text": [
      "Total countries in Europe: 61\n",
      "Total countries in Africa: 39\n",
      "Total countries in Asia: 43\n",
      "Total countries in America: 33\n",
      "Total countries in Oceania: 7\n"
     ]
    }
   ],
   "source": [
    "print(\"Total countries in Europe:\", europe_df.shape[0])\n",
    "print(\"Total countries in Africa:\", africa_df.shape[0])\n",
    "print(\"Total countries in Asia:\", asia_df.shape[0])\n",
    "print(\"Total countries in America:\", america_df.shape[0])\n",
    "print(\"Total countries in Oceania:\", oceania_df.shape[0])"
   ]
  },
  {
   "cell_type": "code",
   "execution_count": 42,
   "metadata": {},
   "outputs": [],
   "source": [
    "def before_plot (df):\n",
    "    cholesterol = df.loc[(df[\"cholesterol_100g\"] != 0.0 )][[\"cholesterol_100g\"]]\n",
    "    fat = df.loc[(df[\"fat_100g\"] != 0.0 )][[\"fat_100g\"]]\n",
    "    proteins = df.loc[(df[\"proteins_100g\"] != 0.0 )][[\"proteins_100g\"]]\n",
    "    fiber = df.loc[(df[\"fiber_100g\"] != 0.0 )][[\"fiber_100g\"]]\n",
    "    carbohydrates = df.loc[(df[\"carbohydrates_100g\"] != 0.0 )][[\"carbohydrates_100g\"]]\n",
    "    sugars = df.loc[(df[\"sugars_100g\"] != 0.0 )][[\"sugars_100g\"]]\n",
    "    salt = df.loc[(df[\"salt_100g\"] != 0.0 )][[\"salt_100g\"]]\n",
    "    sodium = df.loc[(df[\"sodium_100g\"] != 0.0 )][[\"sodium_100g\"]]\n",
    "    alcohol = df.loc[(df[\"alcohol_100g\"] != 0.0 )][[\"alcohol_100g\"]]\n",
    "    calcium = df.loc[(df[\"calcium_100g\"] != 0.0 )][[\"calcium_100g\"]]\n",
    "    iron = df.loc[(df[\"iron_100g\"] != 0.0 )][[\"iron_100g\"]]\n",
    "    saturated_fat = df.loc[(df[\"saturated-fat_100g\"] != 0.0 )][[\"saturated-fat_100g\"]]\n",
    "    trans_fat = df.loc[(df[\"trans-fat_100g\"] != 0.0 )][[\"trans-fat_100g\"]]\n",
    "    \n",
    "    return cholesterol.sort_values(\"cholesterol_100g\", ascending=True),\\\n",
    "            fat.sort_values(\"fat_100g\", ascending=True),\\\n",
    "            proteins.sort_values(\"proteins_100g\", ascending=True),\\\n",
    "            fiber.sort_values(\"fiber_100g\", ascending=True),\\\n",
    "            carbohydrates.sort_values(\"carbohydrates_100g\", ascending=True),\\\n",
    "            sugars.sort_values(\"sugars_100g\", ascending=True),\\\n",
    "            salt.sort_values(\"salt_100g\", ascending=True),\\\n",
    "            sodium.sort_values(\"sodium_100g\", ascending=True),\\\n",
    "            alcohol.sort_values(\"alcohol_100g\", ascending=True),\\\n",
    "            calcium.sort_values(\"calcium_100g\", ascending=True),\\\n",
    "            iron.sort_values(\"iron_100g\", ascending=True),\\\n",
    "            saturated_fat.sort_values(\"saturated-fat_100g\", ascending=True),\\\n",
    "            trans_fat.sort_values(\"trans-fat_100g\", ascending=True)\n"
   ]
  },
  {
   "cell_type": "code",
   "execution_count": 37,
   "metadata": {},
   "outputs": [],
   "source": [
    "def plot_barchar (df, column, label_name, color_code, color_bar, fig_size):\n",
    "    sns.set(style=\"whitegrid\") #style of the axes\n",
    "    \n",
    "    # Initialize the matplotlib figure\n",
    "    f, ax = plt.subplots(figsize = fig_size)\n",
    "    \n",
    "    # Plot the total crashes\n",
    "    sns.set_color_codes(color_code)\n",
    "    ax = sns.barplot(x=df[column], y=df.index, label=label_name, color=color_bar)\n",
    "    \n",
    "    # Add a legend and informative axis label\n",
    "    ax.legend(ncol=2, loc=\"upper right\", frameon=True)\n",
    "    ax.set(xlim=(0, df[column].max()), ylabel=\"countries\", xlabel=label_name)\n",
    "    sns.despine(left=True, bottom=True)"
   ]
  },
  {
   "cell_type": "code",
   "execution_count": 43,
   "metadata": {},
   "outputs": [],
   "source": [
    "cholesterol, fat, proteins, fiber, carbohydrates, sugars, salt, sodium, alcohol, calcium, iron, saturated_fat, trans_fat = before_plot(europe_df)"
   ]
  },
  {
   "cell_type": "code",
   "execution_count": 51,
   "metadata": {},
   "outputs": [
    {
     "data": {
      "image/png": "[encoded data removed]",
      "text/plain": [
       "<Figure size 1800x3240 with 13 Axes>"
      ]
     },
     "metadata": {},
     "output_type": "display_data"
    }
   ],
   "source": [
    "f, axes = plt.subplots(13, 1, figsize=(25, 45), sharex=False)\n",
    "\n",
    "sns.barplot(x=cholesterol.index, y=cholesterol[\"cholesterol_100g\"], color=\"yellow\", ax=axes[0]) \n",
    "sns.barplot(x=fat.index, y=fat[\"fat_100g\"], color=\"red\",ax=axes[1])\n",
    "sns.barplot(x=proteins.index, y=proteins[\"proteins_100g\"], color=\"green\",ax=axes[2]) \n",
    "sns.barplot(x=fiber.index, y=fiber[\"fiber_100g\"], color=\"violet\",ax=axes[3])\n",
    "sns.barplot(x=carbohydrates.index, y=carbohydrates[\"carbohydrates_100g\"], color=\"blue\",ax=axes[4])\n",
    "sns.barplot(x=sugars.index, y=sugars[\"sugars_100g\"], color=\"pink\",ax=axes[5]) \n",
    "sns.barplot(x=salt.index, y=salt[\"salt_100g\"], color=\"grey\",ax=axes[6])\n",
    "sns.barplot(x=sodium.index, y=sodium[\"sodium_100g\"], color=\"purple\", ax=axes[7])\n",
    "sns.barplot(x=alcohol.index, y=alcohol[\"alcohol_100g\"], color=\"orange\", ax=axes[8])\n",
    "sns.barplot(x=calcium.index, y=calcium[\"calcium_100g\"], color=\"g\", ax=axes[9]) \n",
    "sns.barplot(x=iron.index, y=iron[\"iron_100g\"], color=\"salmon\", ax=axes[10])\n",
    "sns.barplot(x=saturated_fat.index, y=saturated_fat[\"saturated-fat_100g\"],color=\"brown\", ax=axes[11])\n",
    "sns.barplot(x=trans_fat.index, y=trans_fat[\"trans-fat_100g\"], color=\"black\", ax=axes[12])\n",
    "\n",
    "plt.show()"
   ]
  },
  {
   "cell_type": "code",
   "execution_count": null,
   "metadata": {},
   "outputs": [],
   "source": [
    "countries_df = correlation_df.groupby(correlation_df['country_code']).sum()\n",
    "countries_df.head()"
   ]
  }
 ],
 "metadata": {
  "kernelspec": {
   "display_name": "Python 3",
   "language": "python",
   "name": "python3"
  },
  "language_info": {
   "codemirror_mode": {
    "name": "ipython",
    "version": 3
   },
   "file_extension": ".py",
   "mimetype": "text/x-python",
   "name": "python",
   "nbconvert_exporter": "python",
   "pygments_lexer": "ipython3",
   "version": "3.7.0"
  }
 },
 "nbformat": 4,
 "nbformat_minor": 2
}
